{
 "cells": [
  {
   "cell_type": "code",
   "execution_count": 9,
   "metadata": {},
   "outputs": [],
   "source": [
    "# import libraries\n",
    "import pandas as pd\n",
    "import numpy as np\n",
    "import sqlite3"
   ]
  },
  {
   "cell_type": "code",
   "execution_count": 10,
   "metadata": {},
   "outputs": [],
   "source": [
    "#import data from the cleaned CSV files\n",
    "movieGross = pd.read_csv('cleanedData/movieGrossClean.csv')\n",
    "movieBudgets = pd.read_csv('cleanedData/movieBudgets.csv')\n",
    "movieInfo = pd.read_csv('cleanedData/movieInfoClean.csv')\n",
    "reviews = pd.read_csv('cleanedData/reviewsClean.csv')\n",
    "tmdbMovies = pd.read_csv('cleanedData/tmdbMoviesClean.csv')"
   ]
  },
  {
   "cell_type": "code",
   "execution_count": 19,
   "metadata": {},
   "outputs": [],
   "source": [
    "# Connect to sql database\n",
    "conn = sqlite3.connect('zippedData/im.db')"
   ]
  },
  {
   "cell_type": "code",
   "execution_count": 23,
   "metadata": {},
   "outputs": [],
   "source": [
    "# Creates a Return on Investments(ROI) column in movieBudgets by subtracting worldwide gross by production budget\n",
    "movieBudgets['ROI'] = movieBudgets['worldwide_gross']-movieBudgets['production_budget']"
   ]
  },
  {
   "cell_type": "code",
   "execution_count": null,
   "metadata": {},
   "outputs": [],
   "source": []
  }
 ],
 "metadata": {
  "kernelspec": {
   "display_name": "Python (learn-env)",
   "language": "python",
   "name": "learn-env"
  },
  "language_info": {
   "codemirror_mode": {
    "name": "ipython",
    "version": 3
   },
   "file_extension": ".py",
   "mimetype": "text/x-python",
   "name": "python",
   "nbconvert_exporter": "python",
   "pygments_lexer": "ipython3",
   "version": "3.8.5"
  }
 },
 "nbformat": 4,
 "nbformat_minor": 4
}
