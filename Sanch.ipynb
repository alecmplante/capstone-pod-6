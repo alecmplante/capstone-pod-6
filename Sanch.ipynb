{
 "cells": [
  {
   "cell_type": "markdown",
   "metadata": {},
   "source": [
    "# Cleaning movieBudgets"
   ]
  },
  {
   "cell_type": "code",
   "execution_count": null,
   "metadata": {},
   "outputs": [],
   "source": [
    "import pandas as pd\n",
    "import numpy as np\n",
    "import sqlite3\n"
   ]
  },
  {
   "cell_type": "markdown",
   "metadata": {},
   "source": [
    "### Unzip Data\n",
    "This section is used to unzip data from the zippedData folder and place it into the new data folder"
   ]
  },
  {
   "cell_type": "code",
   "execution_count": null,
   "metadata": {},
   "outputs": [],
   "source": [
    "#extract im.db zip file\n",
    "import zipfile\n",
    "with zipfile.ZipFile('zippedData/im.db.zip', 'r') as zip_ref:\n",
    "    zip_ref.extractall('data/')\n",
    "\n",
    "# unzip the gz files \n",
    "import gzip\n",
    "import shutil\n",
    "\n",
    "# unzip bom.movie_gross\n",
    "with gzip.open('zippedData/bom.movie_gross.csv.gz', 'rb') as f_in:\n",
    "    with open('data/bom.movie_gross.csv', 'wb') as f_out:\n",
    "        shutil.copyfileobj(f_in, f_out)\n",
    "        \n",
    "# unzip rt.movie_info.tsv\n",
    "with gzip.open('zippedData/rt.movie_info.tsv.gz', 'rb') as f_in:\n",
    "    with open('data/rt.movie_info.tsv', 'wb') as f_out:\n",
    "        shutil.copyfileobj(f_in, f_out)\n",
    "        \n",
    "# unzip rt.reviews.tsv\n",
    "with gzip.open('zippedData/rt.reviews.tsv.gz', 'rb') as f_in:\n",
    "    with open('data/rt.reviews.tsv', 'wb') as f_out:\n",
    "        shutil.copyfileobj(f_in, f_out)\n",
    "        \n",
    "# unzip tmdb.movies.csv\n",
    "with gzip.open('zippedData/tmdb.movies.csv.gz', 'rb') as f_in:\n",
    "    with open('data/tmdb.movies.csv', 'wb') as f_out:\n",
    "        shutil.copyfileobj(f_in, f_out)\n",
    "        \n",
    "# unzip tn.movie_budgets.csv\n",
    "with gzip.open('zippedData/tn.movie_budgets.csv.gz', 'rb') as f_in:\n",
    "    with open('data/tn.movie_budgets.csv', 'wb') as f_out:\n",
    "        shutil.copyfileobj(f_in, f_out)"
   ]
  },
  {
   "cell_type": "markdown",
   "metadata": {},
   "source": [
    "### Import Data and Connect to Database"
   ]
  },
  {
   "cell_type": "code",
   "execution_count": null,
   "metadata": {},
   "outputs": [],
   "source": [
    "# import data as \n",
    "movieGross = pd.read_csv('data/bom.movie_gross.csv')\n",
    "tmdbMovies = pd.read_csv('data/tmdb.movies.csv')\n",
    "movieBudgets = pd.read_csv('data/tn.movie_budgets.csv')\n",
    "movieInfo = pd.read_csv('data/rt.movie_info.tsv', sep = '\\t', index_col = 0)\n",
    "reviews = pd.read_csv('data/rt.reviews.tsv', sep = '\\t', encoding= 'latin1')"
   ]
  },
  {
   "cell_type": "code",
   "execution_count": null,
   "metadata": {},
   "outputs": [],
   "source": [
    "# Connect to sql database\n",
    "conn = sqlite3.connect('data/im.db')"
   ]
  },
  {
   "cell_type": "code",
   "execution_count": null,
   "metadata": {},
   "outputs": [],
   "source": [
    "# Preview the dataset to get a better idea of the data that we are working with\n",
    "movieBudgets.head()"
   ]
  },
  {
   "cell_type": "code",
   "execution_count": null,
   "metadata": {},
   "outputs": [],
   "source": [
    "movieBudgets.info()"
   ]
  },
  {
   "cell_type": "markdown",
   "metadata": {},
   "source": [
    "The only problems with the dataset seem to be regarding types.\n",
    "- release_date should be of type datetime\n",
    "- production_budget, domestic_gross, and worldwide_gross should be of type int"
   ]
  },
  {
   "cell_type": "code",
   "execution_count": null,
   "metadata": {},
   "outputs": [],
   "source": [
    "#Convert release_date to datetime\n",
    "movieBudgets[\"release_date\"] = pd.to_datetime(movieBudgets[\"release_date\"])"
   ]
  },
  {
   "cell_type": "code",
   "execution_count": null,
   "metadata": {},
   "outputs": [],
   "source": [
    "#for each column, remove the '$' and ',' for each entry and convert to an int\n",
    "movieBudgets[\"production_budget\"] = movieBudgets[\"production_budget\"].str.replace('$','').str.replace(',','').astype(int)\n",
    "movieBudgets[\"domestic_gross\"]    = movieBudgets[\"domestic_gross\"].str.replace('$','').str.replace(',','').astype(int)\n",
    "movieBudgets[\"worldwide_gross\"]   = movieBudgets[\"worldwide_gross\"].str.replace('$','').str.replace(',','').astype(np.int64)"
   ]
  },
  {
   "cell_type": "code",
   "execution_count": null,
   "metadata": {},
   "outputs": [],
   "source": [
    "#make sure types are reflected in dataframe\n",
    "movieBudgets.info()"
   ]
  },
  {
   "cell_type": "code",
   "execution_count": null,
   "metadata": {},
   "outputs": [],
   "source": [
    "#take a look at the new data\n",
    "movieBudgets.head()"
   ]
  },
  {
   "cell_type": "code",
   "execution_count": null,
   "metadata": {},
   "outputs": [],
   "source": [
    "# Export movieBudgets as csv\n",
    "movieBudgets.to_csv('cleanedData/movieBudgets.csv')"
   ]
  }
 ],
 "metadata": {
  "kernelspec": {
   "display_name": "Python (learn-env)",
   "language": "python",
   "name": "learn-env"
  },
  "language_info": {
   "codemirror_mode": {
    "name": "ipython",
    "version": 3
   },
   "file_extension": ".py",
   "mimetype": "text/x-python",
   "name": "python",
   "nbconvert_exporter": "python",
   "pygments_lexer": "ipython3",
   "version": "3.8.5"
  }
 },
 "nbformat": 4,
 "nbformat_minor": 4
}
