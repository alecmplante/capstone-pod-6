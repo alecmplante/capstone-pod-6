{
 "cells": [
  {
   "cell_type": "code",
   "execution_count": 1,
   "metadata": {},
   "outputs": [],
   "source": [
    "import pandas as pd\n",
    "import numpy as np\n",
    "import sqlite3"
   ]
  },
  {
   "cell_type": "code",
   "execution_count": 2,
   "metadata": {},
   "outputs": [],
   "source": [
    "movieGross = pd.read_csv('cleanedData/movieGrossClean.csv')\n",
    "tmdbMovies = pd.read_csv('cleanedData/tmdbMoviesClean.csv')\n",
    "movieBudgets = pd.read_csv('cleanedData/movieBudgets.csv')\n",
    "movieInfo = pd.read_csv('cleanedData/movieInfoClean.csv', index_col = 0)\n",
    "reviews = pd.read_csv('cleanedData/reviewsClean.csv')\n",
    "# Connect to sql database\n",
    "conn = sqlite3.connect('data/im.db')"
   ]
  },
  {
   "cell_type": "code",
   "execution_count": null,
   "metadata": {},
   "outputs": [],
   "source": []
  }
 ],
 "metadata": {
  "kernelspec": {
   "display_name": "Python (learn-env)",
   "language": "python",
   "name": "learn-env"
  },
  "language_info": {
   "codemirror_mode": {
    "name": "ipython",
    "version": 3
   },
   "file_extension": ".py",
   "mimetype": "text/x-python",
   "name": "python",
   "nbconvert_exporter": "python",
   "pygments_lexer": "ipython3",
   "version": "3.8.5"
  }
 },
 "nbformat": 4,
 "nbformat_minor": 4
}
