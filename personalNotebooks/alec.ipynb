{
 "cells": [
  {
   "cell_type": "code",
   "execution_count": 1,
   "metadata": {},
   "outputs": [],
   "source": [
    "# import libraries\n",
    "import pandas as pd\n",
    "import numpy as np\n",
    "import sqlite3\n",
    "import matplotlib.pyplot as plt\n",
    "import seaborn as sns\n",
    "import scipy.stats as stats"
   ]
  },
  {
   "cell_type": "code",
   "execution_count": 2,
   "metadata": {},
   "outputs": [],
   "source": [
    "#import data from the cleaned CSV files\n",
    "movieGross = pd.read_csv('cleanedData/movieGrossClean.csv')\n",
    "movieBudgets = pd.read_csv('cleanedData/movieBudgets.csv')\n",
    "movieInfo = pd.read_csv('cleanedData/movieInfoClean.csv')\n",
    "reviews = pd.read_csv('cleanedData/reviewsClean.csv')\n",
    "tmdbMovies = pd.read_csv('cleanedData/tmdbMoviesClean.csv')"
   ]
  },
  {
   "cell_type": "code",
   "execution_count": 3,
   "metadata": {},
   "outputs": [],
   "source": [
    "# Connect to sql database\n",
    "conn = sqlite3.connect('data/im.db')"
   ]
  },
  {
   "cell_type": "code",
   "execution_count": 4,
   "metadata": {},
   "outputs": [
    {
     "data": {
      "text/html": [
       "<div>\n",
       "<style scoped>\n",
       "    .dataframe tbody tr th:only-of-type {\n",
       "        vertical-align: middle;\n",
       "    }\n",
       "\n",
       "    .dataframe tbody tr th {\n",
       "        vertical-align: top;\n",
       "    }\n",
       "\n",
       "    .dataframe thead th {\n",
       "        text-align: right;\n",
       "    }\n",
       "</style>\n",
       "<table border=\"1\" class=\"dataframe\">\n",
       "  <thead>\n",
       "    <tr style=\"text-align: right;\">\n",
       "      <th></th>\n",
       "      <th>Unnamed: 0</th>\n",
       "      <th>title</th>\n",
       "      <th>studio</th>\n",
       "      <th>domestic_gross</th>\n",
       "      <th>foreign_gross</th>\n",
       "      <th>year</th>\n",
       "    </tr>\n",
       "  </thead>\n",
       "  <tbody>\n",
       "    <tr>\n",
       "      <th>0</th>\n",
       "      <td>0</td>\n",
       "      <td>Toy Story 3</td>\n",
       "      <td>BV</td>\n",
       "      <td>415000000</td>\n",
       "      <td>652000000</td>\n",
       "      <td>2010-01-01</td>\n",
       "    </tr>\n",
       "    <tr>\n",
       "      <th>1</th>\n",
       "      <td>1</td>\n",
       "      <td>Alice in Wonderland (2010)</td>\n",
       "      <td>BV</td>\n",
       "      <td>334200000</td>\n",
       "      <td>691300000</td>\n",
       "      <td>2010-01-01</td>\n",
       "    </tr>\n",
       "    <tr>\n",
       "      <th>2</th>\n",
       "      <td>2</td>\n",
       "      <td>Harry Potter and the Deathly Hallows Part 1</td>\n",
       "      <td>WB</td>\n",
       "      <td>296000000</td>\n",
       "      <td>664300000</td>\n",
       "      <td>2010-01-01</td>\n",
       "    </tr>\n",
       "    <tr>\n",
       "      <th>3</th>\n",
       "      <td>3</td>\n",
       "      <td>Inception</td>\n",
       "      <td>WB</td>\n",
       "      <td>292600000</td>\n",
       "      <td>535700000</td>\n",
       "      <td>2010-01-01</td>\n",
       "    </tr>\n",
       "    <tr>\n",
       "      <th>4</th>\n",
       "      <td>4</td>\n",
       "      <td>Shrek Forever After</td>\n",
       "      <td>P/DW</td>\n",
       "      <td>238700000</td>\n",
       "      <td>513900000</td>\n",
       "      <td>2010-01-01</td>\n",
       "    </tr>\n",
       "  </tbody>\n",
       "</table>\n",
       "</div>"
      ],
      "text/plain": [
       "   Unnamed: 0                                        title studio  \\\n",
       "0           0                                  Toy Story 3     BV   \n",
       "1           1                   Alice in Wonderland (2010)     BV   \n",
       "2           2  Harry Potter and the Deathly Hallows Part 1     WB   \n",
       "3           3                                    Inception     WB   \n",
       "4           4                          Shrek Forever After   P/DW   \n",
       "\n",
       "   domestic_gross  foreign_gross        year  \n",
       "0       415000000      652000000  2010-01-01  \n",
       "1       334200000      691300000  2010-01-01  \n",
       "2       296000000      664300000  2010-01-01  \n",
       "3       292600000      535700000  2010-01-01  \n",
       "4       238700000      513900000  2010-01-01  "
      ]
     },
     "execution_count": 4,
     "metadata": {},
     "output_type": "execute_result"
    }
   ],
   "source": [
    "# view movieGross\n",
    "movieGross.head()"
   ]
  },
  {
   "cell_type": "code",
   "execution_count": 5,
   "metadata": {},
   "outputs": [
    {
     "data": {
      "text/html": [
       "<div>\n",
       "<style scoped>\n",
       "    .dataframe tbody tr th:only-of-type {\n",
       "        vertical-align: middle;\n",
       "    }\n",
       "\n",
       "    .dataframe tbody tr th {\n",
       "        vertical-align: top;\n",
       "    }\n",
       "\n",
       "    .dataframe thead th {\n",
       "        text-align: right;\n",
       "    }\n",
       "</style>\n",
       "<table border=\"1\" class=\"dataframe\">\n",
       "  <thead>\n",
       "    <tr style=\"text-align: right;\">\n",
       "      <th></th>\n",
       "      <th>Unnamed: 0</th>\n",
       "      <th>id</th>\n",
       "      <th>release_date</th>\n",
       "      <th>movie</th>\n",
       "      <th>production_budget</th>\n",
       "      <th>domestic_gross</th>\n",
       "      <th>worldwide_gross</th>\n",
       "    </tr>\n",
       "  </thead>\n",
       "  <tbody>\n",
       "    <tr>\n",
       "      <th>0</th>\n",
       "      <td>0</td>\n",
       "      <td>1</td>\n",
       "      <td>2009-12-18</td>\n",
       "      <td>Avatar</td>\n",
       "      <td>425000000</td>\n",
       "      <td>760507625</td>\n",
       "      <td>2776345279</td>\n",
       "    </tr>\n",
       "    <tr>\n",
       "      <th>1</th>\n",
       "      <td>1</td>\n",
       "      <td>2</td>\n",
       "      <td>2011-05-20</td>\n",
       "      <td>Pirates of the Caribbean: On Stranger Tides</td>\n",
       "      <td>410600000</td>\n",
       "      <td>241063875</td>\n",
       "      <td>1045663875</td>\n",
       "    </tr>\n",
       "    <tr>\n",
       "      <th>2</th>\n",
       "      <td>2</td>\n",
       "      <td>3</td>\n",
       "      <td>2019-06-07</td>\n",
       "      <td>Dark Phoenix</td>\n",
       "      <td>350000000</td>\n",
       "      <td>42762350</td>\n",
       "      <td>149762350</td>\n",
       "    </tr>\n",
       "    <tr>\n",
       "      <th>3</th>\n",
       "      <td>3</td>\n",
       "      <td>4</td>\n",
       "      <td>2015-05-01</td>\n",
       "      <td>Avengers: Age of Ultron</td>\n",
       "      <td>330600000</td>\n",
       "      <td>459005868</td>\n",
       "      <td>1403013963</td>\n",
       "    </tr>\n",
       "    <tr>\n",
       "      <th>4</th>\n",
       "      <td>4</td>\n",
       "      <td>5</td>\n",
       "      <td>2017-12-15</td>\n",
       "      <td>Star Wars Ep. VIII: The Last Jedi</td>\n",
       "      <td>317000000</td>\n",
       "      <td>620181382</td>\n",
       "      <td>1316721747</td>\n",
       "    </tr>\n",
       "  </tbody>\n",
       "</table>\n",
       "</div>"
      ],
      "text/plain": [
       "   Unnamed: 0  id release_date                                        movie  \\\n",
       "0           0   1   2009-12-18                                       Avatar   \n",
       "1           1   2   2011-05-20  Pirates of the Caribbean: On Stranger Tides   \n",
       "2           2   3   2019-06-07                                 Dark Phoenix   \n",
       "3           3   4   2015-05-01                      Avengers: Age of Ultron   \n",
       "4           4   5   2017-12-15            Star Wars Ep. VIII: The Last Jedi   \n",
       "\n",
       "   production_budget  domestic_gross  worldwide_gross  \n",
       "0          425000000       760507625       2776345279  \n",
       "1          410600000       241063875       1045663875  \n",
       "2          350000000        42762350        149762350  \n",
       "3          330600000       459005868       1403013963  \n",
       "4          317000000       620181382       1316721747  "
      ]
     },
     "execution_count": 5,
     "metadata": {},
     "output_type": "execute_result"
    }
   ],
   "source": [
    "# view movieBudgets\n",
    "movieBudgets.head()"
   ]
  },
  {
   "cell_type": "code",
   "execution_count": 6,
   "metadata": {},
   "outputs": [
    {
     "data": {
      "text/html": [
       "<div>\n",
       "<style scoped>\n",
       "    .dataframe tbody tr th:only-of-type {\n",
       "        vertical-align: middle;\n",
       "    }\n",
       "\n",
       "    .dataframe tbody tr th {\n",
       "        vertical-align: top;\n",
       "    }\n",
       "\n",
       "    .dataframe thead th {\n",
       "        text-align: right;\n",
       "    }\n",
       "</style>\n",
       "<table border=\"1\" class=\"dataframe\">\n",
       "  <thead>\n",
       "    <tr style=\"text-align: right;\">\n",
       "      <th></th>\n",
       "      <th>id</th>\n",
       "      <th>synopsis</th>\n",
       "      <th>rating</th>\n",
       "      <th>genre</th>\n",
       "      <th>director</th>\n",
       "      <th>writer</th>\n",
       "      <th>theater_date</th>\n",
       "      <th>dvd_date</th>\n",
       "      <th>currency</th>\n",
       "      <th>box_office</th>\n",
       "      <th>runtime</th>\n",
       "      <th>studio</th>\n",
       "    </tr>\n",
       "  </thead>\n",
       "  <tbody>\n",
       "    <tr>\n",
       "      <th>0</th>\n",
       "      <td>1</td>\n",
       "      <td>This gritty, fast-paced, and innovative police...</td>\n",
       "      <td>R</td>\n",
       "      <td>['Action', 'Adventure', 'Classics', 'Drama']</td>\n",
       "      <td>William Friedkin</td>\n",
       "      <td>Ernest Tidyman</td>\n",
       "      <td>1971-10-09 00:00:00</td>\n",
       "      <td>2001-09-25 00:00:00</td>\n",
       "      <td>-</td>\n",
       "      <td>0.0</td>\n",
       "      <td>104</td>\n",
       "      <td>-</td>\n",
       "    </tr>\n",
       "    <tr>\n",
       "      <th>1</th>\n",
       "      <td>3</td>\n",
       "      <td>New York City, not-too-distant-future: Eric Pa...</td>\n",
       "      <td>R</td>\n",
       "      <td>['Drama', 'Science Fiction', 'Fantasy']</td>\n",
       "      <td>David Cronenberg</td>\n",
       "      <td>David Cronenberg|Don DeLillo</td>\n",
       "      <td>2012-08-17 00:00:00</td>\n",
       "      <td>2013-01-01 00:00:00</td>\n",
       "      <td>$</td>\n",
       "      <td>600000.0</td>\n",
       "      <td>108</td>\n",
       "      <td>Entertainment One</td>\n",
       "    </tr>\n",
       "    <tr>\n",
       "      <th>2</th>\n",
       "      <td>5</td>\n",
       "      <td>Illeana Douglas delivers a superb performance ...</td>\n",
       "      <td>R</td>\n",
       "      <td>['Drama', 'Music']</td>\n",
       "      <td>Allison Anders</td>\n",
       "      <td>Allison Anders</td>\n",
       "      <td>1996-09-13 00:00:00</td>\n",
       "      <td>2000-04-18 00:00:00</td>\n",
       "      <td>-</td>\n",
       "      <td>0.0</td>\n",
       "      <td>116</td>\n",
       "      <td>-</td>\n",
       "    </tr>\n",
       "    <tr>\n",
       "      <th>3</th>\n",
       "      <td>6</td>\n",
       "      <td>Michael Douglas runs afoul of a treacherous su...</td>\n",
       "      <td>R</td>\n",
       "      <td>['Drama', 'Mystery']</td>\n",
       "      <td>Barry Levinson</td>\n",
       "      <td>Paul Attanasio|Michael Crichton</td>\n",
       "      <td>1994-12-09 00:00:00</td>\n",
       "      <td>1997-08-27 00:00:00</td>\n",
       "      <td>-</td>\n",
       "      <td>0.0</td>\n",
       "      <td>128</td>\n",
       "      <td>-</td>\n",
       "    </tr>\n",
       "    <tr>\n",
       "      <th>4</th>\n",
       "      <td>7</td>\n",
       "      <td>-</td>\n",
       "      <td>NR</td>\n",
       "      <td>['Drama', 'Romance']</td>\n",
       "      <td>Rodney Bennett</td>\n",
       "      <td>Giles Cooper</td>\n",
       "      <td>-</td>\n",
       "      <td>-</td>\n",
       "      <td>-</td>\n",
       "      <td>0.0</td>\n",
       "      <td>200</td>\n",
       "      <td>-</td>\n",
       "    </tr>\n",
       "  </tbody>\n",
       "</table>\n",
       "</div>"
      ],
      "text/plain": [
       "   id                                           synopsis rating  \\\n",
       "0   1  This gritty, fast-paced, and innovative police...      R   \n",
       "1   3  New York City, not-too-distant-future: Eric Pa...      R   \n",
       "2   5  Illeana Douglas delivers a superb performance ...      R   \n",
       "3   6  Michael Douglas runs afoul of a treacherous su...      R   \n",
       "4   7                                                  -     NR   \n",
       "\n",
       "                                          genre          director  \\\n",
       "0  ['Action', 'Adventure', 'Classics', 'Drama']  William Friedkin   \n",
       "1       ['Drama', 'Science Fiction', 'Fantasy']  David Cronenberg   \n",
       "2                            ['Drama', 'Music']    Allison Anders   \n",
       "3                          ['Drama', 'Mystery']    Barry Levinson   \n",
       "4                          ['Drama', 'Romance']    Rodney Bennett   \n",
       "\n",
       "                            writer         theater_date             dvd_date  \\\n",
       "0                   Ernest Tidyman  1971-10-09 00:00:00  2001-09-25 00:00:00   \n",
       "1     David Cronenberg|Don DeLillo  2012-08-17 00:00:00  2013-01-01 00:00:00   \n",
       "2                   Allison Anders  1996-09-13 00:00:00  2000-04-18 00:00:00   \n",
       "3  Paul Attanasio|Michael Crichton  1994-12-09 00:00:00  1997-08-27 00:00:00   \n",
       "4                     Giles Cooper                    -                    -   \n",
       "\n",
       "  currency  box_office  runtime             studio  \n",
       "0        -         0.0      104                  -  \n",
       "1        $    600000.0      108  Entertainment One  \n",
       "2        -         0.0      116                  -  \n",
       "3        -         0.0      128                  -  \n",
       "4        -         0.0      200                  -  "
      ]
     },
     "execution_count": 6,
     "metadata": {},
     "output_type": "execute_result"
    }
   ],
   "source": [
    "# view movieInfo\n",
    "movieInfo.head()"
   ]
  },
  {
   "cell_type": "code",
   "execution_count": 7,
   "metadata": {},
   "outputs": [
    {
     "data": {
      "text/html": [
       "<div>\n",
       "<style scoped>\n",
       "    .dataframe tbody tr th:only-of-type {\n",
       "        vertical-align: middle;\n",
       "    }\n",
       "\n",
       "    .dataframe tbody tr th {\n",
       "        vertical-align: top;\n",
       "    }\n",
       "\n",
       "    .dataframe thead th {\n",
       "        text-align: right;\n",
       "    }\n",
       "</style>\n",
       "<table border=\"1\" class=\"dataframe\">\n",
       "  <thead>\n",
       "    <tr style=\"text-align: right;\">\n",
       "      <th></th>\n",
       "      <th>Unnamed: 0</th>\n",
       "      <th>id</th>\n",
       "      <th>review</th>\n",
       "      <th>rating</th>\n",
       "      <th>fresh</th>\n",
       "      <th>critic</th>\n",
       "      <th>top_critic</th>\n",
       "      <th>publisher</th>\n",
       "      <th>date</th>\n",
       "    </tr>\n",
       "  </thead>\n",
       "  <tbody>\n",
       "    <tr>\n",
       "      <th>0</th>\n",
       "      <td>0</td>\n",
       "      <td>3</td>\n",
       "      <td>A distinctly gallows take on contemporary fina...</td>\n",
       "      <td>3/5</td>\n",
       "      <td>fresh</td>\n",
       "      <td>PJ Nabarro</td>\n",
       "      <td>0</td>\n",
       "      <td>Patrick Nabarro</td>\n",
       "      <td>November 10, 2018</td>\n",
       "    </tr>\n",
       "    <tr>\n",
       "      <th>1</th>\n",
       "      <td>1</td>\n",
       "      <td>3</td>\n",
       "      <td>It's an allegory in search of a meaning that n...</td>\n",
       "      <td>-</td>\n",
       "      <td>rotten</td>\n",
       "      <td>Annalee Newitz</td>\n",
       "      <td>0</td>\n",
       "      <td>io9.com</td>\n",
       "      <td>May 23, 2018</td>\n",
       "    </tr>\n",
       "    <tr>\n",
       "      <th>2</th>\n",
       "      <td>2</td>\n",
       "      <td>3</td>\n",
       "      <td>... life lived in a bubble in financial dealin...</td>\n",
       "      <td>-</td>\n",
       "      <td>fresh</td>\n",
       "      <td>Sean Axmaker</td>\n",
       "      <td>0</td>\n",
       "      <td>Stream on Demand</td>\n",
       "      <td>January 4, 2018</td>\n",
       "    </tr>\n",
       "    <tr>\n",
       "      <th>3</th>\n",
       "      <td>3</td>\n",
       "      <td>3</td>\n",
       "      <td>Continuing along a line introduced in last yea...</td>\n",
       "      <td>-</td>\n",
       "      <td>fresh</td>\n",
       "      <td>Daniel Kasman</td>\n",
       "      <td>0</td>\n",
       "      <td>MUBI</td>\n",
       "      <td>November 16, 2017</td>\n",
       "    </tr>\n",
       "    <tr>\n",
       "      <th>4</th>\n",
       "      <td>4</td>\n",
       "      <td>3</td>\n",
       "      <td>... a perverse twist on neorealism...</td>\n",
       "      <td>-</td>\n",
       "      <td>fresh</td>\n",
       "      <td>-</td>\n",
       "      <td>0</td>\n",
       "      <td>Cinema Scope</td>\n",
       "      <td>October 12, 2017</td>\n",
       "    </tr>\n",
       "  </tbody>\n",
       "</table>\n",
       "</div>"
      ],
      "text/plain": [
       "   Unnamed: 0  id                                             review rating  \\\n",
       "0           0   3  A distinctly gallows take on contemporary fina...    3/5   \n",
       "1           1   3  It's an allegory in search of a meaning that n...      -   \n",
       "2           2   3  ... life lived in a bubble in financial dealin...      -   \n",
       "3           3   3  Continuing along a line introduced in last yea...      -   \n",
       "4           4   3             ... a perverse twist on neorealism...       -   \n",
       "\n",
       "    fresh          critic  top_critic         publisher               date  \n",
       "0   fresh      PJ Nabarro           0   Patrick Nabarro  November 10, 2018  \n",
       "1  rotten  Annalee Newitz           0           io9.com       May 23, 2018  \n",
       "2   fresh    Sean Axmaker           0  Stream on Demand    January 4, 2018  \n",
       "3   fresh   Daniel Kasman           0              MUBI  November 16, 2017  \n",
       "4   fresh               -           0      Cinema Scope   October 12, 2017  "
      ]
     },
     "execution_count": 7,
     "metadata": {},
     "output_type": "execute_result"
    }
   ],
   "source": [
    "# view reviews\n",
    "reviews.head()"
   ]
  },
  {
   "cell_type": "code",
   "execution_count": 8,
   "metadata": {},
   "outputs": [
    {
     "data": {
      "text/html": [
       "<div>\n",
       "<style scoped>\n",
       "    .dataframe tbody tr th:only-of-type {\n",
       "        vertical-align: middle;\n",
       "    }\n",
       "\n",
       "    .dataframe tbody tr th {\n",
       "        vertical-align: top;\n",
       "    }\n",
       "\n",
       "    .dataframe thead th {\n",
       "        text-align: right;\n",
       "    }\n",
       "</style>\n",
       "<table border=\"1\" class=\"dataframe\">\n",
       "  <thead>\n",
       "    <tr style=\"text-align: right;\">\n",
       "      <th></th>\n",
       "      <th>Unnamed: 0</th>\n",
       "      <th>genre_ids</th>\n",
       "      <th>id</th>\n",
       "      <th>original_language</th>\n",
       "      <th>original_title</th>\n",
       "      <th>popularity</th>\n",
       "      <th>release_date</th>\n",
       "      <th>title</th>\n",
       "      <th>vote_average</th>\n",
       "      <th>vote_count</th>\n",
       "      <th>...</th>\n",
       "      <th>History</th>\n",
       "      <th>Horror</th>\n",
       "      <th>Music</th>\n",
       "      <th>Mystery</th>\n",
       "      <th>Romance</th>\n",
       "      <th>Science Fiction</th>\n",
       "      <th>TV Movie</th>\n",
       "      <th>Thriller</th>\n",
       "      <th>War</th>\n",
       "      <th>Western</th>\n",
       "    </tr>\n",
       "  </thead>\n",
       "  <tbody>\n",
       "    <tr>\n",
       "      <th>0</th>\n",
       "      <td>0</td>\n",
       "      <td>[12, 14, 10751]</td>\n",
       "      <td>12444</td>\n",
       "      <td>en</td>\n",
       "      <td>Harry Potter and the Deathly Hallows: Part 1</td>\n",
       "      <td>33.533</td>\n",
       "      <td>2010-11-19</td>\n",
       "      <td>Harry Potter and the Deathly Hallows: Part 1</td>\n",
       "      <td>7.7</td>\n",
       "      <td>10788</td>\n",
       "      <td>...</td>\n",
       "      <td>0</td>\n",
       "      <td>0</td>\n",
       "      <td>0</td>\n",
       "      <td>0</td>\n",
       "      <td>0</td>\n",
       "      <td>0</td>\n",
       "      <td>0</td>\n",
       "      <td>0</td>\n",
       "      <td>0</td>\n",
       "      <td>0</td>\n",
       "    </tr>\n",
       "    <tr>\n",
       "      <th>1</th>\n",
       "      <td>1</td>\n",
       "      <td>[14, 12, 16, 10751]</td>\n",
       "      <td>10191</td>\n",
       "      <td>en</td>\n",
       "      <td>How to Train Your Dragon</td>\n",
       "      <td>28.734</td>\n",
       "      <td>2010-03-26</td>\n",
       "      <td>How to Train Your Dragon</td>\n",
       "      <td>7.7</td>\n",
       "      <td>7610</td>\n",
       "      <td>...</td>\n",
       "      <td>0</td>\n",
       "      <td>0</td>\n",
       "      <td>0</td>\n",
       "      <td>0</td>\n",
       "      <td>0</td>\n",
       "      <td>0</td>\n",
       "      <td>0</td>\n",
       "      <td>0</td>\n",
       "      <td>0</td>\n",
       "      <td>0</td>\n",
       "    </tr>\n",
       "    <tr>\n",
       "      <th>2</th>\n",
       "      <td>2</td>\n",
       "      <td>[12, 28, 878]</td>\n",
       "      <td>10138</td>\n",
       "      <td>en</td>\n",
       "      <td>Iron Man 2</td>\n",
       "      <td>28.515</td>\n",
       "      <td>2010-05-07</td>\n",
       "      <td>Iron Man 2</td>\n",
       "      <td>6.8</td>\n",
       "      <td>12368</td>\n",
       "      <td>...</td>\n",
       "      <td>0</td>\n",
       "      <td>0</td>\n",
       "      <td>0</td>\n",
       "      <td>0</td>\n",
       "      <td>0</td>\n",
       "      <td>1</td>\n",
       "      <td>0</td>\n",
       "      <td>0</td>\n",
       "      <td>0</td>\n",
       "      <td>0</td>\n",
       "    </tr>\n",
       "    <tr>\n",
       "      <th>3</th>\n",
       "      <td>3</td>\n",
       "      <td>[16, 35, 10751]</td>\n",
       "      <td>862</td>\n",
       "      <td>en</td>\n",
       "      <td>Toy Story</td>\n",
       "      <td>28.005</td>\n",
       "      <td>1995-11-22</td>\n",
       "      <td>Toy Story</td>\n",
       "      <td>7.9</td>\n",
       "      <td>10174</td>\n",
       "      <td>...</td>\n",
       "      <td>0</td>\n",
       "      <td>0</td>\n",
       "      <td>0</td>\n",
       "      <td>0</td>\n",
       "      <td>0</td>\n",
       "      <td>0</td>\n",
       "      <td>0</td>\n",
       "      <td>0</td>\n",
       "      <td>0</td>\n",
       "      <td>0</td>\n",
       "    </tr>\n",
       "    <tr>\n",
       "      <th>4</th>\n",
       "      <td>4</td>\n",
       "      <td>[28, 878, 12]</td>\n",
       "      <td>27205</td>\n",
       "      <td>en</td>\n",
       "      <td>Inception</td>\n",
       "      <td>27.920</td>\n",
       "      <td>2010-07-16</td>\n",
       "      <td>Inception</td>\n",
       "      <td>8.3</td>\n",
       "      <td>22186</td>\n",
       "      <td>...</td>\n",
       "      <td>0</td>\n",
       "      <td>0</td>\n",
       "      <td>0</td>\n",
       "      <td>0</td>\n",
       "      <td>0</td>\n",
       "      <td>1</td>\n",
       "      <td>0</td>\n",
       "      <td>0</td>\n",
       "      <td>0</td>\n",
       "      <td>0</td>\n",
       "    </tr>\n",
       "  </tbody>\n",
       "</table>\n",
       "<p>5 rows × 30 columns</p>\n",
       "</div>"
      ],
      "text/plain": [
       "   Unnamed: 0            genre_ids     id original_language  \\\n",
       "0           0      [12, 14, 10751]  12444                en   \n",
       "1           1  [14, 12, 16, 10751]  10191                en   \n",
       "2           2        [12, 28, 878]  10138                en   \n",
       "3           3      [16, 35, 10751]    862                en   \n",
       "4           4        [28, 878, 12]  27205                en   \n",
       "\n",
       "                                 original_title  popularity release_date  \\\n",
       "0  Harry Potter and the Deathly Hallows: Part 1      33.533   2010-11-19   \n",
       "1                      How to Train Your Dragon      28.734   2010-03-26   \n",
       "2                                    Iron Man 2      28.515   2010-05-07   \n",
       "3                                     Toy Story      28.005   1995-11-22   \n",
       "4                                     Inception      27.920   2010-07-16   \n",
       "\n",
       "                                          title  vote_average  vote_count  \\\n",
       "0  Harry Potter and the Deathly Hallows: Part 1           7.7       10788   \n",
       "1                      How to Train Your Dragon           7.7        7610   \n",
       "2                                    Iron Man 2           6.8       12368   \n",
       "3                                     Toy Story           7.9       10174   \n",
       "4                                     Inception           8.3       22186   \n",
       "\n",
       "   ... History  Horror  Music  Mystery  Romance  Science Fiction  TV Movie  \\\n",
       "0  ...       0       0      0        0        0                0         0   \n",
       "1  ...       0       0      0        0        0                0         0   \n",
       "2  ...       0       0      0        0        0                1         0   \n",
       "3  ...       0       0      0        0        0                0         0   \n",
       "4  ...       0       0      0        0        0                1         0   \n",
       "\n",
       "   Thriller  War  Western  \n",
       "0         0    0        0  \n",
       "1         0    0        0  \n",
       "2         0    0        0  \n",
       "3         0    0        0  \n",
       "4         0    0        0  \n",
       "\n",
       "[5 rows x 30 columns]"
      ]
     },
     "execution_count": 8,
     "metadata": {},
     "output_type": "execute_result"
    }
   ],
   "source": [
    "# view tmdbMovies\n",
    "tmdbMovies.head()"
   ]
  },
  {
   "cell_type": "markdown",
   "metadata": {},
   "source": [
    "***\n",
    "### Popularity by Genre: \n",
    "Which Genres are the most popular?"
   ]
  },
  {
   "cell_type": "code",
   "execution_count": 9,
   "metadata": {},
   "outputs": [
    {
     "data": {
      "text/plain": [
       "Index(['Unnamed: 0', 'genre_ids', 'id', 'original_language', 'original_title',\n",
       "       'popularity', 'release_date', 'title', 'vote_average', 'vote_count',\n",
       "       'genres', 'Action', 'Adventure', 'Animation', 'Comedy', 'Crime',\n",
       "       'Documentary', 'Drama', 'Family', 'Fantasy', 'History', 'Horror',\n",
       "       'Music', 'Mystery', 'Romance', 'Science Fiction', 'TV Movie',\n",
       "       'Thriller', 'War', 'Western'],\n",
       "      dtype='object')"
      ]
     },
     "execution_count": 9,
     "metadata": {},
     "output_type": "execute_result"
    }
   ],
   "source": [
    "#start by viewing the tmdbMovies columns\n",
    "tmdbMovies.columns"
   ]
  },
  {
   "cell_type": "code",
   "execution_count": 10,
   "metadata": {
    "scrolled": true
   },
   "outputs": [
    {
     "data": {
      "text/plain": [
       "Index(['Action', 'Adventure', 'Animation', 'Comedy', 'Crime', 'Documentary',\n",
       "       'Drama', 'Family', 'Fantasy', 'History', 'Horror', 'Music', 'Mystery',\n",
       "       'Romance', 'Science Fiction', 'TV Movie', 'Thriller', 'War', 'Western'],\n",
       "      dtype='object')"
      ]
     },
     "execution_count": 10,
     "metadata": {},
     "output_type": "execute_result"
    }
   ],
   "source": [
    "# we are most interested in columns after 10, as those are the genres\n",
    "tmdbMovies.columns[11:]"
   ]
  },
  {
   "cell_type": "code",
   "execution_count": 11,
   "metadata": {},
   "outputs": [
    {
     "data": {
      "text/plain": [
       "<AxesSubplot:>"
      ]
     },
     "execution_count": 11,
     "metadata": {},
     "output_type": "execute_result"
    },
    {
     "data": {
      "image/png": "[encoded data removed]",
      "text/plain": [
       "<Figure size 432x288 with 1 Axes>"
      ]
     },
     "metadata": {
      "needs_background": "light"
     },
     "output_type": "display_data"
    }
   ],
   "source": [
    "# create a dictionary that gets the mean popularity score for each genre\n",
    "popularityByGenre = {}\n",
    "for i in range(11,30):\n",
    "    popularityByGenre[tmdbMovies.columns[i]] = tmdbMovies[tmdbMovies[tmdbMovies.columns[i]]==1]['popularity'].mean()\n",
    "\n",
    "# barplot that shows popularity genre score for every genre\n",
    "sns.barplot(y = list(popularityByGenre.keys()), x=list(popularityByGenre.values()))"
   ]
  },
  {
   "cell_type": "code",
   "execution_count": 12,
   "metadata": {},
   "outputs": [],
   "source": [
    "# get popularity and release date for each genre\n",
    "genre_dicts = {}\n",
    "for i in range(11,30):\n",
    "    genre_dicts[tmdbMovies.columns[i]] = tmdbMovies[tmdbMovies[tmdbMovies.columns[i]]==1][['popularity','release_date']]\n",
    "#add popularity to genre_dicts to be able to see the change in popularity over years\n",
    "for i in genre_dicts:\n",
    "    genre_dicts[i]['year'] = pd.to_datetime(genre_dicts[i]['release_date']).dt.year"
   ]
  },
  {
   "cell_type": "code",
   "execution_count": 13,
   "metadata": {
    "scrolled": false
   },
   "outputs": [
    {
     "name": "stdout",
     "output_type": "stream",
     "text": [
      "dict_keys(['Action', 'Adventure', 'Animation', 'Comedy', 'Crime', 'Documentary', 'Drama', 'Family', 'Fantasy', 'History', 'Horror', 'Music', 'Mystery', 'Romance', 'Science Fiction', 'TV Movie', 'Thriller', 'War', 'Western'])\n"
     ]
    },
    {
     "data": {
      "text/html": [
       "<div>\n",
       "<style scoped>\n",
       "    .dataframe tbody tr th:only-of-type {\n",
       "        vertical-align: middle;\n",
       "    }\n",
       "\n",
       "    .dataframe tbody tr th {\n",
       "        vertical-align: top;\n",
       "    }\n",
       "\n",
       "    .dataframe thead th {\n",
       "        text-align: right;\n",
       "    }\n",
       "</style>\n",
       "<table border=\"1\" class=\"dataframe\">\n",
       "  <thead>\n",
       "    <tr style=\"text-align: right;\">\n",
       "      <th></th>\n",
       "      <th>popularity</th>\n",
       "      <th>release_date</th>\n",
       "      <th>year</th>\n",
       "    </tr>\n",
       "  </thead>\n",
       "  <tbody>\n",
       "    <tr>\n",
       "      <th>2</th>\n",
       "      <td>28.515</td>\n",
       "      <td>2010-05-07</td>\n",
       "      <td>2010</td>\n",
       "    </tr>\n",
       "    <tr>\n",
       "      <th>4</th>\n",
       "      <td>27.920</td>\n",
       "      <td>2010-07-16</td>\n",
       "      <td>2010</td>\n",
       "    </tr>\n",
       "    <tr>\n",
       "      <th>6</th>\n",
       "      <td>26.526</td>\n",
       "      <td>2009-12-18</td>\n",
       "      <td>2009</td>\n",
       "    </tr>\n",
       "    <tr>\n",
       "      <th>9</th>\n",
       "      <td>22.855</td>\n",
       "      <td>2010-11-04</td>\n",
       "      <td>2010</td>\n",
       "    </tr>\n",
       "    <tr>\n",
       "      <th>12</th>\n",
       "      <td>21.517</td>\n",
       "      <td>2010-08-03</td>\n",
       "      <td>2010</td>\n",
       "    </tr>\n",
       "    <tr>\n",
       "      <th>...</th>\n",
       "      <td>...</td>\n",
       "      <td>...</td>\n",
       "      <td>...</td>\n",
       "    </tr>\n",
       "    <tr>\n",
       "      <th>26399</th>\n",
       "      <td>0.600</td>\n",
       "      <td>2018-12-20</td>\n",
       "      <td>2018</td>\n",
       "    </tr>\n",
       "    <tr>\n",
       "      <th>26440</th>\n",
       "      <td>0.600</td>\n",
       "      <td>2018-01-03</td>\n",
       "      <td>2018</td>\n",
       "    </tr>\n",
       "    <tr>\n",
       "      <th>26479</th>\n",
       "      <td>0.600</td>\n",
       "      <td>2018-04-15</td>\n",
       "      <td>2018</td>\n",
       "    </tr>\n",
       "    <tr>\n",
       "      <th>26514</th>\n",
       "      <td>0.600</td>\n",
       "      <td>2018-10-01</td>\n",
       "      <td>2018</td>\n",
       "    </tr>\n",
       "    <tr>\n",
       "      <th>26515</th>\n",
       "      <td>0.600</td>\n",
       "      <td>2018-06-22</td>\n",
       "      <td>2018</td>\n",
       "    </tr>\n",
       "  </tbody>\n",
       "</table>\n",
       "<p>2612 rows × 3 columns</p>\n",
       "</div>"
      ],
      "text/plain": [
       "       popularity release_date  year\n",
       "2          28.515   2010-05-07  2010\n",
       "4          27.920   2010-07-16  2010\n",
       "6          26.526   2009-12-18  2009\n",
       "9          22.855   2010-11-04  2010\n",
       "12         21.517   2010-08-03  2010\n",
       "...           ...          ...   ...\n",
       "26399       0.600   2018-12-20  2018\n",
       "26440       0.600   2018-01-03  2018\n",
       "26479       0.600   2018-04-15  2018\n",
       "26514       0.600   2018-10-01  2018\n",
       "26515       0.600   2018-06-22  2018\n",
       "\n",
       "[2612 rows x 3 columns]"
      ]
     },
     "execution_count": 13,
     "metadata": {},
     "output_type": "execute_result"
    }
   ],
   "source": [
    "#view the new dictionary that contains poularity scores, release dates, and years for each movie\n",
    "print(genre_dicts.keys())\n",
    "genre_dicts[\"Action\"]"
   ]
  },
  {
   "cell_type": "code",
   "execution_count": 14,
   "metadata": {},
   "outputs": [],
   "source": [
    "# use groupby and average to create an an average popularity for each year for every genre\n",
    "avgPopByGenre = {}\n",
    "for i in genre_dicts:\n",
    "    avgPopByGenre[i] = genre_dicts[i].groupby(genre_dicts[i]['year']).mean()"
   ]
  },
  {
   "cell_type": "code",
   "execution_count": 15,
   "metadata": {},
   "outputs": [
    {
     "data": {
      "text/plain": [
       "{'Action':       popularity\n",
       " year            \n",
       " 1974    9.569000\n",
       " 1980   14.882000\n",
       " 1982   12.063000\n",
       " 1983    6.306000\n",
       " 1984    7.833500\n",
       " 1985    7.561000\n",
       " 1986    6.852500\n",
       " 1988    3.880500\n",
       " 1989    1.400000\n",
       " 1991   16.735750\n",
       " 1993   11.485000\n",
       " 1995   13.966333\n",
       " 1996   10.174667\n",
       " 1997   11.832500\n",
       " 1998   16.487000\n",
       " 2001   10.886000\n",
       " 2002   15.067667\n",
       " 2003    8.661000\n",
       " 2004   16.482667\n",
       " 2005   10.215000\n",
       " 2007   15.620000\n",
       " 2008    0.613000\n",
       " 2009    9.651500\n",
       " 2010    4.980996\n",
       " 2011    5.259779\n",
       " 2012    5.594142\n",
       " 2013    5.574356\n",
       " 2014    6.578004\n",
       " 2015    6.326961\n",
       " 2016    6.260686\n",
       " 2017    7.906579\n",
       " 2018    9.237353\n",
       " 2019   10.414750,\n",
       " 'Adventure':       popularity\n",
       " year            \n",
       " 1961    3.454000\n",
       " 1966    7.139000\n",
       " 1968   23.781000\n",
       " 1982   12.063000\n",
       " 1985   11.657000\n",
       " 1986    9.818600\n",
       " 1988    6.744000\n",
       " 1995   10.579000\n",
       " 1996   13.860000\n",
       " 1997   13.514000\n",
       " 1998   15.799000\n",
       " 2003    8.613000\n",
       " 2004   15.203667\n",
       " 2005    4.862333\n",
       " 2006    1.937000\n",
       " 2008    8.787000\n",
       " 2009    8.353500\n",
       " 2010    6.637346\n",
       " 2011    6.857388\n",
       " 2012    6.942018\n",
       " 2013    5.638164\n",
       " 2014    6.182063\n",
       " 2015    8.025094\n",
       " 2016    7.103387\n",
       " 2017    8.750827\n",
       " 2018   12.261116\n",
       " 2019    5.832000,\n",
       " 'Animation':       popularity\n",
       " year            \n",
       " 1961    1.319000\n",
       " 1980    0.600000\n",
       " 1983    1.226000\n",
       " 1986   10.347333\n",
       " 1987    0.600000\n",
       " 1994   28.583000\n",
       " 1995   28.005000\n",
       " 1999   15.332000\n",
       " 2000    3.416000\n",
       " 2002   25.282333\n",
       " 2003    7.367000\n",
       " 2004    1.400000\n",
       " 2005    4.109000\n",
       " 2006    1.402667\n",
       " 2007    0.772000\n",
       " 2008    6.479500\n",
       " 2009    9.255000\n",
       " 2010    5.069288\n",
       " 2011    4.554525\n",
       " 2012    4.418345\n",
       " 2013    3.578977\n",
       " 2014    3.855107\n",
       " 2015    4.033267\n",
       " 2016    3.814933\n",
       " 2017    5.512784\n",
       " 2018    5.876027\n",
       " 2019    4.198000,\n",
       " 'Comedy':       popularity\n",
       " year            \n",
       " 1936    1.653000\n",
       " 1959   14.200000\n",
       " 1967   12.628000\n",
       " 1975    3.208000\n",
       " 1979    9.755000\n",
       " 1980    7.741000\n",
       " 1982   10.705000\n",
       " 1984    9.183333\n",
       " 1986   11.040750\n",
       " 1987    0.600000\n",
       " 1988   12.268667\n",
       " 1995   18.360750\n",
       " 1996    7.078000\n",
       " 1998    1.036000\n",
       " 1999   23.295667\n",
       " 2000    3.416000\n",
       " 2004    8.864667\n",
       " 2006    5.906000\n",
       " 2007    3.233000\n",
       " 2008    2.731000\n",
       " 2009    2.832077\n",
       " 2010    3.534061\n",
       " 2011    3.563879\n",
       " 2012    3.664683\n",
       " 2013    3.368863\n",
       " 2014    3.472684\n",
       " 2015    3.465403\n",
       " 2016    3.646146\n",
       " 2017    4.082047\n",
       " 2018    5.834373\n",
       " 2019    8.421667,\n",
       " 'Crime':       popularity\n",
       " year            \n",
       " 1959   12.710000\n",
       " 1960    7.926000\n",
       " 1980   14.882000\n",
       " 1983    6.306000\n",
       " 1984   16.392000\n",
       " 1985   10.374000\n",
       " 1986    3.913000\n",
       " 1988    3.880500\n",
       " 1991    8.867500\n",
       " 1993   11.485000\n",
       " 1995   13.966333\n",
       " 1996   16.064000\n",
       " 2000    8.833000\n",
       " 2002    9.839000\n",
       " 2004   19.127000\n",
       " 2005   10.215000\n",
       " 2007    1.999000\n",
       " 2009    4.386500\n",
       " 2010    5.041715\n",
       " 2011    5.011306\n",
       " 2012    5.165038\n",
       " 2013    5.055097\n",
       " 2014    4.825994\n",
       " 2015    5.172444\n",
       " 2016    4.820310\n",
       " 2017    5.433486\n",
       " 2018    7.587442\n",
       " 2019   11.243000\n",
       " 2020    0.840000,\n",
       " 'Documentary':       popularity\n",
       " year            \n",
       " 1974    0.960000\n",
       " 1981    0.620000\n",
       " 1987    0.680000\n",
       " 2000    0.947000\n",
       " 2004    0.600000\n",
       " 2005    0.600000\n",
       " 2007    0.626500\n",
       " 2008    0.883000\n",
       " 2009    2.440833\n",
       " 2010    1.224105\n",
       " 2011    1.268968\n",
       " 2012    1.169432\n",
       " 2013    1.296211\n",
       " 2014    1.262892\n",
       " 2015    1.341991\n",
       " 2016    1.247145\n",
       " 2017    1.362405\n",
       " 2018    2.037290\n",
       " 2019    3.528857,\n",
       " 'Drama':       popularity\n",
       " year            \n",
       " 1930    9.583000\n",
       " 1936    1.653000\n",
       " 1946    9.647000\n",
       " 1949    5.439000\n",
       " 1957    9.381000\n",
       " 1958    7.223500\n",
       " 1959   12.710000\n",
       " 1960    7.926000\n",
       " 1961    6.233500\n",
       " 1962    2.316000\n",
       " 1964    8.227000\n",
       " 1965    1.705000\n",
       " 1967   12.806500\n",
       " 1968    7.331500\n",
       " 1972    8.239000\n",
       " 1974    9.569000\n",
       " 1977   13.044000\n",
       " 1978    7.363000\n",
       " 1982   14.604333\n",
       " 1983    4.254800\n",
       " 1984    9.751000\n",
       " 1985    8.942800\n",
       " 1988    9.351500\n",
       " 1991    8.867500\n",
       " 1992    9.155000\n",
       " 1993   25.334000\n",
       " 1994   28.583000\n",
       " 1995    8.340000\n",
       " 1996   10.469000\n",
       " 1997   13.731400\n",
       " 1998    1.036000\n",
       " 2000   11.006000\n",
       " 2001   10.886000\n",
       " 2002   17.935000\n",
       " 2003    0.600000\n",
       " 2004   14.265500\n",
       " 2005    4.207000\n",
       " 2006    0.622000\n",
       " 2007   15.620000\n",
       " 2008    3.128800\n",
       " 2009    2.905571\n",
       " 2010    3.443346\n",
       " 2011    3.409624\n",
       " 2012    3.474929\n",
       " 2013    3.212141\n",
       " 2014    3.806594\n",
       " 2015    3.672265\n",
       " 2016    4.098046\n",
       " 2017    4.372325\n",
       " 2018    5.743722\n",
       " 2019    7.075622,\n",
       " 'Family':       popularity\n",
       " year            \n",
       " 1961    1.319000\n",
       " 1983    1.226000\n",
       " 1986   10.347333\n",
       " 1988   15.031000\n",
       " 1994   28.583000\n",
       " 1995   28.005000\n",
       " 1999   15.332000\n",
       " 2000    3.416000\n",
       " 2002   32.043000\n",
       " 2004   14.362000\n",
       " 2006    1.671000\n",
       " 2008    5.138500\n",
       " 2009    2.026500\n",
       " 2010    5.444445\n",
       " 2011    4.550751\n",
       " 2012    4.491750\n",
       " 2013    3.763370\n",
       " 2014    3.749592\n",
       " 2015    3.671779\n",
       " 2016    4.786572\n",
       " 2017    5.757404\n",
       " 2018    6.335599\n",
       " 2019    2.024000,\n",
       " 'Fantasy':       popularity\n",
       " year            \n",
       " 1958    8.693000\n",
       " 1975    3.208000\n",
       " 1983    6.239000\n",
       " 1986   10.542000\n",
       " 1988   15.031000\n",
       " 1995    7.339000\n",
       " 1996    7.078000\n",
       " 1997   19.903000\n",
       " 1999    0.600000\n",
       " 2002   26.531000\n",
       " 2004    8.695000\n",
       " 2005    6.718500\n",
       " 2006    1.418333\n",
       " 2008   16.266000\n",
       " 2009   10.430333\n",
       " 2010    6.510359\n",
       " 2011    6.052019\n",
       " 2012    5.379847\n",
       " 2013    4.692550\n",
       " 2014    5.684185\n",
       " 2015    4.701657\n",
       " 2016    5.997462\n",
       " 2017    8.289500\n",
       " 2018    8.959092\n",
       " 2019    3.848000,\n",
       " 'History':       popularity\n",
       " year            \n",
       " 1946    9.647000\n",
       " 1967    6.108000\n",
       " 1982   16.554000\n",
       " 1985   10.885000\n",
       " 1993   25.334000\n",
       " 1995   15.855000\n",
       " 2009    7.999667\n",
       " 2010    3.346711\n",
       " 2011    2.734074\n",
       " 2012    2.852911\n",
       " 2013    3.023612\n",
       " 2014    4.207255\n",
       " 2015    3.254703\n",
       " 2016    5.650012\n",
       " 2017    5.465588\n",
       " 2018    6.994273\n",
       " 2019    4.869500,\n",
       " 'Horror':       popularity\n",
       " year            \n",
       " 1933    2.292000\n",
       " 1968    7.021000\n",
       " 1972    1.504000\n",
       " 1976    9.467000\n",
       " 1980    2.717000\n",
       " 1986    0.946000\n",
       " 1995    7.339000\n",
       " 1996   11.571000\n",
       " 1998   17.175000\n",
       " 2002   15.507000\n",
       " 2004   16.792000\n",
       " 2006    0.600000\n",
       " 2007    2.520000\n",
       " 2009    4.430200\n",
       " 2010    2.980275\n",
       " 2011    2.998590\n",
       " 2012    2.814329\n",
       " 2013    2.912303\n",
       " 2014    2.790070\n",
       " 2015    2.904062\n",
       " 2016    2.889631\n",
       " 2017    3.515482\n",
       " 2018    4.970986\n",
       " 2019    8.407286\n",
       " 2020    0.840000,\n",
       " 'Music':       popularity\n",
       " year            \n",
       " 1974    0.960000\n",
       " 1975    3.208000\n",
       " 1980    7.741000\n",
       " 1987    0.680000\n",
       " 1989    0.650000\n",
       " 1992    0.600000\n",
       " 2000    5.984500\n",
       " 2003    8.613000\n",
       " 2004    5.466000\n",
       " 2006    0.647000\n",
       " 2008    1.123000\n",
       " 2009    1.212000\n",
       " 2010    1.478137\n",
       " 2011    1.514658\n",
       " 2012    1.554231\n",
       " 2013    1.673364\n",
       " 2014    1.911715\n",
       " 2015    2.573603\n",
       " 2016    2.082333\n",
       " 2017    1.860006\n",
       " 2018    3.661713\n",
       " 2019    7.252333,\n",
       " 'Mystery':       popularity\n",
       " year            \n",
       " 1959   12.710000\n",
       " 1968   23.781000\n",
       " 1980   12.481000\n",
       " 1983    6.239000\n",
       " 1986    0.946000\n",
       " 1991   12.808000\n",
       " 1997   15.027000\n",
       " 2002   17.935000\n",
       " 2004   19.127000\n",
       " 2007   15.620000\n",
       " 2009    5.547000\n",
       " 2010    4.592991\n",
       " 2011    4.889025\n",
       " 2012    4.222722\n",
       " 2013    3.125505\n",
       " 2014    4.098583\n",
       " 2015    4.086000\n",
       " 2016    4.952481\n",
       " 2017    5.440118\n",
       " 2018    6.393380\n",
       " 2019    8.796200,\n",
       " 'Romance':       popularity\n",
       " year            \n",
       " 1936    1.653000\n",
       " 1946    9.647000\n",
       " 1958    5.754000\n",
       " 1959   14.200000\n",
       " 1962    2.316000\n",
       " 1964    8.227000\n",
       " 1975    3.208000\n",
       " 1983    6.277000\n",
       " 1984   11.883000\n",
       " 1988   15.031000\n",
       " 1992    9.155000\n",
       " 1998    1.036000\n",
       " 1999   24.491000\n",
       " 2003    6.121000\n",
       " 2004   10.332000\n",
       " 2006   11.165000\n",
       " 2008    1.436000\n",
       " 2009    2.193333\n",
       " 2010    4.064828\n",
       " 2011    3.801242\n",
       " 2012    4.098573\n",
       " 2013    3.544466\n",
       " 2014    3.749921\n",
       " 2015    3.670461\n",
       " 2016    3.830674\n",
       " 2017    4.456207\n",
       " 2018    5.895778\n",
       " 2019    8.064400,\n",
       " 'Science Fiction':       popularity\n",
       " year            \n",
       " 1956   10.274000\n",
       " 1961    5.589000\n",
       " 1966    7.139000\n",
       " 1968   23.781000\n",
       " 1977   13.044000\n",
       " 1982   12.063000\n",
       " 1988    1.017000\n",
       " 1991   24.604000\n",
       " 1993   11.485000\n",
       " 1996    0.600000\n",
       " 1998   15.799000\n",
       " 2000    8.833000\n",
       " 2002   11.761000\n",
       " 2003    8.613000\n",
       " 2004   15.990000\n",
       " 2007    0.772000\n",
       " 2008    0.600000\n",
       " 2009   26.526000\n",
       " 2010    3.945862\n",
       " 2011    4.874529\n",
       " 2012    4.213222\n",
       " 2013    4.239038\n",
       " 2014    4.556542\n",
       " 2015    5.124237\n",
       " 2016    4.842059\n",
       " 2017    5.828095\n",
       " 2018    8.526357\n",
       " 2019    6.110000,\n",
       " 'TV Movie':       popularity\n",
       " year            \n",
       " 1999    0.600000\n",
       " 2003    8.661000\n",
       " 2004    0.600000\n",
       " 2005    0.600000\n",
       " 2008    1.672000\n",
       " 2009    7.372000\n",
       " 2010    3.037468\n",
       " 2011    2.562486\n",
       " 2012    2.712788\n",
       " 2013    2.390500\n",
       " 2014    2.203430\n",
       " 2015    2.747702\n",
       " 2016    2.528577\n",
       " 2017    2.267771\n",
       " 2018    3.460510,\n",
       " 'Thriller':       popularity\n",
       " year            \n",
       " 1933    2.292000\n",
       " 1949    5.439000\n",
       " 1959   12.710000\n",
       " 1974    9.569000\n",
       " 1976    9.467000\n",
       " 1980   12.481000\n",
       " 1983    6.306000\n",
       " 1985   10.374000\n",
       " 1986    3.913000\n",
       " 1988    1.017000\n",
       " 1991   20.672000\n",
       " 1995   12.309500\n",
       " 1996   14.962000\n",
       " 1997   14.522667\n",
       " 1998   15.799000\n",
       " 2000    8.833000\n",
       " 2001   10.886000\n",
       " 2002   14.427000\n",
       " 2003    4.630500\n",
       " 2004   17.094500\n",
       " 2005   10.851333\n",
       " 2007   15.620000\n",
       " 2008    0.626000\n",
       " 2009    4.312750\n",
       " 2010    4.168522\n",
       " 2011    4.540672\n",
       " 2012    4.526862\n",
       " 2013    4.270733\n",
       " 2014    4.675476\n",
       " 2015    4.508337\n",
       " 2016    4.488077\n",
       " 2017    4.827878\n",
       " 2018    6.655866\n",
       " 2019    7.718556,\n",
       " 'War':       popularity\n",
       " year            \n",
       " 1930    9.583000\n",
       " 1961    6.878000\n",
       " 1968    7.642000\n",
       " 1982   16.554000\n",
       " 1993   25.334000\n",
       " 2001   10.886000\n",
       " 2010    4.221476\n",
       " 2011    3.231324\n",
       " 2012    3.583467\n",
       " 2013    3.102000\n",
       " 2014    6.064364\n",
       " 2015    3.780128\n",
       " 2016    7.839514\n",
       " 2017    6.425468\n",
       " 2018    6.904000,\n",
       " 'Western':       popularity\n",
       " year            \n",
       " 1970    3.728000\n",
       " 2010    3.771950\n",
       " 2011    3.026810\n",
       " 2012    2.775412\n",
       " 2013    3.198214\n",
       " 2014    4.454824\n",
       " 2015    6.543864\n",
       " 2016    5.451762\n",
       " 2017    2.868295\n",
       " 2018    5.703148\n",
       " 2019    4.183000}"
      ]
     },
     "execution_count": 15,
     "metadata": {},
     "output_type": "execute_result"
    }
   ],
   "source": [
    "#view new popularity dictionary\n",
    "avgPopByGenre"
   ]
  },
  {
   "cell_type": "code",
   "execution_count": 16,
   "metadata": {},
   "outputs": [
    {
     "data": {
      "text/plain": [
       "<AxesSubplot:xlabel='year', ylabel='popularity'>"
      ]
     },
     "execution_count": 16,
     "metadata": {},
     "output_type": "execute_result"
    },
    {
     "data": {
      "image/png": "[encoded data removed]",
      "text/plain": [
       "<Figure size 432x288 with 1 Axes>"
      ]
     },
     "metadata": {
      "needs_background": "light"
     },
     "output_type": "display_data"
    }
   ],
   "source": [
    "# view trend in popularity by genre\n",
    "sns.lineplot(x = avgPopByGenre['Action'].index, y = avgPopByGenre['Action'][\"popularity\"])"
   ]
  },
  {
   "cell_type": "code",
   "execution_count": 17,
   "metadata": {},
   "outputs": [
    {
     "data": {
      "image/png": "[encoded data removed]",
      "text/plain": [
       "<Figure size 432x288 with 1 Axes>"
      ]
     },
     "metadata": {
      "needs_background": "light"
     },
     "output_type": "display_data"
    }
   ],
   "source": [
    "# Make a plot with all genre trends on one chart\n",
    "for i in avgPopByGenre:\n",
    "    sns.lineplot(x=avgPopByGenre[i].index, y=avgPopByGenre[i]['popularity'].values)"
   ]
  },
  {
   "cell_type": "code",
   "execution_count": 18,
   "metadata": {},
   "outputs": [
    {
     "data": {
      "text/plain": [
       "['Adventure', 'Action', 'Fantasy', 'Crime', 'War']"
      ]
     },
     "execution_count": 18,
     "metadata": {},
     "output_type": "execute_result"
    }
   ],
   "source": [
    "# it worked. Split into important genres. This is too busy\n",
    "# We have the list of most popular genres. Lets view the top 5 most popular generes\n",
    "\n",
    "#get list of top 5 genres\n",
    "mostPopGenre = sorted(popularityByGenre, key=popularityByGenre.get, reverse=True)[:5]\n",
    "mostPopGenre"
   ]
  },
  {
   "cell_type": "code",
   "execution_count": 19,
   "metadata": {},
   "outputs": [
    {
     "data": {
      "text/html": [
       "<div>\n",
       "<style scoped>\n",
       "    .dataframe tbody tr th:only-of-type {\n",
       "        vertical-align: middle;\n",
       "    }\n",
       "\n",
       "    .dataframe tbody tr th {\n",
       "        vertical-align: top;\n",
       "    }\n",
       "\n",
       "    .dataframe thead th {\n",
       "        text-align: right;\n",
       "    }\n",
       "</style>\n",
       "<table border=\"1\" class=\"dataframe\">\n",
       "  <thead>\n",
       "    <tr style=\"text-align: right;\">\n",
       "      <th></th>\n",
       "      <th>popularity</th>\n",
       "    </tr>\n",
       "    <tr>\n",
       "      <th>year</th>\n",
       "      <th></th>\n",
       "    </tr>\n",
       "  </thead>\n",
       "  <tbody>\n",
       "    <tr>\n",
       "      <th>2010</th>\n",
       "      <td>4.980996</td>\n",
       "    </tr>\n",
       "    <tr>\n",
       "      <th>2011</th>\n",
       "      <td>5.259779</td>\n",
       "    </tr>\n",
       "    <tr>\n",
       "      <th>2012</th>\n",
       "      <td>5.594142</td>\n",
       "    </tr>\n",
       "    <tr>\n",
       "      <th>2013</th>\n",
       "      <td>5.574356</td>\n",
       "    </tr>\n",
       "    <tr>\n",
       "      <th>2014</th>\n",
       "      <td>6.578004</td>\n",
       "    </tr>\n",
       "    <tr>\n",
       "      <th>2015</th>\n",
       "      <td>6.326961</td>\n",
       "    </tr>\n",
       "    <tr>\n",
       "      <th>2016</th>\n",
       "      <td>6.260686</td>\n",
       "    </tr>\n",
       "    <tr>\n",
       "      <th>2017</th>\n",
       "      <td>7.906579</td>\n",
       "    </tr>\n",
       "    <tr>\n",
       "      <th>2018</th>\n",
       "      <td>9.237353</td>\n",
       "    </tr>\n",
       "    <tr>\n",
       "      <th>2019</th>\n",
       "      <td>10.414750</td>\n",
       "    </tr>\n",
       "  </tbody>\n",
       "</table>\n",
       "</div>"
      ],
      "text/plain": [
       "      popularity\n",
       "year            \n",
       "2010    4.980996\n",
       "2011    5.259779\n",
       "2012    5.594142\n",
       "2013    5.574356\n",
       "2014    6.578004\n",
       "2015    6.326961\n",
       "2016    6.260686\n",
       "2017    7.906579\n",
       "2018    9.237353\n",
       "2019   10.414750"
      ]
     },
     "execution_count": 19,
     "metadata": {},
     "output_type": "execute_result"
    }
   ],
   "source": [
    "# get the avergae popularity score over the past 10 years for the action genre\n",
    "avgPopByGenre['Action'][avgPopByGenre['Action'].index>2009]"
   ]
  },
  {
   "cell_type": "code",
   "execution_count": 20,
   "metadata": {},
   "outputs": [],
   "source": [
    "#average poularitty  for the last 10 years for every genre\n",
    "popLastTenYears = {}\n",
    "for genre in avgPopByGenre:\n",
    "    popLastTenYears[genre] = float(avgPopByGenre[genre][avgPopByGenre[genre].index>2009].mean())"
   ]
  },
  {
   "cell_type": "code",
   "execution_count": 21,
   "metadata": {},
   "outputs": [
    {
     "data": {
      "text/plain": [
       "['Adventure', 'Action', 'Fantasy', 'Crime', 'Science Fiction']"
      ]
     },
     "execution_count": 21,
     "metadata": {},
     "output_type": "execute_result"
    }
   ],
   "source": [
    "# Get the most popular genres in the past 10 years\n",
    "mostPop10YR = sorted(popLastTenYears, key=popLastTenYears.get, reverse=True)[:5]\n",
    "mostPop10YR"
   ]
  },
  {
   "cell_type": "markdown",
   "metadata": {},
   "source": [
    "These 2 lists share 4 categories: **'Adventure', 'Action', 'Fantasy', 'Crime'**.\n",
    "\n",
    "It seems that war movies have lost popularity, while science fiction has taken its spot in the top 5.\n",
    "**War** fell from #5 to #8\n",
    "**Science Fiction** climbed from #6 to #5\n",
    "The following graph will include: **['Adventure', 'Action', 'Fantasy', 'Crime','War','Science Fiction']**"
   ]
  },
  {
   "cell_type": "code",
   "execution_count": 22,
   "metadata": {},
   "outputs": [
    {
     "data": {
      "text/plain": [
       "<matplotlib.legend.Legend at 0x232963bf880>"
      ]
     },
     "execution_count": 22,
     "metadata": {},
     "output_type": "execute_result"
    },
    {
     "data": {
      "image/png": "[encoded data removed]",
      "text/plain": [
       "<Figure size 432x288 with 1 Axes>"
      ]
     },
     "metadata": {
      "needs_background": "light"
     },
     "output_type": "display_data"
    }
   ],
   "source": [
    "#plot the most popular genres on one graph.\n",
    "fig, ax = plt.subplots()\n",
    "ax.set_xlim(2005,2020)\n",
    "for i in ['Adventure', 'Action', 'Fantasy', 'Crime','War','Science Fiction']:\n",
    "    sns.lineplot(x=avgPopByGenre[i].index, y=avgPopByGenre[i]['popularity'].values)\n",
    "ax.legend(['Adventure', 'Action', 'Fantasy', 'Crime','War','Science Fiction'])"
   ]
  },
  {
   "cell_type": "markdown",
   "metadata": {},
   "source": [
    "The Graph above is busy. Lets seperate the lines to get a better idea"
   ]
  },
  {
   "cell_type": "code",
   "execution_count": 23,
   "metadata": {
    "scrolled": true
   },
   "outputs": [
    {
     "data": {
      "image/png": "[encoded data removed]",
      "text/plain": [
       "<Figure size 1080x360 with 6 Axes>"
      ]
     },
     "metadata": {
      "needs_background": "light"
     },
     "output_type": "display_data"
    }
   ],
   "source": [
    "# Graph the most popular genres on 6 graphs on the same figure\n",
    "fig, ax = plt.subplots(3,2, sharex = True, sharey=True, figsize=(15,5))\n",
    "\n",
    "sns.set_context('talk', font_scale=.88)\n",
    "fig.suptitle('Popularity by Genre (Last 10 Years)')\n",
    "colors = ['#62b5e5','#046a38','#005587','#0076a8','#7f7f7f','#007680']\n",
    "l = ['Adventure', 'Action', 'Fantasy', 'Crime','War','Science Fiction']\n",
    "for i in range(len(l)):\n",
    "    ax[int(i%3)][int(i//3)].set_xlim(2010,2019)\n",
    "    ax[int(i%3)][int(i//3)].set_ylim(2.5,15)\n",
    "    ax[int(i%3)][int(i//3)].set_title(l[i])\n",
    "    ax[1][0].set_ylabel('Popularity')\n",
    "    ax[2][0].set_xlabel('Year')\n",
    "    ax[2][1].set_xlabel('Year')\n",
    "    \n",
    "    sns.lineplot(ax=ax[i%3][i//3], x=avgPopByGenre[l[i]].index, y=avgPopByGenre[l[i]]['popularity'].values, color=colors[i])\n",
    "sns.set_style('darkgrid')"
   ]
  },
  {
   "cell_type": "markdown",
   "metadata": {},
   "source": [
    "While war was not popular in the early 2010's, it has been gaining some momentum. Movies Action and crime have been increasing steadily, while the others seem more or less random. With only 10 years of data, its hard to tell where these genres are really headed"
   ]
  },
  {
   "cell_type": "markdown",
   "metadata": {},
   "source": [
    "***\n",
    "### Profitability By Genre (average)\n",
    "This section will help determine which genres have the highest profitability."
   ]
  },
  {
   "cell_type": "code",
   "execution_count": 24,
   "metadata": {},
   "outputs": [
    {
     "data": {
      "text/html": [
       "<div>\n",
       "<style scoped>\n",
       "    .dataframe tbody tr th:only-of-type {\n",
       "        vertical-align: middle;\n",
       "    }\n",
       "\n",
       "    .dataframe tbody tr th {\n",
       "        vertical-align: top;\n",
       "    }\n",
       "\n",
       "    .dataframe thead th {\n",
       "        text-align: right;\n",
       "    }\n",
       "</style>\n",
       "<table border=\"1\" class=\"dataframe\">\n",
       "  <thead>\n",
       "    <tr style=\"text-align: right;\">\n",
       "      <th></th>\n",
       "      <th>id</th>\n",
       "      <th>synopsis</th>\n",
       "      <th>rating</th>\n",
       "      <th>genre</th>\n",
       "      <th>director</th>\n",
       "      <th>writer</th>\n",
       "      <th>theater_date</th>\n",
       "      <th>dvd_date</th>\n",
       "      <th>currency</th>\n",
       "      <th>box_office</th>\n",
       "      <th>runtime</th>\n",
       "      <th>studio</th>\n",
       "    </tr>\n",
       "  </thead>\n",
       "  <tbody>\n",
       "    <tr>\n",
       "      <th>0</th>\n",
       "      <td>1</td>\n",
       "      <td>This gritty, fast-paced, and innovative police...</td>\n",
       "      <td>R</td>\n",
       "      <td>['Action', 'Adventure', 'Classics', 'Drama']</td>\n",
       "      <td>William Friedkin</td>\n",
       "      <td>Ernest Tidyman</td>\n",
       "      <td>1971-10-09 00:00:00</td>\n",
       "      <td>2001-09-25 00:00:00</td>\n",
       "      <td>-</td>\n",
       "      <td>0.0</td>\n",
       "      <td>104</td>\n",
       "      <td>-</td>\n",
       "    </tr>\n",
       "    <tr>\n",
       "      <th>1</th>\n",
       "      <td>3</td>\n",
       "      <td>New York City, not-too-distant-future: Eric Pa...</td>\n",
       "      <td>R</td>\n",
       "      <td>['Drama', 'Science Fiction', 'Fantasy']</td>\n",
       "      <td>David Cronenberg</td>\n",
       "      <td>David Cronenberg|Don DeLillo</td>\n",
       "      <td>2012-08-17 00:00:00</td>\n",
       "      <td>2013-01-01 00:00:00</td>\n",
       "      <td>$</td>\n",
       "      <td>600000.0</td>\n",
       "      <td>108</td>\n",
       "      <td>Entertainment One</td>\n",
       "    </tr>\n",
       "    <tr>\n",
       "      <th>2</th>\n",
       "      <td>5</td>\n",
       "      <td>Illeana Douglas delivers a superb performance ...</td>\n",
       "      <td>R</td>\n",
       "      <td>['Drama', 'Music']</td>\n",
       "      <td>Allison Anders</td>\n",
       "      <td>Allison Anders</td>\n",
       "      <td>1996-09-13 00:00:00</td>\n",
       "      <td>2000-04-18 00:00:00</td>\n",
       "      <td>-</td>\n",
       "      <td>0.0</td>\n",
       "      <td>116</td>\n",
       "      <td>-</td>\n",
       "    </tr>\n",
       "    <tr>\n",
       "      <th>3</th>\n",
       "      <td>6</td>\n",
       "      <td>Michael Douglas runs afoul of a treacherous su...</td>\n",
       "      <td>R</td>\n",
       "      <td>['Drama', 'Mystery']</td>\n",
       "      <td>Barry Levinson</td>\n",
       "      <td>Paul Attanasio|Michael Crichton</td>\n",
       "      <td>1994-12-09 00:00:00</td>\n",
       "      <td>1997-08-27 00:00:00</td>\n",
       "      <td>-</td>\n",
       "      <td>0.0</td>\n",
       "      <td>128</td>\n",
       "      <td>-</td>\n",
       "    </tr>\n",
       "    <tr>\n",
       "      <th>4</th>\n",
       "      <td>7</td>\n",
       "      <td>-</td>\n",
       "      <td>NR</td>\n",
       "      <td>['Drama', 'Romance']</td>\n",
       "      <td>Rodney Bennett</td>\n",
       "      <td>Giles Cooper</td>\n",
       "      <td>-</td>\n",
       "      <td>-</td>\n",
       "      <td>-</td>\n",
       "      <td>0.0</td>\n",
       "      <td>200</td>\n",
       "      <td>-</td>\n",
       "    </tr>\n",
       "  </tbody>\n",
       "</table>\n",
       "</div>"
      ],
      "text/plain": [
       "   id                                           synopsis rating  \\\n",
       "0   1  This gritty, fast-paced, and innovative police...      R   \n",
       "1   3  New York City, not-too-distant-future: Eric Pa...      R   \n",
       "2   5  Illeana Douglas delivers a superb performance ...      R   \n",
       "3   6  Michael Douglas runs afoul of a treacherous su...      R   \n",
       "4   7                                                  -     NR   \n",
       "\n",
       "                                          genre          director  \\\n",
       "0  ['Action', 'Adventure', 'Classics', 'Drama']  William Friedkin   \n",
       "1       ['Drama', 'Science Fiction', 'Fantasy']  David Cronenberg   \n",
       "2                            ['Drama', 'Music']    Allison Anders   \n",
       "3                          ['Drama', 'Mystery']    Barry Levinson   \n",
       "4                          ['Drama', 'Romance']    Rodney Bennett   \n",
       "\n",
       "                            writer         theater_date             dvd_date  \\\n",
       "0                   Ernest Tidyman  1971-10-09 00:00:00  2001-09-25 00:00:00   \n",
       "1     David Cronenberg|Don DeLillo  2012-08-17 00:00:00  2013-01-01 00:00:00   \n",
       "2                   Allison Anders  1996-09-13 00:00:00  2000-04-18 00:00:00   \n",
       "3  Paul Attanasio|Michael Crichton  1994-12-09 00:00:00  1997-08-27 00:00:00   \n",
       "4                     Giles Cooper                    -                    -   \n",
       "\n",
       "  currency  box_office  runtime             studio  \n",
       "0        -         0.0      104                  -  \n",
       "1        $    600000.0      108  Entertainment One  \n",
       "2        -         0.0      116                  -  \n",
       "3        -         0.0      128                  -  \n",
       "4        -         0.0      200                  -  "
      ]
     },
     "execution_count": 24,
     "metadata": {},
     "output_type": "execute_result"
    }
   ],
   "source": [
    "#view the data we will be working with\n",
    "movieInfo.head()"
   ]
  },
  {
   "cell_type": "code",
   "execution_count": 25,
   "metadata": {},
   "outputs": [
    {
     "data": {
      "text/plain": [
       "-    1217\n",
       "$     339\n",
       "Name: currency, dtype: int64"
      ]
     },
     "execution_count": 25,
     "metadata": {},
     "output_type": "execute_result"
    }
   ],
   "source": [
    "# there are only USD in this dataset. No conversions needed\n",
    "movieInfo['currency'].value_counts()"
   ]
  },
  {
   "cell_type": "code",
   "execution_count": 26,
   "metadata": {},
   "outputs": [
    {
     "name": "stderr",
     "output_type": "stream",
     "text": [
      "C:\\Users\\aplante\\Anaconda3\\envs\\learn-env\\lib\\site-packages\\seaborn\\distributions.py:2551: FutureWarning: `distplot` is a deprecated function and will be removed in a future version. Please adapt your code to use either `displot` (a figure-level function with similar flexibility) or `histplot` (an axes-level function for histograms).\n",
      "  warnings.warn(msg, FutureWarning)\n"
     ]
    },
    {
     "data": {
      "text/plain": [
       "<AxesSubplot:xlabel='box_office', ylabel='Density'>"
      ]
     },
     "execution_count": 26,
     "metadata": {},
     "output_type": "execute_result"
    },
    {
     "data": {
      "image/png": "[encoded data removed]",
      "text/plain": [
       "<Figure size 432x288 with 1 Axes>"
      ]
     },
     "metadata": {},
     "output_type": "display_data"
    }
   ],
   "source": [
    "# Visualize the distribution of box office sales\n",
    "sns.distplot(movieInfo[movieInfo['box_office']>0]['box_office'])\n",
    "# There are many small numbers in box office sales.\n",
    "# This resembles a power law distribution"
   ]
  },
  {
   "cell_type": "code",
   "execution_count": 27,
   "metadata": {
    "scrolled": true
   },
   "outputs": [
    {
     "data": {
      "text/plain": [
       "str"
      ]
     },
     "execution_count": 27,
     "metadata": {},
     "output_type": "execute_result"
    }
   ],
   "source": [
    "# Check the type of the genre column\n",
    "type(movieInfo['genre'][2])"
   ]
  },
  {
   "cell_type": "markdown",
   "metadata": {},
   "source": [
    "The goal right now is to be able to work with the genre column. We want to create a column for each genre, where it lists true or false if the given movie is of that genre. This will make visualizations and analysis easier:"
   ]
  },
  {
   "cell_type": "code",
   "execution_count": 28,
   "metadata": {},
   "outputs": [],
   "source": [
    "# The Genre column is of type string, when it should be list. \n",
    "# Changing the string to list using the code below\n",
    "import ast\n",
    "movieInfo.genre = movieInfo.genre.map(lambda x: ast.literal_eval(x))"
   ]
  },
  {
   "cell_type": "code",
   "execution_count": 29,
   "metadata": {},
   "outputs": [
    {
     "data": {
      "text/plain": [
       "list"
      ]
     },
     "execution_count": 29,
     "metadata": {},
     "output_type": "execute_result"
    }
   ],
   "source": [
    "#confirm that the change was successful\n",
    "type(movieInfo['genre'][2])"
   ]
  },
  {
   "cell_type": "code",
   "execution_count": 30,
   "metadata": {},
   "outputs": [
    {
     "name": "stdout",
     "output_type": "stream",
     "text": [
      "{'Horror', 'Action', 'Special Interest', 'Gay and Lesbian', 'Classics', 'Faith and Spirituality', 'Mystery', 'Animation', '-', 'Art House and International', 'Western', 'Science Fiction', 'Documentary', 'Comedy', 'Adventure', 'Family', 'TV Movie', 'Music', 'Romance', 'Fantasy', 'Cult Movies', 'Anime and Manga', 'Drama', 'Sports and Fitness'}\n"
     ]
    }
   ],
   "source": [
    "# Getting a list of all the genres that show up in the genres column.\n",
    "valCGenres = list(movieInfo['genre'].value_counts().index)\n",
    "l = []\n",
    "for i in valCGenres:\n",
    "    for j in i:\n",
    "        l.append(j)\n",
    "genres=set(l)\n",
    "print(genres)\n",
    "genres = list(genres)"
   ]
  },
  {
   "cell_type": "code",
   "execution_count": 31,
   "metadata": {},
   "outputs": [],
   "source": [
    "# Creates a column for every value in the genres list and returns true if that value shows up in the genre column\n",
    "for i in range(len(genres)):\n",
    "    movieInfo[genres[i]] = (movieInfo['genre'].map(lambda x: genres[i] in x).astype(int))"
   ]
  },
  {
   "cell_type": "code",
   "execution_count": 32,
   "metadata": {},
   "outputs": [
    {
     "data": {
      "text/html": [
       "<div>\n",
       "<style scoped>\n",
       "    .dataframe tbody tr th:only-of-type {\n",
       "        vertical-align: middle;\n",
       "    }\n",
       "\n",
       "    .dataframe tbody tr th {\n",
       "        vertical-align: top;\n",
       "    }\n",
       "\n",
       "    .dataframe thead th {\n",
       "        text-align: right;\n",
       "    }\n",
       "</style>\n",
       "<table border=\"1\" class=\"dataframe\">\n",
       "  <thead>\n",
       "    <tr style=\"text-align: right;\">\n",
       "      <th></th>\n",
       "      <th>id</th>\n",
       "      <th>synopsis</th>\n",
       "      <th>rating</th>\n",
       "      <th>genre</th>\n",
       "      <th>director</th>\n",
       "      <th>writer</th>\n",
       "      <th>theater_date</th>\n",
       "      <th>dvd_date</th>\n",
       "      <th>currency</th>\n",
       "      <th>box_office</th>\n",
       "      <th>...</th>\n",
       "      <th>Adventure</th>\n",
       "      <th>Family</th>\n",
       "      <th>TV Movie</th>\n",
       "      <th>Music</th>\n",
       "      <th>Romance</th>\n",
       "      <th>Fantasy</th>\n",
       "      <th>Cult Movies</th>\n",
       "      <th>Anime and Manga</th>\n",
       "      <th>Drama</th>\n",
       "      <th>Sports and Fitness</th>\n",
       "    </tr>\n",
       "  </thead>\n",
       "  <tbody>\n",
       "    <tr>\n",
       "      <th>0</th>\n",
       "      <td>1</td>\n",
       "      <td>This gritty, fast-paced, and innovative police...</td>\n",
       "      <td>R</td>\n",
       "      <td>[Action, Adventure, Classics, Drama]</td>\n",
       "      <td>William Friedkin</td>\n",
       "      <td>Ernest Tidyman</td>\n",
       "      <td>1971-10-09 00:00:00</td>\n",
       "      <td>2001-09-25 00:00:00</td>\n",
       "      <td>-</td>\n",
       "      <td>0.0</td>\n",
       "      <td>...</td>\n",
       "      <td>1</td>\n",
       "      <td>0</td>\n",
       "      <td>0</td>\n",
       "      <td>0</td>\n",
       "      <td>0</td>\n",
       "      <td>0</td>\n",
       "      <td>0</td>\n",
       "      <td>0</td>\n",
       "      <td>1</td>\n",
       "      <td>0</td>\n",
       "    </tr>\n",
       "    <tr>\n",
       "      <th>1</th>\n",
       "      <td>3</td>\n",
       "      <td>New York City, not-too-distant-future: Eric Pa...</td>\n",
       "      <td>R</td>\n",
       "      <td>[Drama, Science Fiction, Fantasy]</td>\n",
       "      <td>David Cronenberg</td>\n",
       "      <td>David Cronenberg|Don DeLillo</td>\n",
       "      <td>2012-08-17 00:00:00</td>\n",
       "      <td>2013-01-01 00:00:00</td>\n",
       "      <td>$</td>\n",
       "      <td>600000.0</td>\n",
       "      <td>...</td>\n",
       "      <td>0</td>\n",
       "      <td>0</td>\n",
       "      <td>0</td>\n",
       "      <td>0</td>\n",
       "      <td>0</td>\n",
       "      <td>1</td>\n",
       "      <td>0</td>\n",
       "      <td>0</td>\n",
       "      <td>1</td>\n",
       "      <td>0</td>\n",
       "    </tr>\n",
       "    <tr>\n",
       "      <th>2</th>\n",
       "      <td>5</td>\n",
       "      <td>Illeana Douglas delivers a superb performance ...</td>\n",
       "      <td>R</td>\n",
       "      <td>[Drama, Music]</td>\n",
       "      <td>Allison Anders</td>\n",
       "      <td>Allison Anders</td>\n",
       "      <td>1996-09-13 00:00:00</td>\n",
       "      <td>2000-04-18 00:00:00</td>\n",
       "      <td>-</td>\n",
       "      <td>0.0</td>\n",
       "      <td>...</td>\n",
       "      <td>0</td>\n",
       "      <td>0</td>\n",
       "      <td>0</td>\n",
       "      <td>1</td>\n",
       "      <td>0</td>\n",
       "      <td>0</td>\n",
       "      <td>0</td>\n",
       "      <td>0</td>\n",
       "      <td>1</td>\n",
       "      <td>0</td>\n",
       "    </tr>\n",
       "    <tr>\n",
       "      <th>3</th>\n",
       "      <td>6</td>\n",
       "      <td>Michael Douglas runs afoul of a treacherous su...</td>\n",
       "      <td>R</td>\n",
       "      <td>[Drama, Mystery]</td>\n",
       "      <td>Barry Levinson</td>\n",
       "      <td>Paul Attanasio|Michael Crichton</td>\n",
       "      <td>1994-12-09 00:00:00</td>\n",
       "      <td>1997-08-27 00:00:00</td>\n",
       "      <td>-</td>\n",
       "      <td>0.0</td>\n",
       "      <td>...</td>\n",
       "      <td>0</td>\n",
       "      <td>0</td>\n",
       "      <td>0</td>\n",
       "      <td>0</td>\n",
       "      <td>0</td>\n",
       "      <td>0</td>\n",
       "      <td>0</td>\n",
       "      <td>0</td>\n",
       "      <td>1</td>\n",
       "      <td>0</td>\n",
       "    </tr>\n",
       "    <tr>\n",
       "      <th>4</th>\n",
       "      <td>7</td>\n",
       "      <td>-</td>\n",
       "      <td>NR</td>\n",
       "      <td>[Drama, Romance]</td>\n",
       "      <td>Rodney Bennett</td>\n",
       "      <td>Giles Cooper</td>\n",
       "      <td>-</td>\n",
       "      <td>-</td>\n",
       "      <td>-</td>\n",
       "      <td>0.0</td>\n",
       "      <td>...</td>\n",
       "      <td>0</td>\n",
       "      <td>0</td>\n",
       "      <td>0</td>\n",
       "      <td>0</td>\n",
       "      <td>1</td>\n",
       "      <td>0</td>\n",
       "      <td>0</td>\n",
       "      <td>0</td>\n",
       "      <td>1</td>\n",
       "      <td>0</td>\n",
       "    </tr>\n",
       "    <tr>\n",
       "      <th>...</th>\n",
       "      <td>...</td>\n",
       "      <td>...</td>\n",
       "      <td>...</td>\n",
       "      <td>...</td>\n",
       "      <td>...</td>\n",
       "      <td>...</td>\n",
       "      <td>...</td>\n",
       "      <td>...</td>\n",
       "      <td>...</td>\n",
       "      <td>...</td>\n",
       "      <td>...</td>\n",
       "      <td>...</td>\n",
       "      <td>...</td>\n",
       "      <td>...</td>\n",
       "      <td>...</td>\n",
       "      <td>...</td>\n",
       "      <td>...</td>\n",
       "      <td>...</td>\n",
       "      <td>...</td>\n",
       "      <td>...</td>\n",
       "      <td>...</td>\n",
       "    </tr>\n",
       "    <tr>\n",
       "      <th>1551</th>\n",
       "      <td>1996</td>\n",
       "      <td>Forget terrorists or hijackers -- there's a ha...</td>\n",
       "      <td>R</td>\n",
       "      <td>[Action, Adventure, Horror, Mystery]</td>\n",
       "      <td>-</td>\n",
       "      <td>-</td>\n",
       "      <td>2006-08-18 00:00:00</td>\n",
       "      <td>2007-01-02 00:00:00</td>\n",
       "      <td>$</td>\n",
       "      <td>33886034.0</td>\n",
       "      <td>...</td>\n",
       "      <td>1</td>\n",
       "      <td>0</td>\n",
       "      <td>0</td>\n",
       "      <td>0</td>\n",
       "      <td>0</td>\n",
       "      <td>0</td>\n",
       "      <td>0</td>\n",
       "      <td>0</td>\n",
       "      <td>0</td>\n",
       "      <td>0</td>\n",
       "    </tr>\n",
       "    <tr>\n",
       "      <th>1552</th>\n",
       "      <td>1997</td>\n",
       "      <td>The popular Saturday Night Live sketch was exp...</td>\n",
       "      <td>PG</td>\n",
       "      <td>[Comedy, Science Fiction, Fantasy]</td>\n",
       "      <td>Steve Barron</td>\n",
       "      <td>Terry Turner|Tom Davis|Dan Aykroyd|Bonnie Turner</td>\n",
       "      <td>1993-07-23 00:00:00</td>\n",
       "      <td>2001-04-17 00:00:00</td>\n",
       "      <td>-</td>\n",
       "      <td>0.0</td>\n",
       "      <td>...</td>\n",
       "      <td>0</td>\n",
       "      <td>0</td>\n",
       "      <td>0</td>\n",
       "      <td>0</td>\n",
       "      <td>0</td>\n",
       "      <td>1</td>\n",
       "      <td>0</td>\n",
       "      <td>0</td>\n",
       "      <td>0</td>\n",
       "      <td>0</td>\n",
       "    </tr>\n",
       "    <tr>\n",
       "      <th>1553</th>\n",
       "      <td>1998</td>\n",
       "      <td>Based on a novel by Richard Powell, when the l...</td>\n",
       "      <td>G</td>\n",
       "      <td>[Classics, Comedy, Drama, Music]</td>\n",
       "      <td>Gordon Douglas</td>\n",
       "      <td>-</td>\n",
       "      <td>1962-01-01 00:00:00</td>\n",
       "      <td>2004-05-11 00:00:00</td>\n",
       "      <td>-</td>\n",
       "      <td>0.0</td>\n",
       "      <td>...</td>\n",
       "      <td>0</td>\n",
       "      <td>0</td>\n",
       "      <td>0</td>\n",
       "      <td>1</td>\n",
       "      <td>0</td>\n",
       "      <td>0</td>\n",
       "      <td>0</td>\n",
       "      <td>0</td>\n",
       "      <td>1</td>\n",
       "      <td>0</td>\n",
       "    </tr>\n",
       "    <tr>\n",
       "      <th>1554</th>\n",
       "      <td>1999</td>\n",
       "      <td>The Sandlot is a coming-of-age story about a g...</td>\n",
       "      <td>PG</td>\n",
       "      <td>[Comedy, Drama, Family, Sports and Fitness]</td>\n",
       "      <td>David Mickey Evans</td>\n",
       "      <td>David Mickey Evans|Robert Gunter</td>\n",
       "      <td>1993-04-01 00:00:00</td>\n",
       "      <td>2002-01-29 00:00:00</td>\n",
       "      <td>-</td>\n",
       "      <td>0.0</td>\n",
       "      <td>...</td>\n",
       "      <td>0</td>\n",
       "      <td>1</td>\n",
       "      <td>0</td>\n",
       "      <td>0</td>\n",
       "      <td>0</td>\n",
       "      <td>0</td>\n",
       "      <td>0</td>\n",
       "      <td>0</td>\n",
       "      <td>1</td>\n",
       "      <td>1</td>\n",
       "    </tr>\n",
       "    <tr>\n",
       "      <th>1555</th>\n",
       "      <td>2000</td>\n",
       "      <td>Suspended from the force, Paris cop Hubert is ...</td>\n",
       "      <td>R</td>\n",
       "      <td>[Action, Adventure, Art House and Internationa...</td>\n",
       "      <td>-</td>\n",
       "      <td>Luc Besson</td>\n",
       "      <td>2001-09-27 00:00:00</td>\n",
       "      <td>2003-02-11 00:00:00</td>\n",
       "      <td>-</td>\n",
       "      <td>0.0</td>\n",
       "      <td>...</td>\n",
       "      <td>1</td>\n",
       "      <td>0</td>\n",
       "      <td>0</td>\n",
       "      <td>0</td>\n",
       "      <td>0</td>\n",
       "      <td>0</td>\n",
       "      <td>0</td>\n",
       "      <td>0</td>\n",
       "      <td>1</td>\n",
       "      <td>0</td>\n",
       "    </tr>\n",
       "  </tbody>\n",
       "</table>\n",
       "<p>1556 rows × 36 columns</p>\n",
       "</div>"
      ],
      "text/plain": [
       "        id                                           synopsis rating  \\\n",
       "0        1  This gritty, fast-paced, and innovative police...      R   \n",
       "1        3  New York City, not-too-distant-future: Eric Pa...      R   \n",
       "2        5  Illeana Douglas delivers a superb performance ...      R   \n",
       "3        6  Michael Douglas runs afoul of a treacherous su...      R   \n",
       "4        7                                                  -     NR   \n",
       "...    ...                                                ...    ...   \n",
       "1551  1996  Forget terrorists or hijackers -- there's a ha...      R   \n",
       "1552  1997  The popular Saturday Night Live sketch was exp...     PG   \n",
       "1553  1998  Based on a novel by Richard Powell, when the l...      G   \n",
       "1554  1999  The Sandlot is a coming-of-age story about a g...     PG   \n",
       "1555  2000  Suspended from the force, Paris cop Hubert is ...      R   \n",
       "\n",
       "                                                  genre            director  \\\n",
       "0                  [Action, Adventure, Classics, Drama]    William Friedkin   \n",
       "1                     [Drama, Science Fiction, Fantasy]    David Cronenberg   \n",
       "2                                        [Drama, Music]      Allison Anders   \n",
       "3                                      [Drama, Mystery]      Barry Levinson   \n",
       "4                                      [Drama, Romance]      Rodney Bennett   \n",
       "...                                                 ...                 ...   \n",
       "1551               [Action, Adventure, Horror, Mystery]                   -   \n",
       "1552                 [Comedy, Science Fiction, Fantasy]        Steve Barron   \n",
       "1553                   [Classics, Comedy, Drama, Music]      Gordon Douglas   \n",
       "1554        [Comedy, Drama, Family, Sports and Fitness]  David Mickey Evans   \n",
       "1555  [Action, Adventure, Art House and Internationa...                   -   \n",
       "\n",
       "                                                writer         theater_date  \\\n",
       "0                                       Ernest Tidyman  1971-10-09 00:00:00   \n",
       "1                         David Cronenberg|Don DeLillo  2012-08-17 00:00:00   \n",
       "2                                       Allison Anders  1996-09-13 00:00:00   \n",
       "3                      Paul Attanasio|Michael Crichton  1994-12-09 00:00:00   \n",
       "4                                         Giles Cooper                    -   \n",
       "...                                                ...                  ...   \n",
       "1551                                                 -  2006-08-18 00:00:00   \n",
       "1552  Terry Turner|Tom Davis|Dan Aykroyd|Bonnie Turner  1993-07-23 00:00:00   \n",
       "1553                                                 -  1962-01-01 00:00:00   \n",
       "1554                  David Mickey Evans|Robert Gunter  1993-04-01 00:00:00   \n",
       "1555                                        Luc Besson  2001-09-27 00:00:00   \n",
       "\n",
       "                 dvd_date currency  box_office  ...  Adventure Family  \\\n",
       "0     2001-09-25 00:00:00        -         0.0  ...          1      0   \n",
       "1     2013-01-01 00:00:00        $    600000.0  ...          0      0   \n",
       "2     2000-04-18 00:00:00        -         0.0  ...          0      0   \n",
       "3     1997-08-27 00:00:00        -         0.0  ...          0      0   \n",
       "4                       -        -         0.0  ...          0      0   \n",
       "...                   ...      ...         ...  ...        ...    ...   \n",
       "1551  2007-01-02 00:00:00        $  33886034.0  ...          1      0   \n",
       "1552  2001-04-17 00:00:00        -         0.0  ...          0      0   \n",
       "1553  2004-05-11 00:00:00        -         0.0  ...          0      0   \n",
       "1554  2002-01-29 00:00:00        -         0.0  ...          0      1   \n",
       "1555  2003-02-11 00:00:00        -         0.0  ...          1      0   \n",
       "\n",
       "      TV Movie  Music  Romance  Fantasy  Cult Movies  Anime and Manga  Drama  \\\n",
       "0            0      0        0        0            0                0      1   \n",
       "1            0      0        0        1            0                0      1   \n",
       "2            0      1        0        0            0                0      1   \n",
       "3            0      0        0        0            0                0      1   \n",
       "4            0      0        1        0            0                0      1   \n",
       "...        ...    ...      ...      ...          ...              ...    ...   \n",
       "1551         0      0        0        0            0                0      0   \n",
       "1552         0      0        0        1            0                0      0   \n",
       "1553         0      1        0        0            0                0      1   \n",
       "1554         0      0        0        0            0                0      1   \n",
       "1555         0      0        0        0            0                0      1   \n",
       "\n",
       "      Sports and Fitness  \n",
       "0                      0  \n",
       "1                      0  \n",
       "2                      0  \n",
       "3                      0  \n",
       "4                      0  \n",
       "...                  ...  \n",
       "1551                   0  \n",
       "1552                   0  \n",
       "1553                   0  \n",
       "1554                   1  \n",
       "1555                   0  \n",
       "\n",
       "[1556 rows x 36 columns]"
      ]
     },
     "execution_count": 32,
     "metadata": {},
     "output_type": "execute_result"
    }
   ],
   "source": [
    "# Ensure that the change was a success\n",
    "movieInfo"
   ]
  },
  {
   "cell_type": "markdown",
   "metadata": {},
   "source": [
    "We successfully created boolean columns for the genres. Now we may begin data analysis. \n",
    "\n",
    "Lets start by looking to see the **median box office revenue** for every genre:"
   ]
  },
  {
   "cell_type": "code",
   "execution_count": 33,
   "metadata": {},
   "outputs": [],
   "source": [
    "#create dictionary that shows median box office for every genre \n",
    "genre_dict2={}\n",
    "for i in genres:\n",
    "    genre_dict2[i] = movieInfo[(movieInfo[i]==1) & (movieInfo['box_office']>1)]['box_office'].astype(int).median()"
   ]
  },
  {
   "cell_type": "code",
   "execution_count": 34,
   "metadata": {},
   "outputs": [
    {
     "data": {
      "text/plain": [
       "{'Horror': 19755422.0,\n",
       " 'Action': 36282491.0,\n",
       " 'Special Interest': 308164.0,\n",
       " 'Gay and Lesbian': nan,\n",
       " 'Classics': 6750000.0,\n",
       " 'Faith and Spirituality': 4894004.0,\n",
       " 'Mystery': 17230619.5,\n",
       " 'Animation': 42194060.0,\n",
       " '-': nan,\n",
       " 'Art House and International': 1089802.0,\n",
       " 'Western': 7200000.0,\n",
       " 'Science Fiction': 33075902.0,\n",
       " 'Documentary': 419361.0,\n",
       " 'Comedy': 17364602.0,\n",
       " 'Adventure': 36282491.0,\n",
       " 'Family': 39764012.0,\n",
       " 'TV Movie': 2927972.0,\n",
       " 'Music': 4894004.0,\n",
       " 'Romance': 22701447.5,\n",
       " 'Fantasy': 33075902.0,\n",
       " 'Cult Movies': 13900000.0,\n",
       " 'Anime and Manga': nan,\n",
       " 'Drama': 8518148.0,\n",
       " 'Sports and Fitness': 21241679.0}"
      ]
     },
     "execution_count": 34,
     "metadata": {},
     "output_type": "execute_result"
    }
   ],
   "source": [
    "# view this new dictionary\n",
    "genre_dict2"
   ]
  },
  {
   "cell_type": "code",
   "execution_count": 35,
   "metadata": {
    "scrolled": true
   },
   "outputs": [
    {
     "data": {
      "image/png": "[encoded data removed]",
      "text/plain": [
       "<Figure size 504x720 with 1 Axes>"
      ]
     },
     "metadata": {},
     "output_type": "display_data"
    }
   ],
   "source": [
    "# There are nan values in this, likely because those genres had no recorded revenue\n",
    "# For now, we will leave them in the dataset. We will remove later\n",
    "\n",
    "# Graph the median box office sales for each genre\n",
    "fig, ax = plt.subplots(figsize=(7,10))\n",
    "sns.barplot(y = list(genre_dict2.keys()), x=list(genre_dict2.values()))\n",
    "plt.show()"
   ]
  },
  {
   "cell_type": "markdown",
   "metadata": {},
   "source": [
    "This bargrraph shows good information. Now lets clean it up to select only the genres with 25 or more recorded box office sales in the database"
   ]
  },
  {
   "cell_type": "code",
   "execution_count": 36,
   "metadata": {},
   "outputs": [],
   "source": [
    "# Creating a dictionary that shows the number of genres with recorded box office sales for each genre\n",
    "genre_dict_len={}\n",
    "for i in genres:\n",
    "    genre_dict_len[i] = len(movieInfo[(movieInfo[i]==1) & (movieInfo['box_office']>1)]['box_office'])\n",
    "\n",
    "# Create a second Genre Length dictionary for items with over 24 recorded box office sales instances\n",
    "gdl2 = {k:v for (k,v) in genre_dict_len.items() if v>25}"
   ]
  },
  {
   "cell_type": "code",
   "execution_count": 37,
   "metadata": {},
   "outputs": [],
   "source": [
    "# Create a new dictionary from the ones above that shows median box office sales \n",
    "# for films with over 24 recorded box office sales instances \n",
    "avgRevforPopularGenres = {k:v for (k,v) in genre_dict2.items() if k in gdl2.keys()}\n",
    "\n",
    "# sort the values\n",
    "avgRevforPopularGenres = {k:v for k,v in sorted(avgRevforPopularGenres.items(), key=lambda item: item[1], reverse = True)}\n"
   ]
  },
  {
   "cell_type": "code",
   "execution_count": 38,
   "metadata": {
    "scrolled": false
   },
   "outputs": [
    {
     "data": {
      "image/png": "[encoded data removed]",
      "text/plain": [
       "<Figure size 360x360 with 1 Axes>"
      ]
     },
     "metadata": {},
     "output_type": "display_data"
    }
   ],
   "source": [
    "# Plot the median box office sales for films with over 24 recorded box office sales instances\n",
    "fig, ax = plt.subplots(figsize=(5,5))\n",
    "sns.barplot(y = list(avgRevforPopularGenres.keys()), x=list(avgRevforPopularGenres.values()))\n",
    "plt.show()"
   ]
  },
  {
   "cell_type": "markdown",
   "metadata": {},
   "source": [
    "The box plot above shows that Family films has the highest median profit, followed by Action and Adventure, then Fantasy and Science Fiction."
   ]
  },
  {
   "cell_type": "markdown",
   "metadata": {},
   "source": [
    "### Runtime and sales\n",
    "We are going to investigate the effect that box runtime has on box office sales."
   ]
  },
  {
   "cell_type": "code",
   "execution_count": 39,
   "metadata": {},
   "outputs": [
    {
     "data": {
      "text/plain": [
       "0         0.0\n",
       "1    600000.0\n",
       "2         0.0\n",
       "3         0.0\n",
       "4         0.0\n",
       "Name: box_office, dtype: float64"
      ]
     },
     "execution_count": 39,
     "metadata": {},
     "output_type": "execute_result"
    }
   ],
   "source": [
    "# View both columns\n",
    "movieInfo['runtime'].head()\n",
    "movieInfo['box_office'].head()"
   ]
  },
  {
   "cell_type": "code",
   "execution_count": 40,
   "metadata": {},
   "outputs": [
    {
     "data": {
      "text/plain": [
       "1         600000.0\n",
       "6       41032915.0\n",
       "7         224114.0\n",
       "8         134904.0\n",
       "15       1039869.0\n",
       "           ...    \n",
       "1538    25335935.0\n",
       "1539     1416189.0\n",
       "1541       59371.0\n",
       "1542      794306.0\n",
       "1551    33886034.0\n",
       "Name: box_office, Length: 339, dtype: float64"
      ]
     },
     "execution_count": 40,
     "metadata": {},
     "output_type": "execute_result"
    }
   ],
   "source": [
    "# Create new table that only includes rows with recorded sales\n",
    "sales = movieInfo[movieInfo['box_office']>0]\n",
    "\n",
    "# Check to ensure there are no 0s\n",
    "sales['box_office']"
   ]
  },
  {
   "cell_type": "code",
   "execution_count": 41,
   "metadata": {
    "scrolled": true
   },
   "outputs": [
    {
     "data": {
      "text/plain": [
       "<AxesSubplot:xlabel='runtime', ylabel='box_office'>"
      ]
     },
     "execution_count": 41,
     "metadata": {},
     "output_type": "execute_result"
    },
    {
     "data": {
      "image/png": "[encoded data removed]",
      "text/plain": [
       "<Figure size 432x288 with 1 Axes>"
      ]
     },
     "metadata": {},
     "output_type": "display_data"
    }
   ],
   "source": [
    "# Create a scatterplot to visualize the relationship between box office sales and runtime\n",
    "sns.scatterplot(x=sales['runtime'], y=sales['box_office'])\n",
    "# There looks to be little correlation."
   ]
  },
  {
   "cell_type": "markdown",
   "metadata": {},
   "source": [
    "It looks like there is little correlation between run time and box office sales. This relationship should not be viewed any longer\n",
    "\n",
    "### Gross Income by Year\n",
    "We will view how the gross income has changed across years"
   ]
  },
  {
   "cell_type": "code",
   "execution_count": 42,
   "metadata": {},
   "outputs": [
    {
     "data": {
      "text/html": [
       "<div>\n",
       "<style scoped>\n",
       "    .dataframe tbody tr th:only-of-type {\n",
       "        vertical-align: middle;\n",
       "    }\n",
       "\n",
       "    .dataframe tbody tr th {\n",
       "        vertical-align: top;\n",
       "    }\n",
       "\n",
       "    .dataframe thead th {\n",
       "        text-align: right;\n",
       "    }\n",
       "</style>\n",
       "<table border=\"1\" class=\"dataframe\">\n",
       "  <thead>\n",
       "    <tr style=\"text-align: right;\">\n",
       "      <th></th>\n",
       "      <th>Unnamed: 0</th>\n",
       "      <th>title</th>\n",
       "      <th>studio</th>\n",
       "      <th>domestic_gross</th>\n",
       "      <th>foreign_gross</th>\n",
       "      <th>year</th>\n",
       "    </tr>\n",
       "  </thead>\n",
       "  <tbody>\n",
       "    <tr>\n",
       "      <th>0</th>\n",
       "      <td>0</td>\n",
       "      <td>Toy Story 3</td>\n",
       "      <td>BV</td>\n",
       "      <td>415000000</td>\n",
       "      <td>652000000</td>\n",
       "      <td>2010-01-01</td>\n",
       "    </tr>\n",
       "    <tr>\n",
       "      <th>1</th>\n",
       "      <td>1</td>\n",
       "      <td>Alice in Wonderland (2010)</td>\n",
       "      <td>BV</td>\n",
       "      <td>334200000</td>\n",
       "      <td>691300000</td>\n",
       "      <td>2010-01-01</td>\n",
       "    </tr>\n",
       "    <tr>\n",
       "      <th>2</th>\n",
       "      <td>2</td>\n",
       "      <td>Harry Potter and the Deathly Hallows Part 1</td>\n",
       "      <td>WB</td>\n",
       "      <td>296000000</td>\n",
       "      <td>664300000</td>\n",
       "      <td>2010-01-01</td>\n",
       "    </tr>\n",
       "    <tr>\n",
       "      <th>3</th>\n",
       "      <td>3</td>\n",
       "      <td>Inception</td>\n",
       "      <td>WB</td>\n",
       "      <td>292600000</td>\n",
       "      <td>535700000</td>\n",
       "      <td>2010-01-01</td>\n",
       "    </tr>\n",
       "    <tr>\n",
       "      <th>4</th>\n",
       "      <td>4</td>\n",
       "      <td>Shrek Forever After</td>\n",
       "      <td>P/DW</td>\n",
       "      <td>238700000</td>\n",
       "      <td>513900000</td>\n",
       "      <td>2010-01-01</td>\n",
       "    </tr>\n",
       "  </tbody>\n",
       "</table>\n",
       "</div>"
      ],
      "text/plain": [
       "   Unnamed: 0                                        title studio  \\\n",
       "0           0                                  Toy Story 3     BV   \n",
       "1           1                   Alice in Wonderland (2010)     BV   \n",
       "2           2  Harry Potter and the Deathly Hallows Part 1     WB   \n",
       "3           3                                    Inception     WB   \n",
       "4           4                          Shrek Forever After   P/DW   \n",
       "\n",
       "   domestic_gross  foreign_gross        year  \n",
       "0       415000000      652000000  2010-01-01  \n",
       "1       334200000      691300000  2010-01-01  \n",
       "2       296000000      664300000  2010-01-01  \n",
       "3       292600000      535700000  2010-01-01  \n",
       "4       238700000      513900000  2010-01-01  "
      ]
     },
     "execution_count": 42,
     "metadata": {},
     "output_type": "execute_result"
    }
   ],
   "source": [
    "# View the table we are \n",
    "movieGross.head()"
   ]
  },
  {
   "cell_type": "code",
   "execution_count": 43,
   "metadata": {},
   "outputs": [],
   "source": [
    "# Change the year column to a data time, and take the median for the\n",
    "movieGross['year'] = pd.to_datetime(movieGross['year']).dt.year\n",
    "dgByYear = movieGross['domestic_gross'].groupby(movieGross['year']).median()"
   ]
  },
  {
   "cell_type": "code",
   "execution_count": 44,
   "metadata": {
    "scrolled": true
   },
   "outputs": [
    {
     "data": {
      "text/plain": [
       "<AxesSubplot:xlabel='year', ylabel='domestic_gross'>"
      ]
     },
     "execution_count": 44,
     "metadata": {},
     "output_type": "execute_result"
    },
    {
     "data": {
      "image/png": "[encoded data removed]",
      "text/plain": [
       "<Figure size 432x288 with 1 Axes>"
      ]
     },
     "metadata": {},
     "output_type": "display_data"
    }
   ],
   "source": [
    "#plot the distribution\n",
    "sns.barplot(x = dgByYear.index, y=dgByYear)"
   ]
  },
  {
   "cell_type": "markdown",
   "metadata": {},
   "source": [
    "There is no clear relationship between year and median gross revenue. This distribution is still interesting to see.\n",
    "\n",
    "### Return on Investment by Month of Release\n",
    "We will determine if there is a relationship between Return on Investment (ROI) and the month a movie is released.\n",
    "\n",
    "                        ROI(%) = profit/cost = (revenue-cost)/cost"
   ]
  },
  {
   "cell_type": "code",
   "execution_count": 45,
   "metadata": {},
   "outputs": [],
   "source": [
    "# Making new column for Return on investment\n",
    "#ROI = profit / cost\n",
    "movieBudgets['ROI']=(movieBudgets['worldwide_gross']-movieBudgets['production_budget'])/movieBudgets['production_budget']*100"
   ]
  },
  {
   "cell_type": "code",
   "execution_count": 46,
   "metadata": {
    "scrolled": true
   },
   "outputs": [
    {
     "data": {
      "text/html": [
       "<div>\n",
       "<style scoped>\n",
       "    .dataframe tbody tr th:only-of-type {\n",
       "        vertical-align: middle;\n",
       "    }\n",
       "\n",
       "    .dataframe tbody tr th {\n",
       "        vertical-align: top;\n",
       "    }\n",
       "\n",
       "    .dataframe thead th {\n",
       "        text-align: right;\n",
       "    }\n",
       "</style>\n",
       "<table border=\"1\" class=\"dataframe\">\n",
       "  <thead>\n",
       "    <tr style=\"text-align: right;\">\n",
       "      <th></th>\n",
       "      <th>Unnamed: 0</th>\n",
       "      <th>id</th>\n",
       "      <th>release_date</th>\n",
       "      <th>movie</th>\n",
       "      <th>production_budget</th>\n",
       "      <th>domestic_gross</th>\n",
       "      <th>worldwide_gross</th>\n",
       "      <th>ROI</th>\n",
       "    </tr>\n",
       "  </thead>\n",
       "  <tbody>\n",
       "    <tr>\n",
       "      <th>0</th>\n",
       "      <td>0</td>\n",
       "      <td>1</td>\n",
       "      <td>2009-12-18</td>\n",
       "      <td>Avatar</td>\n",
       "      <td>425000000</td>\n",
       "      <td>760507625</td>\n",
       "      <td>2776345279</td>\n",
       "      <td>553.257713</td>\n",
       "    </tr>\n",
       "    <tr>\n",
       "      <th>1</th>\n",
       "      <td>1</td>\n",
       "      <td>2</td>\n",
       "      <td>2011-05-20</td>\n",
       "      <td>Pirates of the Caribbean: On Stranger Tides</td>\n",
       "      <td>410600000</td>\n",
       "      <td>241063875</td>\n",
       "      <td>1045663875</td>\n",
       "      <td>154.667286</td>\n",
       "    </tr>\n",
       "    <tr>\n",
       "      <th>2</th>\n",
       "      <td>2</td>\n",
       "      <td>3</td>\n",
       "      <td>2019-06-07</td>\n",
       "      <td>Dark Phoenix</td>\n",
       "      <td>350000000</td>\n",
       "      <td>42762350</td>\n",
       "      <td>149762350</td>\n",
       "      <td>-57.210757</td>\n",
       "    </tr>\n",
       "    <tr>\n",
       "      <th>3</th>\n",
       "      <td>3</td>\n",
       "      <td>4</td>\n",
       "      <td>2015-05-01</td>\n",
       "      <td>Avengers: Age of Ultron</td>\n",
       "      <td>330600000</td>\n",
       "      <td>459005868</td>\n",
       "      <td>1403013963</td>\n",
       "      <td>324.384139</td>\n",
       "    </tr>\n",
       "    <tr>\n",
       "      <th>4</th>\n",
       "      <td>4</td>\n",
       "      <td>5</td>\n",
       "      <td>2017-12-15</td>\n",
       "      <td>Star Wars Ep. VIII: The Last Jedi</td>\n",
       "      <td>317000000</td>\n",
       "      <td>620181382</td>\n",
       "      <td>1316721747</td>\n",
       "      <td>315.369636</td>\n",
       "    </tr>\n",
       "    <tr>\n",
       "      <th>...</th>\n",
       "      <td>...</td>\n",
       "      <td>...</td>\n",
       "      <td>...</td>\n",
       "      <td>...</td>\n",
       "      <td>...</td>\n",
       "      <td>...</td>\n",
       "      <td>...</td>\n",
       "      <td>...</td>\n",
       "    </tr>\n",
       "    <tr>\n",
       "      <th>5777</th>\n",
       "      <td>5777</td>\n",
       "      <td>78</td>\n",
       "      <td>2018-12-31</td>\n",
       "      <td>Red 11</td>\n",
       "      <td>7000</td>\n",
       "      <td>0</td>\n",
       "      <td>0</td>\n",
       "      <td>-100.000000</td>\n",
       "    </tr>\n",
       "    <tr>\n",
       "      <th>5778</th>\n",
       "      <td>5778</td>\n",
       "      <td>79</td>\n",
       "      <td>1999-04-02</td>\n",
       "      <td>Following</td>\n",
       "      <td>6000</td>\n",
       "      <td>48482</td>\n",
       "      <td>240495</td>\n",
       "      <td>3908.250000</td>\n",
       "    </tr>\n",
       "    <tr>\n",
       "      <th>5779</th>\n",
       "      <td>5779</td>\n",
       "      <td>80</td>\n",
       "      <td>2005-07-13</td>\n",
       "      <td>Return to the Land of Wonders</td>\n",
       "      <td>5000</td>\n",
       "      <td>1338</td>\n",
       "      <td>1338</td>\n",
       "      <td>-73.240000</td>\n",
       "    </tr>\n",
       "    <tr>\n",
       "      <th>5780</th>\n",
       "      <td>5780</td>\n",
       "      <td>81</td>\n",
       "      <td>2015-09-29</td>\n",
       "      <td>A Plague So Pleasant</td>\n",
       "      <td>1400</td>\n",
       "      <td>0</td>\n",
       "      <td>0</td>\n",
       "      <td>-100.000000</td>\n",
       "    </tr>\n",
       "    <tr>\n",
       "      <th>5781</th>\n",
       "      <td>5781</td>\n",
       "      <td>82</td>\n",
       "      <td>2005-08-05</td>\n",
       "      <td>My Date With Drew</td>\n",
       "      <td>1100</td>\n",
       "      <td>181041</td>\n",
       "      <td>181041</td>\n",
       "      <td>16358.272727</td>\n",
       "    </tr>\n",
       "  </tbody>\n",
       "</table>\n",
       "<p>5782 rows × 8 columns</p>\n",
       "</div>"
      ],
      "text/plain": [
       "      Unnamed: 0  id release_date  \\\n",
       "0              0   1   2009-12-18   \n",
       "1              1   2   2011-05-20   \n",
       "2              2   3   2019-06-07   \n",
       "3              3   4   2015-05-01   \n",
       "4              4   5   2017-12-15   \n",
       "...          ...  ..          ...   \n",
       "5777        5777  78   2018-12-31   \n",
       "5778        5778  79   1999-04-02   \n",
       "5779        5779  80   2005-07-13   \n",
       "5780        5780  81   2015-09-29   \n",
       "5781        5781  82   2005-08-05   \n",
       "\n",
       "                                            movie  production_budget  \\\n",
       "0                                          Avatar          425000000   \n",
       "1     Pirates of the Caribbean: On Stranger Tides          410600000   \n",
       "2                                    Dark Phoenix          350000000   \n",
       "3                         Avengers: Age of Ultron          330600000   \n",
       "4               Star Wars Ep. VIII: The Last Jedi          317000000   \n",
       "...                                           ...                ...   \n",
       "5777                                       Red 11               7000   \n",
       "5778                                    Following               6000   \n",
       "5779                Return to the Land of Wonders               5000   \n",
       "5780                         A Plague So Pleasant               1400   \n",
       "5781                            My Date With Drew               1100   \n",
       "\n",
       "      domestic_gross  worldwide_gross           ROI  \n",
       "0          760507625       2776345279    553.257713  \n",
       "1          241063875       1045663875    154.667286  \n",
       "2           42762350        149762350    -57.210757  \n",
       "3          459005868       1403013963    324.384139  \n",
       "4          620181382       1316721747    315.369636  \n",
       "...              ...              ...           ...  \n",
       "5777               0                0   -100.000000  \n",
       "5778           48482           240495   3908.250000  \n",
       "5779            1338             1338    -73.240000  \n",
       "5780               0                0   -100.000000  \n",
       "5781          181041           181041  16358.272727  \n",
       "\n",
       "[5782 rows x 8 columns]"
      ]
     },
     "execution_count": 46,
     "metadata": {},
     "output_type": "execute_result"
    }
   ],
   "source": [
    "# Check if the column was created and the numbers are reasonable\n",
    "movieBudgets"
   ]
  },
  {
   "cell_type": "code",
   "execution_count": 87,
   "metadata": {},
   "outputs": [
    {
     "data": {
      "text/plain": [
       "<seaborn.axisgrid.FacetGrid at 0x232a0eb52b0>"
      ]
     },
     "execution_count": 87,
     "metadata": {},
     "output_type": "execute_result"
    },
    {
     "data": {
      "image/png": "[encoded data removed]",
      "text/plain": [
       "<Figure size 360x360 with 1 Axes>"
      ]
     },
     "metadata": {},
     "output_type": "display_data"
    }
   ],
   "source": [
    "#lets view the distribution of ROI to get a beetter understanding of the data\n",
    "sns.displot(movieBudgetsAdj['ROI'])\n",
    "#This resembles a power law distribution, where most ROI values are around 0"
   ]
  },
  {
   "cell_type": "code",
   "execution_count": 47,
   "metadata": {},
   "outputs": [
    {
     "data": {
      "text/html": [
       "<div>\n",
       "<style scoped>\n",
       "    .dataframe tbody tr th:only-of-type {\n",
       "        vertical-align: middle;\n",
       "    }\n",
       "\n",
       "    .dataframe tbody tr th {\n",
       "        vertical-align: top;\n",
       "    }\n",
       "\n",
       "    .dataframe thead th {\n",
       "        text-align: right;\n",
       "    }\n",
       "</style>\n",
       "<table border=\"1\" class=\"dataframe\">\n",
       "  <thead>\n",
       "    <tr style=\"text-align: right;\">\n",
       "      <th></th>\n",
       "      <th>Unnamed: 0</th>\n",
       "      <th>id</th>\n",
       "      <th>release_date</th>\n",
       "      <th>movie</th>\n",
       "      <th>production_budget</th>\n",
       "      <th>domestic_gross</th>\n",
       "      <th>worldwide_gross</th>\n",
       "      <th>ROI</th>\n",
       "      <th>month</th>\n",
       "      <th>year</th>\n",
       "    </tr>\n",
       "  </thead>\n",
       "  <tbody>\n",
       "    <tr>\n",
       "      <th>0</th>\n",
       "      <td>0</td>\n",
       "      <td>1</td>\n",
       "      <td>2009-12-18</td>\n",
       "      <td>Avatar</td>\n",
       "      <td>425000000</td>\n",
       "      <td>760507625</td>\n",
       "      <td>2776345279</td>\n",
       "      <td>553.257713</td>\n",
       "      <td>12</td>\n",
       "      <td>2009</td>\n",
       "    </tr>\n",
       "    <tr>\n",
       "      <th>1</th>\n",
       "      <td>1</td>\n",
       "      <td>2</td>\n",
       "      <td>2011-05-20</td>\n",
       "      <td>Pirates of the Caribbean: On Stranger Tides</td>\n",
       "      <td>410600000</td>\n",
       "      <td>241063875</td>\n",
       "      <td>1045663875</td>\n",
       "      <td>154.667286</td>\n",
       "      <td>5</td>\n",
       "      <td>2011</td>\n",
       "    </tr>\n",
       "    <tr>\n",
       "      <th>2</th>\n",
       "      <td>2</td>\n",
       "      <td>3</td>\n",
       "      <td>2019-06-07</td>\n",
       "      <td>Dark Phoenix</td>\n",
       "      <td>350000000</td>\n",
       "      <td>42762350</td>\n",
       "      <td>149762350</td>\n",
       "      <td>-57.210757</td>\n",
       "      <td>6</td>\n",
       "      <td>2019</td>\n",
       "    </tr>\n",
       "    <tr>\n",
       "      <th>3</th>\n",
       "      <td>3</td>\n",
       "      <td>4</td>\n",
       "      <td>2015-05-01</td>\n",
       "      <td>Avengers: Age of Ultron</td>\n",
       "      <td>330600000</td>\n",
       "      <td>459005868</td>\n",
       "      <td>1403013963</td>\n",
       "      <td>324.384139</td>\n",
       "      <td>5</td>\n",
       "      <td>2015</td>\n",
       "    </tr>\n",
       "    <tr>\n",
       "      <th>4</th>\n",
       "      <td>4</td>\n",
       "      <td>5</td>\n",
       "      <td>2017-12-15</td>\n",
       "      <td>Star Wars Ep. VIII: The Last Jedi</td>\n",
       "      <td>317000000</td>\n",
       "      <td>620181382</td>\n",
       "      <td>1316721747</td>\n",
       "      <td>315.369636</td>\n",
       "      <td>12</td>\n",
       "      <td>2017</td>\n",
       "    </tr>\n",
       "  </tbody>\n",
       "</table>\n",
       "</div>"
      ],
      "text/plain": [
       "   Unnamed: 0  id release_date                                        movie  \\\n",
       "0           0   1   2009-12-18                                       Avatar   \n",
       "1           1   2   2011-05-20  Pirates of the Caribbean: On Stranger Tides   \n",
       "2           2   3   2019-06-07                                 Dark Phoenix   \n",
       "3           3   4   2015-05-01                      Avengers: Age of Ultron   \n",
       "4           4   5   2017-12-15            Star Wars Ep. VIII: The Last Jedi   \n",
       "\n",
       "   production_budget  domestic_gross  worldwide_gross         ROI  month  year  \n",
       "0          425000000       760507625       2776345279  553.257713     12  2009  \n",
       "1          410600000       241063875       1045663875  154.667286      5  2011  \n",
       "2          350000000        42762350        149762350  -57.210757      6  2019  \n",
       "3          330600000       459005868       1403013963  324.384139      5  2015  \n",
       "4          317000000       620181382       1316721747  315.369636     12  2017  "
      ]
     },
     "execution_count": 47,
     "metadata": {},
     "output_type": "execute_result"
    }
   ],
   "source": [
    "# To analyze by month and year, we need to convert teh relase date into a data time\n",
    "# Then, we need to make a month column. I added a year in case we want to analyze further\n",
    "movieBudgets['release_date'] = pd.to_datetime(movieBudgets['release_date'])\n",
    "movieBudgets['month'] = movieBudgets['release_date'].dt.month\n",
    "movieBudgets['year'] = movieBudgets['release_date'].dt.year\n",
    "movieBudgets.head()"
   ]
  },
  {
   "cell_type": "code",
   "execution_count": 48,
   "metadata": {
    "scrolled": true
   },
   "outputs": [
    {
     "data": {
      "text/plain": [
       "27984448.5"
      ]
     },
     "execution_count": 48,
     "metadata": {},
     "output_type": "execute_result"
    },
    {
     "data": {
      "image/png": "[encoded data removed]",
      "text/plain": [
       "<Figure size 360x360 with 1 Axes>"
      ]
     },
     "metadata": {},
     "output_type": "display_data"
    }
   ],
   "source": [
    "# Create a distribution plot to visualize the distribution of production budget \n",
    "# This should inform the insights we find\n",
    "sns.displot(movieBudgets['production_budget'])\n",
    "movieBudgets['production_budget'].median()\n",
    "movieBudgets['worldwide_gross'].median()"
   ]
  },
  {
   "cell_type": "code",
   "execution_count": 49,
   "metadata": {},
   "outputs": [
    {
     "data": {
      "text/html": [
       "<div>\n",
       "<style scoped>\n",
       "    .dataframe tbody tr th:only-of-type {\n",
       "        vertical-align: middle;\n",
       "    }\n",
       "\n",
       "    .dataframe tbody tr th {\n",
       "        vertical-align: top;\n",
       "    }\n",
       "\n",
       "    .dataframe thead th {\n",
       "        text-align: right;\n",
       "    }\n",
       "</style>\n",
       "<table border=\"1\" class=\"dataframe\">\n",
       "  <thead>\n",
       "    <tr style=\"text-align: right;\">\n",
       "      <th></th>\n",
       "      <th>Unnamed: 0</th>\n",
       "      <th>id</th>\n",
       "      <th>release_date</th>\n",
       "      <th>movie</th>\n",
       "      <th>production_budget</th>\n",
       "      <th>domestic_gross</th>\n",
       "      <th>worldwide_gross</th>\n",
       "      <th>ROI</th>\n",
       "      <th>month</th>\n",
       "      <th>year</th>\n",
       "    </tr>\n",
       "  </thead>\n",
       "  <tbody>\n",
       "    <tr>\n",
       "      <th>0</th>\n",
       "      <td>0</td>\n",
       "      <td>1</td>\n",
       "      <td>2009-12-18</td>\n",
       "      <td>Avatar</td>\n",
       "      <td>425000000</td>\n",
       "      <td>760507625</td>\n",
       "      <td>2776345279</td>\n",
       "      <td>553.257713</td>\n",
       "      <td>12</td>\n",
       "      <td>2009</td>\n",
       "    </tr>\n",
       "    <tr>\n",
       "      <th>1</th>\n",
       "      <td>1</td>\n",
       "      <td>2</td>\n",
       "      <td>2011-05-20</td>\n",
       "      <td>Pirates of the Caribbean: On Stranger Tides</td>\n",
       "      <td>410600000</td>\n",
       "      <td>241063875</td>\n",
       "      <td>1045663875</td>\n",
       "      <td>154.667286</td>\n",
       "      <td>5</td>\n",
       "      <td>2011</td>\n",
       "    </tr>\n",
       "    <tr>\n",
       "      <th>2</th>\n",
       "      <td>2</td>\n",
       "      <td>3</td>\n",
       "      <td>2019-06-07</td>\n",
       "      <td>Dark Phoenix</td>\n",
       "      <td>350000000</td>\n",
       "      <td>42762350</td>\n",
       "      <td>149762350</td>\n",
       "      <td>-57.210757</td>\n",
       "      <td>6</td>\n",
       "      <td>2019</td>\n",
       "    </tr>\n",
       "    <tr>\n",
       "      <th>3</th>\n",
       "      <td>3</td>\n",
       "      <td>4</td>\n",
       "      <td>2015-05-01</td>\n",
       "      <td>Avengers: Age of Ultron</td>\n",
       "      <td>330600000</td>\n",
       "      <td>459005868</td>\n",
       "      <td>1403013963</td>\n",
       "      <td>324.384139</td>\n",
       "      <td>5</td>\n",
       "      <td>2015</td>\n",
       "    </tr>\n",
       "    <tr>\n",
       "      <th>4</th>\n",
       "      <td>4</td>\n",
       "      <td>5</td>\n",
       "      <td>2017-12-15</td>\n",
       "      <td>Star Wars Ep. VIII: The Last Jedi</td>\n",
       "      <td>317000000</td>\n",
       "      <td>620181382</td>\n",
       "      <td>1316721747</td>\n",
       "      <td>315.369636</td>\n",
       "      <td>12</td>\n",
       "      <td>2017</td>\n",
       "    </tr>\n",
       "    <tr>\n",
       "      <th>...</th>\n",
       "      <td>...</td>\n",
       "      <td>...</td>\n",
       "      <td>...</td>\n",
       "      <td>...</td>\n",
       "      <td>...</td>\n",
       "      <td>...</td>\n",
       "      <td>...</td>\n",
       "      <td>...</td>\n",
       "      <td>...</td>\n",
       "      <td>...</td>\n",
       "    </tr>\n",
       "    <tr>\n",
       "      <th>5195</th>\n",
       "      <td>5195</td>\n",
       "      <td>96</td>\n",
       "      <td>2012-03-23</td>\n",
       "      <td>Serbuan maut</td>\n",
       "      <td>1100000</td>\n",
       "      <td>4105123</td>\n",
       "      <td>9297407</td>\n",
       "      <td>745.218818</td>\n",
       "      <td>3</td>\n",
       "      <td>2012</td>\n",
       "    </tr>\n",
       "    <tr>\n",
       "      <th>5196</th>\n",
       "      <td>5196</td>\n",
       "      <td>97</td>\n",
       "      <td>1986-09-26</td>\n",
       "      <td>Down by Law</td>\n",
       "      <td>1100000</td>\n",
       "      <td>1436000</td>\n",
       "      <td>1436000</td>\n",
       "      <td>30.545455</td>\n",
       "      <td>9</td>\n",
       "      <td>1986</td>\n",
       "    </tr>\n",
       "    <tr>\n",
       "      <th>5197</th>\n",
       "      <td>5197</td>\n",
       "      <td>98</td>\n",
       "      <td>1987-09-04</td>\n",
       "      <td>The Offspring</td>\n",
       "      <td>1100000</td>\n",
       "      <td>1355728</td>\n",
       "      <td>1355728</td>\n",
       "      <td>23.248000</td>\n",
       "      <td>9</td>\n",
       "      <td>1987</td>\n",
       "    </tr>\n",
       "    <tr>\n",
       "      <th>5208</th>\n",
       "      <td>5208</td>\n",
       "      <td>9</td>\n",
       "      <td>2009-12-11</td>\n",
       "      <td>Rocket Singh: Salesman of the Year</td>\n",
       "      <td>1070000</td>\n",
       "      <td>164649</td>\n",
       "      <td>5348767</td>\n",
       "      <td>399.884766</td>\n",
       "      <td>12</td>\n",
       "      <td>2009</td>\n",
       "    </tr>\n",
       "    <tr>\n",
       "      <th>5209</th>\n",
       "      <td>5209</td>\n",
       "      <td>10</td>\n",
       "      <td>1943-01-23</td>\n",
       "      <td>Casablanca</td>\n",
       "      <td>1039000</td>\n",
       "      <td>10462500</td>\n",
       "      <td>10496855</td>\n",
       "      <td>910.284408</td>\n",
       "      <td>1</td>\n",
       "      <td>1943</td>\n",
       "    </tr>\n",
       "  </tbody>\n",
       "</table>\n",
       "<p>4577 rows × 10 columns</p>\n",
       "</div>"
      ],
      "text/plain": [
       "      Unnamed: 0  id release_date  \\\n",
       "0              0   1   2009-12-18   \n",
       "1              1   2   2011-05-20   \n",
       "2              2   3   2019-06-07   \n",
       "3              3   4   2015-05-01   \n",
       "4              4   5   2017-12-15   \n",
       "...          ...  ..          ...   \n",
       "5195        5195  96   2012-03-23   \n",
       "5196        5196  97   1986-09-26   \n",
       "5197        5197  98   1987-09-04   \n",
       "5208        5208   9   2009-12-11   \n",
       "5209        5209  10   1943-01-23   \n",
       "\n",
       "                                            movie  production_budget  \\\n",
       "0                                          Avatar          425000000   \n",
       "1     Pirates of the Caribbean: On Stranger Tides          410600000   \n",
       "2                                    Dark Phoenix          350000000   \n",
       "3                         Avengers: Age of Ultron          330600000   \n",
       "4               Star Wars Ep. VIII: The Last Jedi          317000000   \n",
       "...                                           ...                ...   \n",
       "5195                                 Serbuan maut            1100000   \n",
       "5196                                  Down by Law            1100000   \n",
       "5197                                The Offspring            1100000   \n",
       "5208           Rocket Singh: Salesman of the Year            1070000   \n",
       "5209                                   Casablanca            1039000   \n",
       "\n",
       "      domestic_gross  worldwide_gross         ROI  month  year  \n",
       "0          760507625       2776345279  553.257713     12  2009  \n",
       "1          241063875       1045663875  154.667286      5  2011  \n",
       "2           42762350        149762350  -57.210757      6  2019  \n",
       "3          459005868       1403013963  324.384139      5  2015  \n",
       "4          620181382       1316721747  315.369636     12  2017  \n",
       "...              ...              ...         ...    ...   ...  \n",
       "5195         4105123          9297407  745.218818      3  2012  \n",
       "5196         1436000          1436000   30.545455      9  1986  \n",
       "5197         1355728          1355728   23.248000      9  1987  \n",
       "5208          164649          5348767  399.884766     12  2009  \n",
       "5209        10462500         10496855  910.284408      1  1943  \n",
       "\n",
       "[4577 rows x 10 columns]"
      ]
     },
     "execution_count": 49,
     "metadata": {},
     "output_type": "execute_result"
    }
   ],
   "source": [
    "# only want ot select movies with bigger budgets and revenue. \n",
    "movieBudgets[(movieBudgets['production_budget']>1000000) & (movieBudgets['worldwide_gross']>1000000)]"
   ]
  },
  {
   "cell_type": "code",
   "execution_count": 50,
   "metadata": {},
   "outputs": [
    {
     "data": {
      "text/plain": [
       "<AxesSubplot:xlabel='month', ylabel='ROI'>"
      ]
     },
     "execution_count": 50,
     "metadata": {},
     "output_type": "execute_result"
    },
    {
     "data": {
      "image/png": "[encoded data removed]",
      "text/plain": [
       "<Figure size 432x288 with 1 Axes>"
      ]
     },
     "metadata": {},
     "output_type": "display_data"
    }
   ],
   "source": [
    "# Create a Series that lists the median ROI based on the month\n",
    "medianByMonth = movieBudgets['ROI'].groupby(movieBudgets['month']).median()\n",
    "\n",
    "# Show the distribution of median ROI by month.\n",
    "sns.barplot(x=medianByMonth.index, y=medianByMonth)\n",
    "# There seems to be a clear difference between ROI and month"
   ]
  },
  {
   "cell_type": "code",
   "execution_count": 54,
   "metadata": {
    "scrolled": false
   },
   "outputs": [
    {
     "data": {
      "text/plain": [
       "Text(0, 0.5, 'Return on Investment (%)')"
      ]
     },
     "execution_count": 54,
     "metadata": {},
     "output_type": "execute_result"
    },
    {
     "data": {
      "image/png": "[encoded data removed]",
      "text/plain": [
       "<Figure size 576x432 with 1 Axes>"
      ]
     },
     "metadata": {},
     "output_type": "display_data"
    }
   ],
   "source": [
    "# We are going to use this in out presentation so lets make it look nice\n",
    "\n",
    "# movieBudgetAdj to select only movies with large budgets and revenue\n",
    "movieBudgetsAdj = movieBudgets[(movieBudgets['production_budget']>1000000) & (movieBudgets['worldwide_gross']>1000000)]\n",
    "\n",
    "# take the median ROI by month\n",
    "medianByMonthAdj = movieBudgetsAdj['ROI'].groupby(movieBudgetsAdj['month']).median()\n",
    "\n",
    "#set ip chart\n",
    "fig, ax = plt.subplots(figsize = (8,6))\n",
    "# set title of chart\n",
    "ax.set_title('Median ROI by Month')\n",
    "# set colors to emphasize the important months\n",
    "col = ['#A1D3EF','#A1D3EF','#A1D3EF','#A1D3EF','#86bc25','#86bc25','#86bc25','#A1D3EF','#A1D3EF','#A1D3EF','#86bc25','#86bc25']\n",
    "sns.set_palette(sns.color_palette(col))\n",
    "# Create and label the plot\n",
    "sns.barplot(x=medianByMonthAdj.index, y=medianByMonthAdj)\n",
    "ax.set_xticklabels(['Jan','Feb','Mar','Apr','May','Jun','Jul','Aug','Sep','Oct','Nov','Dec'])\n",
    "ax.set_xlabel('Month')\n",
    "ax.set_ylabel('Return on Investment (%)')"
   ]
  },
  {
   "cell_type": "markdown",
   "metadata": {},
   "source": [
    "This visulaization is great to describe the optimal time to relase a movie. Lets make more:"
   ]
  },
  {
   "cell_type": "code",
   "execution_count": 72,
   "metadata": {},
   "outputs": [
    {
     "data": {
      "text/plain": [
       "<AxesSubplot:xlabel='month', ylabel='ROI'>"
      ]
     },
     "execution_count": 72,
     "metadata": {},
     "output_type": "execute_result"
    },
    {
     "data": {
      "image/png": "[encoded data removed]",
      "text/plain": [
       "<Figure size 432x288 with 1 Axes>"
      ]
     },
     "metadata": {},
     "output_type": "display_data"
    }
   ],
   "source": [
    "# Create a boxplot Distribtion of ROI to get a better idea of mins, maxes, and quartiles\n",
    "sns.boxplot(x=movieBudgets['month'], y=movieBudgets['ROI'])\n",
    "# This does not show a lot, lets change the y limits"
   ]
  },
  {
   "cell_type": "code",
   "execution_count": 73,
   "metadata": {
    "scrolled": true
   },
   "outputs": [
    {
     "data": {
      "text/plain": [
       "Text(0, 0.5, 'Return on Investment')"
      ]
     },
     "execution_count": 73,
     "metadata": {},
     "output_type": "execute_result"
    },
    {
     "data": {
      "image/png": "[encoded data removed]",
      "text/plain": [
       "<Figure size 576x432 with 1 Axes>"
      ]
     },
     "metadata": {},
     "output_type": "display_data"
    }
   ],
   "source": [
    "# Create a stacked boxplot chart to show the distribution of ROI for each genre\n",
    "fig, ax = plt.subplots(figsize = (8,6))\n",
    "ax.set_ylim(-150,1000)\n",
    "ax.set_title(\"ROI by Month\")\n",
    "sns.boxplot(x=movieBudgetsAdj['month'], y=movieBudgetsAdj['ROI'])\n",
    "ax.set_xticklabels(['Jan','Feb','Mar','Apr','May','Jun','Jul','Aug','Sep','Oct','Nov','Dec'])\n",
    "ax.set_xlabel('Month')\n",
    "ax.set_ylabel('Return on Investment')"
   ]
  },
  {
   "cell_type": "code",
   "execution_count": 74,
   "metadata": {},
   "outputs": [],
   "source": [
    "julyMedian = medianByMonthAdj[7]\n",
    "TotalMedian = movieBudgetsAdj['ROI'].median()"
   ]
  },
  {
   "cell_type": "markdown",
   "metadata": {},
   "source": [
    "ROI seems to be higher in the green months. Lets try to find out why. Viewing the **mean production budget** may give us some insight"
   ]
  },
  {
   "cell_type": "code",
   "execution_count": 75,
   "metadata": {},
   "outputs": [
    {
     "data": {
      "text/plain": [
       "Text(0, 0.5, 'Production Budget (in Millions of $)')"
      ]
     },
     "execution_count": 75,
     "metadata": {},
     "output_type": "execute_result"
    },
    {
     "data": {
      "image/png": "[encoded data removed]",
      "text/plain": [
       "<Figure size 576x432 with 1 Axes>"
      ]
     },
     "metadata": {},
     "output_type": "display_data"
    }
   ],
   "source": [
    "# get mean budget by month\n",
    "meanBudgetByMonthAdj = movieBudgets['production_budget'].groupby(movieBudgetsAdj['month']).mean()\n",
    "\n",
    "# Create and format graph\n",
    "fig, ax = plt.subplots(figsize = (8,6))\n",
    "ax.set_title('Mean Production Budget by Month')\n",
    "col = ['#A1D3EF','#A1D3EF','#A1D3EF','#A1D3EF','#86bc25','#86bc25','#86bc25','#A1D3EF','#A1D3EF','#A1D3EF','#86bc25','#86bc25']\n",
    "sns.set_palette(sns.color_palette(col))\n",
    "sns.barplot(x=meanBudgetByMonthAdj.index, y=meanBudgetByMonthAdj/1000000)\n",
    "ax.set_xticklabels(['Jan','Feb','Mar','Apr','May','Jun','Jul','Aug','Sep','Oct','Nov','Dec'])\n",
    "ax.set_xlabel('Month')\n",
    "ax.set_ylabel('Production Budget (in Millions of $)')"
   ]
  },
  {
   "cell_type": "code",
   "execution_count": 76,
   "metadata": {
    "scrolled": true
   },
   "outputs": [
    {
     "data": {
      "text/plain": [
       "Text(0, 0.5, 'Production Budget')"
      ]
     },
     "execution_count": 76,
     "metadata": {},
     "output_type": "execute_result"
    },
    {
     "data": {
      "image/png": "[encoded data removed]",
      "text/plain": [
       "<Figure size 576x432 with 1 Axes>"
      ]
     },
     "metadata": {},
     "output_type": "display_data"
    }
   ],
   "source": [
    "# Create a stacked boxplot chart to show the distribution of Production budget for each genre\n",
    "fig, ax = plt.subplots(figsize = (8,6))\n",
    "ax.set_ylim(-150,200000000)\n",
    "ax.set_title(\"Production Budget by Month\")\n",
    "sns.boxplot(x=movieBudgets['month'], y=movieBudgets['production_budget'])\n",
    "ax.set_xticklabels(['Jan','Feb','Mar','Apr','May','Jun','Jul','Aug','Sep','Oct','Nov','Dec'])\n",
    "ax.set_xlabel('Month')\n",
    "ax.set_ylabel('Production Budget')"
   ]
  },
  {
   "cell_type": "markdown",
   "metadata": {},
   "source": [
    "The Production Budget is also higher, which means that they likely put more effort into those movies. Lets also view the gross earnings by month:"
   ]
  },
  {
   "cell_type": "code",
   "execution_count": 77,
   "metadata": {},
   "outputs": [
    {
     "data": {
      "text/plain": [
       "Text(0, 0.5, 'Gross Earnings')"
      ]
     },
     "execution_count": 77,
     "metadata": {},
     "output_type": "execute_result"
    },
    {
     "data": {
      "image/png": "[encoded data removed]",
      "text/plain": [
       "<Figure size 864x576 with 1 Axes>"
      ]
     },
     "metadata": {},
     "output_type": "display_data"
    }
   ],
   "source": [
    "movieBudgetsAdj = movieBudgets[(movieBudgets['production_budget']>1000000) & (movieBudgets['worldwide_gross']>1000000)]\n",
    "fig, ax = plt.subplots(figsize = (12,8))\n",
    "ax.set_ylim(-10000000,1000000000)\n",
    "ax.set_title(\"Gross Earnings by Month\")\n",
    "sns.boxplot(x=movieBudgetsAdj['month'], y=movieBudgetsAdj['worldwide_gross'])\n",
    "ax.set_xticklabels(['Jan','Feb','Mar','Apr','May','Jun','Jul','Aug','Sep','Oct','Nov','Dec'])\n",
    "ax.set_xlabel('Month')\n",
    "ax.set_ylabel('Gross Earnings')"
   ]
  },
  {
   "cell_type": "markdown",
   "metadata": {},
   "source": [
    "This distribution is very similar to the last two.\n",
    "\n",
    "Finally, we will run statistical tests to ensure that this relationship is significant. We will start with a t-test:\n",
    "\n",
    "**H0:** July mean ROI  <=  Population mean ROI\n",
    "\n",
    "**H1:** July mean ROI > Population mean ROI"
   ]
  },
  {
   "cell_type": "code",
   "execution_count": 91,
   "metadata": {},
   "outputs": [],
   "source": [
    "# Create a function to run a t-test on some data given the information\n",
    "def one_sample_ttest(sample, popmean, alpha):\n",
    "\n",
    "    # Visualize sample distribution for normality \n",
    "    sns.displot(sample)\n",
    "    \n",
    "    # Population mean \n",
    "    mu = popmean\n",
    "    \n",
    "    # Sample mean (x̄) using NumPy mean()\n",
    "    xbar = np.mean(sample)\n",
    "    n = len(sample)\n",
    "    \n",
    "    # Sample Standard Deviation (sigma) using Numpy\n",
    "    s = np.std(sample, ddof = 1)\n",
    "    \n",
    "    # Degrees of freedom\n",
    "    df = n-1\n",
    "    \n",
    "    # Calculate the critical t-value\n",
    "    t_crit = stats.t.ppf(1-alpha, df=df)\n",
    "    \n",
    "    # Calculate the results     \n",
    "    results = stats.ttest_1samp(a=sample, popmean=mu)   \n",
    "    # return results\n",
    "    return results"
   ]
  },
  {
   "cell_type": "code",
   "execution_count": 92,
   "metadata": {},
   "outputs": [
    {
     "data": {
      "text/plain": [
       "Ttest_1sampResult(statistic=1.2481258704995004, pvalue=0.2128052327899593)"
      ]
     },
     "execution_count": 92,
     "metadata": {},
     "output_type": "execute_result"
    },
    {
     "data": {
      "image/png": "[encoded data removed]",
      "text/plain": [
       "<Figure size 360x360 with 1 Axes>"
      ]
     },
     "metadata": {},
     "output_type": "display_data"
    }
   ],
   "source": [
    "julyROI = list(movieBudgetsAdj[movieBudgetsAdj['month']==7]['ROI'])\n",
    "mu=movieBudgetsAdj['ROI'].mean()\n",
    "alpha=.9\n",
    "one_sample_ttest(julyROI, mu, alpha)"
   ]
  },
  {
   "cell_type": "markdown",
   "metadata": {},
   "source": [
    "The P value for this test is only .21, which means we can reject the null hypothesis with 79% certainty. This is not great. We cannot comfortably say that the July mean ROI is significantly different.\n",
    "\n",
    "This is not the end of our tests. We can still prove something else. In this case, we can use an ANOVA to prove that the means for all months are not equal. We will choose an alpha value of .9\n",
    "\n",
    "**H0:** The mean ROI is equal across all months\n",
    "**H1:** The mean ROI is not equal across all months (at least one month is not the same as another)"
   ]
  },
  {
   "cell_type": "code",
   "execution_count": 93,
   "metadata": {},
   "outputs": [
    {
     "data": {
      "text/plain": [
       "F_onewayResult(statistic=1.7831764145772773, pvalue=0.05125699045835469)"
      ]
     },
     "execution_count": 93,
     "metadata": {},
     "output_type": "execute_result"
    }
   ],
   "source": [
    "di = {}\n",
    "for i in range(1,13):\n",
    "    di[i]=movieBudgetsAdj[movieBudgetsAdj['month']==i]['ROI']\n",
    "    di[i] = list(di[i].values)\n",
    "stats.f_oneway(di[1],di[2],di[3],di[4],di[5],di[6],di[7],di[8],di[9],di[10],di[11],di[12])"
   ]
  },
  {
   "cell_type": "code",
   "execution_count": 95,
   "metadata": {},
   "outputs": [
    {
     "data": {
      "text/html": [
       "<div>\n",
       "<style scoped>\n",
       "    .dataframe tbody tr th:only-of-type {\n",
       "        vertical-align: middle;\n",
       "    }\n",
       "\n",
       "    .dataframe tbody tr th {\n",
       "        vertical-align: top;\n",
       "    }\n",
       "\n",
       "    .dataframe thead th {\n",
       "        text-align: right;\n",
       "    }\n",
       "</style>\n",
       "<table border=\"1\" class=\"dataframe\">\n",
       "  <thead>\n",
       "    <tr style=\"text-align: right;\">\n",
       "      <th></th>\n",
       "      <th>sum_sq</th>\n",
       "      <th>df</th>\n",
       "      <th>F</th>\n",
       "      <th>PR(&gt;F)</th>\n",
       "    </tr>\n",
       "  </thead>\n",
       "  <tbody>\n",
       "    <tr>\n",
       "      <th>C(month)</th>\n",
       "      <td>7.676880e+06</td>\n",
       "      <td>11.0</td>\n",
       "      <td>1.783176</td>\n",
       "      <td>0.051257</td>\n",
       "    </tr>\n",
       "    <tr>\n",
       "      <th>Residual</th>\n",
       "      <td>1.786646e+09</td>\n",
       "      <td>4565.0</td>\n",
       "      <td>NaN</td>\n",
       "      <td>NaN</td>\n",
       "    </tr>\n",
       "  </tbody>\n",
       "</table>\n",
       "</div>"
      ],
      "text/plain": [
       "                sum_sq      df         F    PR(>F)\n",
       "C(month)  7.676880e+06    11.0  1.783176  0.051257\n",
       "Residual  1.786646e+09  4565.0       NaN       NaN"
      ]
     },
     "execution_count": 95,
     "metadata": {},
     "output_type": "execute_result"
    }
   ],
   "source": [
    "# Alternatively\n",
    "import statsmodels.api as sm\n",
    "from statsmodels.formula.api import ols\n",
    "\n",
    "#perform ANOVA\n",
    "mbCat = movieBudgetsAdj.copy()\n",
    "mbCat['month'] = mbCat['month'].astype(str)\n",
    "\n",
    "model = ols('ROI ~ C(month)', data=mbCat).fit()\n",
    "sm.stats.anova_lm(model, typ=2)"
   ]
  },
  {
   "cell_type": "code",
   "execution_count": 99,
   "metadata": {},
   "outputs": [
    {
     "data": {
      "text/plain": [
       "12    552\n",
       "10    448\n",
       "11    425\n",
       "6     400\n",
       "8     386\n",
       "9     376\n",
       "3     375\n",
       "7     357\n",
       "4     353\n",
       "5     326\n",
       "2     313\n",
       "1     266\n",
       "Name: month, dtype: int64"
      ]
     },
     "execution_count": 99,
     "metadata": {},
     "output_type": "execute_result"
    }
   ],
   "source": [
    "mbCat['month'].value_counts()"
   ]
  },
  {
   "cell_type": "markdown",
   "metadata": {},
   "source": [
    "The p-value of this test is .051. This means that with about 95% certiainty, we can say that the mean ROI differes significantly between months. This is great news, as it statistically proves the impact of month on ROI\n",
    "\n",
    "Below, we will use some statistical methods to create models to try to predict ROI and Box Office Sales, respectively."
   ]
  },
  {
   "cell_type": "code",
   "execution_count": 101,
   "metadata": {},
   "outputs": [
    {
     "name": "stdout",
     "output_type": "stream",
     "text": [
      "                            OLS Regression Results                            \n",
      "==============================================================================\n",
      "Dep. Variable:                    ROI   R-squared:                       0.004\n",
      "Model:                            OLS   Adj. R-squared:                  0.002\n",
      "Method:                 Least Squares   F-statistic:                     1.783\n",
      "Date:                Thu, 27 Oct 2022   Prob (F-statistic):             0.0513\n",
      "Time:                        17:21:48   Log-Likelihood:                -35958.\n",
      "No. Observations:                4577   AIC:                         7.194e+04\n",
      "Df Residuals:                    4565   BIC:                         7.202e+04\n",
      "Df Model:                          11                                         \n",
      "Covariance Type:            nonrobust                                         \n",
      "===============================================================================\n",
      "                  coef    std err          t      P>|t|      [0.025      0.975]\n",
      "-------------------------------------------------------------------------------\n",
      "Intercept     232.0928     38.358      6.051      0.000     156.892     307.293\n",
      "month[T.10]    46.4759     48.425      0.960      0.337     -48.460     141.412\n",
      "month[T.11]    67.0002     48.911      1.370      0.171     -28.888     162.889\n",
      "month[T.12]    78.6115     46.694      1.684      0.092     -12.932     170.155\n",
      "month[T.2]     75.4063     52.171      1.445      0.148     -26.873     177.686\n",
      "month[T.3]     14.8652     50.150      0.296      0.767     -83.453     113.184\n",
      "month[T.4]     -6.0747     50.794     -0.120      0.905    -105.656      93.507\n",
      "month[T.5]     49.2939     51.690      0.954      0.340     -52.044     150.632\n",
      "month[T.6]     96.3962     49.495      1.948      0.052      -0.639     193.431\n",
      "month[T.7]     72.5975     50.672      1.433      0.152     -26.744     171.939\n",
      "month[T.8]      4.8553     49.853      0.097      0.922     -92.880     102.591\n",
      "month[T.9]    -42.6197     50.122     -0.850      0.395    -140.884      55.644\n",
      "==============================================================================\n",
      "Omnibus:                     6037.886   Durbin-Watson:                   1.155\n",
      "Prob(Omnibus):                  0.000   Jarque-Bera (JB):          1423612.982\n",
      "Skew:                           7.353   Prob(JB):                         0.00\n",
      "Kurtosis:                      88.139   Cond. No.                         15.4\n",
      "==============================================================================\n",
      "\n",
      "Notes:\n",
      "[1] Standard Errors assume that the covariance matrix of the errors is correctly specified.\n"
     ]
    }
   ],
   "source": [
    "# Run Regression model, Trying to use the month of the year to predict ROI \n",
    "mod = ols(formula='ROI ~ month', data = mbCat)\n",
    "res = mod.fit()\n",
    "print(res.summary())"
   ]
  },
  {
   "cell_type": "markdown",
   "metadata": {},
   "source": [
    "The P value for each month can be seen in the P>|t| column. No months have prediction capabilities with a p value less than .05. However, the p-value does reveal which months have the most certian effect on ROI, indicated by the lowest p-values. The coefficeint reveal the strength of the relationship between ROI and month, as well as the direction. The higher the coefficient, the greater impact the month has on ROI. Months with negative coefficeints decrease ROI.  \n",
    "\n"
   ]
  },
  {
   "cell_type": "code",
   "execution_count": 108,
   "metadata": {
    "scrolled": true
   },
   "outputs": [
    {
     "name": "stdout",
     "output_type": "stream",
     "text": [
      "                            OLS Regression Results                            \n",
      "==============================================================================\n",
      "Dep. Variable:             box_office   R-squared:                       0.296\n",
      "Model:                            OLS   Adj. R-squared:                  0.239\n",
      "Method:                 Least Squares   F-statistic:                     5.218\n",
      "Date:                Thu, 27 Oct 2022   Prob (F-statistic):           4.09e-13\n",
      "Time:                        17:31:13   Log-Likelihood:                -6421.6\n",
      "No. Observations:                 336   AIC:                         1.290e+04\n",
      "Df Residuals:                     310   BIC:                         1.299e+04\n",
      "Df Model:                          25                                         \n",
      "Covariance Type:            nonrobust                                         \n",
      "====================================================================================================\n",
      "                                       coef    std err          t      P>|t|      [0.025      0.975]\n",
      "----------------------------------------------------------------------------------------------------\n",
      "Intercept                        -5.767e+07   2.74e+07     -2.108      0.036   -1.11e+08   -3.85e+06\n",
      "rating[T.NC17]                   -4.036e+07   5.45e+07     -0.741      0.459   -1.48e+08    6.69e+07\n",
      "rating[T.NR]                     -4.401e+07   2.34e+07     -1.882      0.061      -9e+07       2e+06\n",
      "rating[T.PG]                      2.548e+06   1.94e+07      0.131      0.896   -3.57e+07    4.08e+07\n",
      "rating[T.PG-13]                   2.727e+06   2.08e+07      0.131      0.896   -3.82e+07    4.37e+07\n",
      "rating[T.R]                      -1.804e+07   2.08e+07     -0.867      0.387    -5.9e+07    2.29e+07\n",
      "runtime                           9.975e+05   1.76e+05      5.671      0.000    6.51e+05    1.34e+06\n",
      "Documentary                      -1.668e+06   1.84e+07     -0.090      0.928   -3.79e+07    3.46e+07\n",
      "Q(\"Art House and International\")  -1.74e+07   9.94e+06     -1.751      0.081    -3.7e+07    2.16e+06\n",
      "Western                          -3.773e+07   2.12e+07     -1.782      0.076   -7.94e+07    3.93e+06\n",
      "Horror                           -6.393e+06   1.16e+07     -0.552      0.582   -2.92e+07    1.64e+07\n",
      "Q(\"Cult Movies\")                  3.038e+06   5.19e+07      0.058      0.953   -9.91e+07    1.05e+08\n",
      "Action                            2.005e+07   7.59e+06      2.642      0.009    5.12e+06     3.5e+07\n",
      "Q(\"TV Movie\")                    -5.954e+06   3.11e+07     -0.192      0.848   -6.71e+07    5.51e+07\n",
      "Comedy                            1.051e+07   7.29e+06      1.443      0.150   -3.82e+06    2.48e+07\n",
      "Mystery                           7.434e+06   8.05e+06      0.924      0.356    -8.4e+06    2.33e+07\n",
      "Q(\"Faith and Spirituality\")       -1.73e+07   3.07e+07     -0.563      0.574   -7.78e+07    4.32e+07\n",
      "Classics                         -9.378e+07   3.81e+07     -2.460      0.014   -1.69e+08   -1.88e+07\n",
      "Fantasy                           2.114e+07   1.06e+07      1.988      0.048    2.22e+05    4.21e+07\n",
      "Q(\"Special Interest\")            -9.235e+06   2.13e+07     -0.433      0.665   -5.12e+07    3.27e+07\n",
      "Drama                            -1.936e+07   6.95e+06     -2.784      0.006    -3.3e+07   -5.68e+06\n",
      "Animation                         5.677e+06   1.57e+07      0.361      0.718   -2.52e+07    3.66e+07\n",
      "Q(\"Anime and Manga\")             -2.402e-07   1.35e-06     -0.178      0.859    -2.9e-06    2.42e-06\n",
      "Q(\"Gay and Lesbian\")             -8.259e-08   4.39e-07     -0.188      0.851   -9.47e-07    7.82e-07\n",
      "Family                           -7.338e+05   1.36e+07     -0.054      0.957   -2.76e+07    2.61e+07\n",
      "Music                                -2e+07   1.33e+07     -1.501      0.134   -4.62e+07    6.22e+06\n",
      "Romance                           1.367e+07   8.89e+06      1.538      0.125   -3.82e+06    3.12e+07\n",
      "Q(\"Sports and Fitness\")          -1.876e+07   3.61e+07     -0.520      0.604   -8.98e+07    5.23e+07\n",
      "==============================================================================\n",
      "Omnibus:                      183.924   Durbin-Watson:                   2.026\n",
      "Prob(Omnibus):                  0.000   Jarque-Bera (JB):             1377.639\n",
      "Skew:                           2.188   Prob(JB):                    7.07e-300\n",
      "Kurtosis:                      11.902   Cond. No.                     1.02e+16\n",
      "==============================================================================\n",
      "\n",
      "Notes:\n",
      "[1] Standard Errors assume that the covariance matrix of the errors is correctly specified.\n",
      "[2] The smallest eigenvalue is 3.84e-26. This might indicate that there are\n",
      "strong multicollinearity problems or that the design matrix is singular.\n"
     ]
    }
   ],
   "source": [
    "# Build a regression model to predict box office sales based on runtime, rating, and genre.\n",
    "cleanMI = movieInfo[(movieInfo['runtime']>30)& (movieInfo['box_office']>0)]\n",
    "mod = ols(formula='box_office ~ runtime + rating + Documentary + Q(\"Art House and International\") + Western +\\\n",
    "    Horror + Q(\"Cult Movies\") + Action + Q(\"TV Movie\") + Comedy + Mystery + Q(\"Faith and Spirituality\") +\\\n",
    "    Classics + Fantasy + Q(\"Special Interest\") + Drama + Animation + Q(\"Anime and Manga\")+\\\n",
    "    Q(\"Gay and Lesbian\") + Family  + Music + Romance + Q(\"Sports and Fitness\")', data = cleanMI)\n",
    "res = mod.fit()\n",
    "print(res.summary())"
   ]
  },
  {
   "cell_type": "markdown",
   "metadata": {},
   "source": [
    "Some interesting observations can be seen:\n",
    "- unrated movies have a large negative effect on the sales (makes sense because likely smaller)\n",
    "- greater runtime indicated more sales. This is likely because movies with very small run time do not do well (Coeff = 9.975e+05 ; p = 0.0)\n",
    "- Art House and International perform poorly (Coeff = -1.74e+07 ; p = 0.081)\n",
    "- Western Movies Perform Poorly (Coeff = -3.773e+07 ; p = 0.076)\n",
    "- Action movies sell well (Coeff = 2.005e+07 ; p = 0.009) (very strong relationship)\n",
    "- Classics Perform Poorly (Coeff = -9.378e+07 ; p = 0.014) (strong relationship)\n",
    "- Fantasy Performs Well (Coeff = 2.114e+07 ; p = 0.048) (strong relationship)\n",
    "- Drama performs poorly (Coeff = -1.936e+07 ; p = 0.006)\n",
    "\n",
    "While ROI and Sales are hard to predict, trying to predict them gave some interesting insights"
   ]
  }
 ],
 "metadata": {
  "kernelspec": {
   "display_name": "Python 3",
   "language": "python",
   "name": "python3"
  },
  "language_info": {
   "codemirror_mode": {
    "name": "ipython",
    "version": 3
   },
   "file_extension": ".py",
   "mimetype": "text/x-python",
   "name": "python",
   "nbconvert_exporter": "python",
   "pygments_lexer": "ipython3",
   "version": "3.8.5"
  }
 },
 "nbformat": 4,
 "nbformat_minor": 4
}
