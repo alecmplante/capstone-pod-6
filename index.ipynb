{
 "cells": [
  {
   "cell_type": "markdown",
   "metadata": {},
   "source": [
    "# Movie Analysis: EntertAInment Experts\n",
    "**Authors:** Alec Plante, Deanna Hedges, Raul Cortes Vaquez , Sanchez Sunny, Zachary Mitchell\n",
    "***\n",
    "<img src=\"images/movies1.png\" width = 800 height = 600>"
   ]
  },
  {
   "cell_type": "markdown",
   "metadata": {},
   "source": [
    "## Overview\n",
    "\n",
    "Computing Vision is building a new movie studio with the goal of creating original video content to compete with larger companies who are doing the same. In order to provide a concise and thorough plan for Computing Visions film studio we followed the steps below:\n",
    "\n",
    "### 1. Align on Business Understanding \n",
    "- Evaluate business needs\n",
    "- Utilize data to inform business recommendations\n",
    "        \n",
    "### 2. Data Analysis\n",
    "- Establish patterns in film data\n",
    "- Analyze film datasets \n",
    "    \n",
    "### 3. Recommendations\n",
    "- Define three recommendations to move forward in the film industry\n",
    "- Use data findings to support recommendations\n",
    "- Identify next steps for Computing Vision"
   ]
  },
  {
   "cell_type": "markdown",
   "metadata": {},
   "source": [
    "## Business Problem\n",
    "\n",
    "Computing Vision requires to understand all the major companies producing original video content. The main purpose is to learn the trends to help them create a new movie based on the recommendations and suggestion. In order for them to create a new movie studio they need to analyze the background in creating movies. The task here is to explore the various movie datasets and the types of films that are currently doing the best at the box office using different samples of available data. Using the recommendations the client can translate those findings into actionable insights that can lead to a successful venture of Computing Vision's new movie studio to decide what type of films to create."
   ]
  },
  {
   "cell_type": "markdown",
   "metadata": {},
   "source": [
    "## Data Understanding\n",
    "\n",
    "\n",
    "The data used to complete our analysis was sourced from five different movie websites, which include: \n",
    "- https://www.boxofficemojo.com\n",
    "- https://www.imdb.com/ \n",
    "- https://www.rottentomatoes.com/ \n",
    "- https://www.themoviedb.org/ \n",
    "- https://www.the-numbers.com/ \n",
    "\n",
    "#### The characteristics of each data set include:\n",
    "\n",
    "![Data Understanding Image](images/MicrosoftTeams-image.png)\n",
    "\n",
    "\n",
    "The raw data have different data types and in order to combine them into a meaningful dataframe we will need to analyze, clean, and utilize the data to interpret it and inform our recommendations. We begin by analyzing the information contained in the datasets and cleaning this data. Once the datasets are combined we then review the different columns to provide effective recommendations and create visualization to support our findings.\n",
    " \n",
    "    "
   ]
  },
  {
   "cell_type": "markdown",
   "metadata": {},
   "source": [
    "### Import Libraries\n"
   ]
  },
  {
   "cell_type": "code",
   "execution_count": null,
   "metadata": {},
   "outputs": [],
   "source": [
    "import pandas as pd\n",
    "import numpy as np\n",
    "import sqlite3\n",
    "import matplotlib.pyplot as plt\n",
    "import seaborn as sns\n",
    "from scipy import stats \n",
    "import math\n",
    "\n",
    "%matplotlib inline"
   ]
  },
  {
   "cell_type": "markdown",
   "metadata": {},
   "source": [
    "### Unzip Data\n",
    "This section is used to unzip data from the zippedData folder and place it into the new data folder"
   ]
  },
  {
   "cell_type": "code",
   "execution_count": null,
   "metadata": {},
   "outputs": [],
   "source": [
    "#extract im.db zip file\n",
    "import zipfile\n",
    "with zipfile.ZipFile('zippedData/im.db.zip', 'r') as zip_ref:\n",
    "    zip_ref.extractall('data/')\n",
    "\n",
    "# unzip the gz files \n",
    "import gzip\n",
    "import shutil\n",
    "\n",
    "# unzip bom.movie_gross\n",
    "with gzip.open('zippedData/bom.movie_gross.csv.gz', 'rb') as f_in:\n",
    "    with open('data/bom.movie_gross.csv', 'wb') as f_out:\n",
    "        shutil.copyfileobj(f_in, f_out)\n",
    "        \n",
    "# unzip rt.movie_info.tsv\n",
    "with gzip.open('zippedData/rt.movie_info.tsv.gz', 'rb') as f_in:\n",
    "    with open('data/rt.movie_info.tsv', 'wb') as f_out:\n",
    "        shutil.copyfileobj(f_in, f_out)\n",
    "        \n",
    "# unzip rt.reviews.tsv\n",
    "with gzip.open('zippedData/rt.reviews.tsv.gz', 'rb') as f_in:\n",
    "    with open('data/rt.reviews.tsv', 'wb') as f_out:\n",
    "        shutil.copyfileobj(f_in, f_out)\n",
    "        \n",
    "# unzip tmdb.movies.csv\n",
    "with gzip.open('zippedData/tmdb.movies.csv.gz', 'rb') as f_in:\n",
    "    with open('data/tmdb.movies.csv', 'wb') as f_out:\n",
    "        shutil.copyfileobj(f_in, f_out)\n",
    "        \n",
    "# unzip tn.movie_budgets.csv\n",
    "with gzip.open('zippedData/tn.movie_budgets.csv.gz', 'rb') as f_in:\n",
    "    with open('data/tn.movie_budgets.csv', 'wb') as f_out:\n",
    "        shutil.copyfileobj(f_in, f_out)"
   ]
  },
  {
   "cell_type": "markdown",
   "metadata": {},
   "source": [
    "### Import Data and Connect to Database"
   ]
  },
  {
   "cell_type": "code",
   "execution_count": null,
   "metadata": {},
   "outputs": [],
   "source": [
    "# import data as \n",
    "movieGross = pd.read_csv('data/bom.movie_gross.csv')\n",
    "tmdbMovies = pd.read_csv('data/tmdb.movies.csv')\n",
    "movieBudgets = pd.read_csv('data/tn.movie_budgets.csv')\n",
    "movieInfo = pd.read_csv('data/rt.movie_info.tsv', sep = '\\t', index_col = 0)\n",
    "reviews = pd.read_csv('data/rt.reviews.tsv', sep = '\\t', encoding= 'latin1')"
   ]
  },
  {
   "cell_type": "code",
   "execution_count": null,
   "metadata": {},
   "outputs": [],
   "source": [
    "# Connect to sql database\n",
    "conn = sqlite3.connect('data/im.db')"
   ]
  },
  {
   "cell_type": "markdown",
   "metadata": {},
   "source": [
    "***\n",
    "### movieInfo\n",
    "The movieInfo table contains basic information about the movie, including ratings, runtimes, box office sales, genres, and dates"
   ]
  },
  {
   "cell_type": "code",
   "execution_count": null,
   "metadata": {},
   "outputs": [],
   "source": [
    "# This table consists of 11 columns, listed under the 'column' below/\n",
    "movieInfo.info()"
   ]
  },
  {
   "cell_type": "code",
   "execution_count": null,
   "metadata": {},
   "outputs": [],
   "source": [
    "# See the first 5 rows of the table below\n",
    "movieInfo.head()"
   ]
  },
  {
   "cell_type": "markdown",
   "metadata": {},
   "source": [
    "***\n",
    "### reviews\n",
    "The reviews table provides written reviews, scores, and dates about movies"
   ]
  },
  {
   "cell_type": "code",
   "execution_count": null,
   "metadata": {
    "scrolled": true
   },
   "outputs": [],
   "source": [
    "reviews.info()"
   ]
  },
  {
   "cell_type": "code",
   "execution_count": null,
   "metadata": {},
   "outputs": [],
   "source": [
    "reviews.head()"
   ]
  },
  {
   "cell_type": "markdown",
   "metadata": {},
   "source": [
    "***\n",
    "### movieGross\n",
    "The movieGross table includes information about revenue for movies, as well as the release year and studio that created the movies"
   ]
  },
  {
   "cell_type": "code",
   "execution_count": null,
   "metadata": {
    "scrolled": true
   },
   "outputs": [],
   "source": [
    "movieGross.info()"
   ]
  },
  {
   "cell_type": "code",
   "execution_count": null,
   "metadata": {},
   "outputs": [],
   "source": [
    "movieGross.head()"
   ]
  },
  {
   "cell_type": "markdown",
   "metadata": {},
   "source": [
    "***\n",
    "### tmdbMovies\n",
    "The tmdbMovies gives genres, popularity scores, vote scores, and dates related to movies."
   ]
  },
  {
   "cell_type": "code",
   "execution_count": null,
   "metadata": {},
   "outputs": [],
   "source": [
    "tmdbMovies.info()"
   ]
  },
  {
   "cell_type": "code",
   "execution_count": null,
   "metadata": {},
   "outputs": [],
   "source": [
    "tmdbMovies.head()"
   ]
  },
  {
   "cell_type": "markdown",
   "metadata": {},
   "source": [
    "***\n",
    "### movieBudgets\n",
    "This table provides information about budgets and sales of movies"
   ]
  },
  {
   "cell_type": "code",
   "execution_count": null,
   "metadata": {},
   "outputs": [],
   "source": [
    "movieBudgets.info()"
   ]
  },
  {
   "cell_type": "code",
   "execution_count": null,
   "metadata": {
    "scrolled": true
   },
   "outputs": [],
   "source": [
    "movieBudgets.head()"
   ]
  },
  {
   "cell_type": "markdown",
   "metadata": {},
   "source": [
    "***\n",
    "### im.db\n",
    "This database provides information regarding ratings, actors, directors, writers, and other basic information for movies.\n",
    "***\n",
    "<img src=\"images/ERD.png\" alt=\"ERD for im.db\" width=\"800\" height=\"600\">"
   ]
  },
  {
   "cell_type": "code",
   "execution_count": null,
   "metadata": {},
   "outputs": [],
   "source": [
    "# The table names are listed below. The columns for each table can be seen above\n",
    "pd.read_sql(\"\"\"\n",
    "SELECT name \n",
    "FROM sqlite_master \n",
    "WHERE type = 'table';\"\"\", conn)"
   ]
  },
  {
   "cell_type": "markdown",
   "metadata": {},
   "source": [
    "## Data Cleaning"
   ]
  },
  {
   "cell_type": "markdown",
   "metadata": {},
   "source": [
    "#### Cleaning movieInfo"
   ]
  },
  {
   "cell_type": "code",
   "execution_count": null,
   "metadata": {},
   "outputs": [],
   "source": [
    "# View how many NA values there are per column\n",
    "movieInfo.isna().sum()"
   ]
  },
  {
   "cell_type": "code",
   "execution_count": null,
   "metadata": {},
   "outputs": [],
   "source": [
    "# making a copy to clean without editing main dataframe\n",
    "movieInfoClean = movieInfo.copy()"
   ]
  },
  {
   "cell_type": "code",
   "execution_count": null,
   "metadata": {
    "scrolled": true
   },
   "outputs": [],
   "source": [
    "#finding duplicate rows\n",
    "movieInfoClean.duplicated().value_counts()\n",
    "movieInfoClean[movieInfoClean.duplicated(keep=False)].sort_values(by='id')"
   ]
  },
  {
   "cell_type": "code",
   "execution_count": null,
   "metadata": {},
   "outputs": [],
   "source": [
    "movieInfoClean = movieInfoClean.drop_duplicates()"
   ]
  },
  {
   "cell_type": "code",
   "execution_count": null,
   "metadata": {},
   "outputs": [],
   "source": [
    "movieInfoClean.duplicated().value_counts()"
   ]
  },
  {
   "cell_type": "code",
   "execution_count": null,
   "metadata": {},
   "outputs": [],
   "source": [
    "# changing null values for string columns to '-'\n",
    "movieInfoClean['synopsis'] = movieInfoClean['synopsis'].fillna('-')\n",
    "movieInfoClean['rating'] = movieInfoClean['rating'].fillna('-')\n",
    "movieInfoClean['genre'] = movieInfoClean['genre'].fillna('-')\n",
    "movieInfoClean['director'] = movieInfoClean['director'].fillna('-')\n",
    "movieInfoClean['writer'] = movieInfoClean['writer'].fillna('-')\n",
    "movieInfoClean['theater_date'] = movieInfoClean['theater_date'].fillna('-')\n",
    "movieInfoClean['dvd_date'] = movieInfoClean['dvd_date'].fillna('-')\n",
    "movieInfoClean['currency'] = movieInfoClean['currency'].fillna('-')\n",
    "movieInfoClean['studio'] = movieInfoClean['studio'].fillna('-')\n"
   ]
  },
  {
   "cell_type": "code",
   "execution_count": null,
   "metadata": {},
   "outputs": [],
   "source": [
    "# changing runtime to int representing minutes, replaced null with 0\n",
    "movieInfoClean['runtime']=movieInfoClean['runtime'].map(lambda x: 0 if x is np.nan else int(x.split(' ')[0]))"
   ]
  },
  {
   "cell_type": "code",
   "execution_count": null,
   "metadata": {},
   "outputs": [],
   "source": [
    "# removing commas and changing box office to a float\n",
    "movieInfoClean['box_office']=movieInfoClean['box_office'].map(lambda x: 0 if x is np.nan else float(x.replace(',','')))"
   ]
  },
  {
   "cell_type": "code",
   "execution_count": null,
   "metadata": {},
   "outputs": [],
   "source": [
    "# changing theater date and dvd date to a date time type\n",
    "movieInfoClean['theater_date']=movieInfoClean['theater_date'].map(lambda x: pd.to_datetime(x,format = \"%b %d, %Y\") if x != '-' else x)\n",
    "movieInfoClean['dvd_date']=movieInfoClean['dvd_date'].map(lambda x: pd.to_datetime(x,format = \"%b %d, %Y\") if x != '-' else x)"
   ]
  },
  {
   "cell_type": "code",
   "execution_count": null,
   "metadata": {
    "scrolled": true
   },
   "outputs": [],
   "source": [
    "# finding all the genres in the dataset\n",
    "genres = []\n",
    "for row in movieInfoClean['genre'].map(lambda x: x.split('|')):\n",
    "    for genre in row:\n",
    "        if genre not in genres:\n",
    "            genres.append(genre)\n",
    "genres\n",
    "# matching genres to other datasets\n",
    "genresUpdated = [['Action','Adventure'],\n",
    "                 ['Classics'],\n",
    "                 ['Drama'],\n",
    "                 ['Science Fiction','Fantasy'],\n",
    "                 ['Music'],\n",
    "                 ['Mystery'],\n",
    "                 ['Romance'],\n",
    "                 ['Family'],\n",
    "                 ['Comedy'],\n",
    "                 ['-'],\n",
    "                 ['Documentary'],\n",
    "                 ['Special Interest'],\n",
    "                 ['Art House and International'],\n",
    "                 ['Horror'],\n",
    "                 ['Western'],\n",
    "                 ['TV Movie'],\n",
    "                 ['Sports and Fitness'],\n",
    "                 ['Animation'],\n",
    "                 ['Faith and Spirituality'],\n",
    "                 ['Cult Movies'],\n",
    "                 ['Anime and Manga'],\n",
    "                 ['Gay and Lesbian']\n",
    "                ]\n",
    "# making dict matching old genres with new\n",
    "genreDict = {}\n",
    "for i in range(len(genres)):\n",
    "    genreDict[genres[i]]=genresUpdated[i]\n",
    "# changing column to be final list of genres\n",
    "finalGenres = []\n",
    "for row in movieInfoClean['genre'].map(lambda x: x.split('|')):\n",
    "    thisRow = []\n",
    "    for genre in row:\n",
    "        thisRow += genreDict[genre]\n",
    "    finalGenres.append(thisRow)\n",
    "movieInfoClean['genre']=finalGenres"
   ]
  },
  {
   "cell_type": "code",
   "execution_count": null,
   "metadata": {},
   "outputs": [],
   "source": [
    "movieInfoClean.head()"
   ]
  },
  {
   "cell_type": "code",
   "execution_count": null,
   "metadata": {},
   "outputs": [],
   "source": [
    "movieInfoClean.info()"
   ]
  },
  {
   "cell_type": "code",
   "execution_count": null,
   "metadata": {},
   "outputs": [],
   "source": [
    "# Create folder to store cleaned data\n",
    "!mkdir cleanedData\n",
    "# Export movieinfo as csv\n",
    "movieInfoClean.to_csv('cleanedData/movieInfoClean.csv')"
   ]
  },
  {
   "cell_type": "markdown",
   "metadata": {},
   "source": [
    "#### Cleaning reviews"
   ]
  },
  {
   "cell_type": "code",
   "execution_count": null,
   "metadata": {
    "scrolled": false
   },
   "outputs": [],
   "source": [
    "# Here we confirm missing data, count and add it all up\n",
    "reviews.isna().sum()"
   ]
  },
  {
   "cell_type": "code",
   "execution_count": null,
   "metadata": {},
   "outputs": [],
   "source": [
    "# We create a copy of the review data set which we will modify\n",
    "reviews2 = reviews.copy()"
   ]
  },
  {
   "cell_type": "code",
   "execution_count": null,
   "metadata": {},
   "outputs": [],
   "source": [
    "# We fill empty reviews with unavailable chosen string by the team for consistency\n",
    "reviews2[['review','rating','critic','publisher']] = reviews2[['review','rating','critic','publisher']].fillna('-')\n",
    "reviews2.head()"
   ]
  },
  {
   "cell_type": "code",
   "execution_count": null,
   "metadata": {},
   "outputs": [],
   "source": [
    "# Here we confirm missing data has been filled out, count and add it all up missing data, should be 0\n",
    "reviews2.isna().sum()"
   ]
  },
  {
   "cell_type": "code",
   "execution_count": null,
   "metadata": {},
   "outputs": [],
   "source": [
    "# Export reviews as csv\n",
    "reviews2.to_csv('cleanedData/reviewsClean.csv')"
   ]
  },
  {
   "cell_type": "markdown",
   "metadata": {},
   "source": [
    "#### Cleaning movieGross"
   ]
  },
  {
   "cell_type": "code",
   "execution_count": null,
   "metadata": {},
   "outputs": [],
   "source": [
    "#view the amount of NA's for each column\n",
    "movieGross.isna().sum()"
   ]
  },
  {
   "cell_type": "code",
   "execution_count": null,
   "metadata": {},
   "outputs": [],
   "source": [
    "# Converts foreign_gross column to string and removes commas\n",
    "movieGross['foreign_gross'] = movieGross['foreign_gross'].astype(str).str.replace(\",\",\"\")\n",
    "# Converts Null values in foreign_gross column to 0\n",
    "movieGross['foreign_gross'] = movieGross['foreign_gross'].replace('nan',0)\n",
    "# Converts foreign_gross column from object type\n",
    "movieGross['foreign_gross'] = movieGross['foreign_gross'].astype(float).astype(int)\n",
    "\n",
    "\n",
    "\n",
    "# Converts domestic_gross column values to integers and Null values in domestic_gross column to 0\n",
    "movieGross['domestic_gross'] = movieGross['domestic_gross'].fillna(0).astype(int)\n",
    "\n",
    "\n",
    "\n",
    "# Converts year column to datetime data type\n",
    "movieGross['year'] = pd.to_datetime(movieGross['year'],format = '%Y')"
   ]
  },
  {
   "cell_type": "code",
   "execution_count": null,
   "metadata": {},
   "outputs": [],
   "source": [
    "# Export movieGross as csv\n",
    "movieGross.to_csv('cleanedData/movieGrossClean.csv')"
   ]
  },
  {
   "cell_type": "markdown",
   "metadata": {},
   "source": [
    "#### Cleaning tmdbMovies"
   ]
  },
  {
   "cell_type": "code",
   "execution_count": null,
   "metadata": {},
   "outputs": [],
   "source": [
    "# show the amount of NA's for the tmdbMovies table\n",
    "tmdbMovies.isna().sum()\n",
    "# there are no missing values"
   ]
  },
  {
   "cell_type": "code",
   "execution_count": null,
   "metadata": {},
   "outputs": [],
   "source": [
    "# start by looking at the first 5 rows of data\n",
    "tmdbMovies.head()"
   ]
  },
  {
   "cell_type": "code",
   "execution_count": null,
   "metadata": {},
   "outputs": [],
   "source": [
    "# View the Column names\n",
    "tmdbMovies.columns"
   ]
  },
  {
   "cell_type": "markdown",
   "metadata": {},
   "source": [
    "At first glace, we can see that there is an extra column that matches with the index. This should be removed."
   ]
  },
  {
   "cell_type": "code",
   "execution_count": null,
   "metadata": {},
   "outputs": [],
   "source": [
    "# Drop 'Unnamed: 0' as it contains the same information as the index\n",
    "tmdbMovies.drop('Unnamed: 0', axis = 1, inplace = True)"
   ]
  },
  {
   "cell_type": "code",
   "execution_count": null,
   "metadata": {
    "scrolled": true
   },
   "outputs": [],
   "source": [
    "# View the Column names again to confirm that changes were made\n",
    "tmdbMovies.columns\n",
    "# The changes have been made"
   ]
  },
  {
   "cell_type": "markdown",
   "metadata": {},
   "source": [
    "After removing the unneeded column, the data types should be reviewed to ensure that we are able to work with the table."
   ]
  },
  {
   "cell_type": "code",
   "execution_count": null,
   "metadata": {
    "scrolled": true
   },
   "outputs": [],
   "source": [
    "# View the information about each column\n",
    "tmdbMovies.info()"
   ]
  },
  {
   "cell_type": "markdown",
   "metadata": {},
   "source": [
    "A few columns should be investigated:\n",
    "- genre_ids should be a list\n",
    "- release_date should be datetime"
   ]
  },
  {
   "cell_type": "code",
   "execution_count": null,
   "metadata": {},
   "outputs": [],
   "source": [
    "# Check the type of each Column\n",
    "print(f\"gener_id type: {type(tmdbMovies['genre_ids'].iloc[1])}\\nrelease_date type: {type(tmdbMovies['release_date'].iloc[1])}\")"
   ]
  },
  {
   "cell_type": "code",
   "execution_count": null,
   "metadata": {},
   "outputs": [],
   "source": [
    "# View the values in genre_ids and to get an idea with teh data we are dealing with:\n",
    "print(tmdbMovies.genre_ids.value_counts())\n",
    "print(f\"There are {tmdbMovies['genre_ids'].isna().sum()} null values\")\n",
    "# There are no NA values, and they all seem to be close to lists. We can procede by changing the type to a list"
   ]
  },
  {
   "cell_type": "code",
   "execution_count": null,
   "metadata": {},
   "outputs": [],
   "source": [
    "# Convert genre_ids into list\n",
    "# ast is a library with function for us to complete this operation\n",
    "import ast\n",
    "\n",
    "#converts all strings into a list\n",
    "tmdbMovies.genre_ids = tmdbMovies.genre_ids.map(lambda x: ast.literal_eval(x))"
   ]
  },
  {
   "cell_type": "code",
   "execution_count": null,
   "metadata": {},
   "outputs": [],
   "source": [
    "# make sure that rows are of type list\n",
    "for i in tmdbMovies['genre_ids']:\n",
    "    assert isinstance(i, list), \"ERROR: element is not a list\"\n",
    "print(\"all rows in genre_ids column are of type list :^)\")"
   ]
  },
  {
   "cell_type": "markdown",
   "metadata": {},
   "source": [
    "The genre_ids in tmdbMovies are numbers, which doesn't give us a lot of information. A new column reflecting the meaning of these numbers should be created. The dictionary of the meanings is listed below:"
   ]
  },
  {
   "cell_type": "code",
   "execution_count": null,
   "metadata": {},
   "outputs": [],
   "source": [
    "genre_ids_dict={28:'Action',\n",
    "                12:'Adventure',\n",
    "                16:'Animation',\n",
    "                35:'Comedy',\n",
    "                80:'Crime',\n",
    "                99:'Documentary',\n",
    "                18:'Drama',\n",
    "                10751:'Family',\n",
    "                14:'Fantasy',\n",
    "                36:'History',\n",
    "                27:'Horror',\n",
    "                10402:'Music',\n",
    "                9648:'Mystery',\n",
    "                10749:'Romance',\n",
    "                878:'Science Fiction',\n",
    "                10770:'TV Movie',\n",
    "                53:'Thriller',\n",
    "                10752:'War',\n",
    "                37:'Western'}"
   ]
  },
  {
   "cell_type": "code",
   "execution_count": null,
   "metadata": {},
   "outputs": [],
   "source": [
    "# Create a new column 'genres' that is a list of the genres as strings\n",
    "tmdbMovies['genres'] = tmdbMovies['genre_ids'].map(lambda x: list(pd.Series(x,dtype='float64').replace(genre_ids_dict)))\n",
    "tmdbMovies.head()"
   ]
  },
  {
   "cell_type": "code",
   "execution_count": null,
   "metadata": {
    "scrolled": true
   },
   "outputs": [],
   "source": [
    "print(f\"The second entry in genres is of type {type(tmdbMovies['genres'].iloc[1])} and looks like: {tmdbMovies['genres'].iloc[1]}.\")"
   ]
  },
  {
   "cell_type": "markdown",
   "metadata": {},
   "source": [
    "When creating models and comparing data, it may be beneficial to have each genre as its own column with a boolean value indicating whether a given movie is of that genre."
   ]
  },
  {
   "cell_type": "code",
   "execution_count": null,
   "metadata": {},
   "outputs": [],
   "source": [
    "# Creates a column for every value in the dictionary and returns true if that value shows up in genre_ids\n",
    "for i in range(len(genre_ids_dict)):\n",
    "    tmdbMovies[list(genre_ids_dict.values())[i]] = \\\n",
    "    (tmdbMovies['genre_ids'].map(lambda x: list(genre_ids_dict.keys())[i] in x)).astype(int)"
   ]
  },
  {
   "cell_type": "code",
   "execution_count": null,
   "metadata": {
    "scrolled": true
   },
   "outputs": [],
   "source": [
    "# Check if the data is changed to booleans\n",
    "tmdbMovies.head()"
   ]
  },
  {
   "cell_type": "markdown",
   "metadata": {},
   "source": [
    "Creating these columns will make it easier to sort by category, as well as give us the option to use various regression models"
   ]
  },
  {
   "cell_type": "markdown",
   "metadata": {},
   "source": [
    "Now, the release_date column needs to be converted to a datetime."
   ]
  },
  {
   "cell_type": "code",
   "execution_count": null,
   "metadata": {},
   "outputs": [],
   "source": [
    "# Investigate the types of values in the release date column\n",
    "print(tmdbMovies['release_date'].value_counts())\n",
    "# make sure there are no NA values\n",
    "print(f\"There are {tmdbMovies['release_date'].isna().sum()} null values\")"
   ]
  },
  {
   "cell_type": "code",
   "execution_count": null,
   "metadata": {},
   "outputs": [],
   "source": [
    "#convert the column to datetimes\n",
    "tmdbMovies['release_date'] = pd.to_datetime(tmdbMovies['release_date'])"
   ]
  },
  {
   "cell_type": "code",
   "execution_count": null,
   "metadata": {},
   "outputs": [],
   "source": [
    "# make sure that release_date is of type datetime\n",
    "tmdbMovies.dtypes"
   ]
  },
  {
   "cell_type": "code",
   "execution_count": null,
   "metadata": {},
   "outputs": [],
   "source": [
    "# Export movieGross as csv\n",
    "tmdbMovies.to_csv('cleanedData/tmdbMoviesClean.csv')"
   ]
  },
  {
   "cell_type": "markdown",
   "metadata": {},
   "source": [
    "#### Cleaning movieBudgets "
   ]
  },
  {
   "cell_type": "code",
   "execution_count": null,
   "metadata": {},
   "outputs": [],
   "source": [
    "# Preview the dataset to get a better idea of the data that we are working with\n",
    "movieBudgets.head()"
   ]
  },
  {
   "cell_type": "code",
   "execution_count": null,
   "metadata": {},
   "outputs": [],
   "source": [
    "movieBudgets.info()"
   ]
  },
  {
   "cell_type": "markdown",
   "metadata": {},
   "source": [
    "The only problems with the dataset seem to be regarding types.\n",
    "- release_date should be of type datetime\n",
    "- production_budget, domestic_gross, and worldwide_gross should be of type int"
   ]
  },
  {
   "cell_type": "code",
   "execution_count": null,
   "metadata": {},
   "outputs": [],
   "source": [
    "#Convert release_date to datetime\n",
    "movieBudgets[\"release_date\"] = pd.to_datetime(movieBudgets[\"release_date\"])"
   ]
  },
  {
   "cell_type": "code",
   "execution_count": null,
   "metadata": {},
   "outputs": [],
   "source": [
    "#for each column, remove the '$' and ',' for each entry and convert to an int\n",
    "movieBudgets[\"production_budget\"] = movieBudgets[\"production_budget\"].str.replace('$','').str.replace(',','').astype(int)\n",
    "movieBudgets[\"domestic_gross\"]    = movieBudgets[\"domestic_gross\"].str.replace('$','').str.replace(',','').astype(int)\n",
    "movieBudgets[\"worldwide_gross\"]   = movieBudgets[\"worldwide_gross\"].str.replace('$','').str.replace(',','').astype(np.int64)\n"
   ]
  },
  {
   "cell_type": "code",
   "execution_count": null,
   "metadata": {},
   "outputs": [],
   "source": [
    "#make sure types are reflected in dataframe\n",
    "movieBudgets.info()"
   ]
  },
  {
   "cell_type": "code",
   "execution_count": null,
   "metadata": {},
   "outputs": [],
   "source": [
    "#take a look at the new data\n",
    "movieBudgets.head()"
   ]
  },
  {
   "cell_type": "code",
   "execution_count": null,
   "metadata": {},
   "outputs": [],
   "source": [
    "# Export movieBudgets as csv\n",
    "movieBudgets.to_csv('cleanedData/movieBudgets.csv')"
   ]
  },
  {
   "cell_type": "markdown",
   "metadata": {},
   "source": [
    "## Data Analysis"
   ]
  },
  {
   "cell_type": "markdown",
   "metadata": {},
   "source": [
    "***\n",
    "### Popularity by Genre: \n",
    "Which Genres are the most popular?"
   ]
  },
  {
   "cell_type": "code",
   "execution_count": null,
   "metadata": {},
   "outputs": [],
   "source": [
    "#start by viewing the tmdbMovies columns\n",
    "tmdbMovies.columns"
   ]
  },
  {
   "cell_type": "code",
   "execution_count": null,
   "metadata": {
    "scrolled": true
   },
   "outputs": [],
   "source": [
    "# we are most interested in columns after 10, as those are the genres\n",
    "tmdbMovies.columns[11:]"
   ]
  },
  {
   "cell_type": "code",
   "execution_count": null,
   "metadata": {},
   "outputs": [],
   "source": [
    "# create a dictionary that gets the mean popularity score for each genre\n",
    "popularityByGenre = {}\n",
    "for i in range(11,30):\n",
    "    popularityByGenre[tmdbMovies.columns[i]] = tmdbMovies[tmdbMovies[tmdbMovies.columns[i]]==1]['popularity'].mean()\n",
    "\n",
    "# barplot that shows popularity genre score for every genre\n",
    "sns.barplot(y = list(popularityByGenre.keys()), x=list(popularityByGenre.values()))"
   ]
  },
  {
   "cell_type": "code",
   "execution_count": null,
   "metadata": {},
   "outputs": [],
   "source": [
    "# get popularity and release date for each genre\n",
    "genre_dicts = {}\n",
    "for i in range(11,30):\n",
    "    genre_dicts[tmdbMovies.columns[i]] = tmdbMovies[tmdbMovies[tmdbMovies.columns[i]]==1][['popularity','release_date']]\n",
    "#add popularity to genre_dicts to be able to see the change in popularity over years\n",
    "for i in genre_dicts:\n",
    "    genre_dicts[i]['year'] = pd.to_datetime(genre_dicts[i]['release_date']).dt.year"
   ]
  },
  {
   "cell_type": "code",
   "execution_count": null,
   "metadata": {
    "scrolled": false
   },
   "outputs": [],
   "source": [
    "#view the new dictionary that contains poularity scores, release dates, and years for each movie\n",
    "print(genre_dicts.keys())\n",
    "genre_dicts[\"Action\"]"
   ]
  },
  {
   "cell_type": "code",
   "execution_count": null,
   "metadata": {},
   "outputs": [],
   "source": [
    "# use groupby and average to create an an average popularity for each year for every genre\n",
    "avgPopByGenre = {}\n",
    "for i in genre_dicts:\n",
    "    avgPopByGenre[i] = genre_dicts[i].groupby(genre_dicts[i]['year']).mean()"
   ]
  },
  {
   "cell_type": "code",
   "execution_count": null,
   "metadata": {},
   "outputs": [],
   "source": [
    "#view new popularity dictionary\n",
    "avgPopByGenre"
   ]
  },
  {
   "cell_type": "code",
   "execution_count": null,
   "metadata": {},
   "outputs": [],
   "source": [
    "# view trend in popularity by genre\n",
    "sns.lineplot(x = avgPopByGenre['Action'].index, y = avgPopByGenre['Action'][\"popularity\"])"
   ]
  },
  {
   "cell_type": "code",
   "execution_count": null,
   "metadata": {},
   "outputs": [],
   "source": [
    "# Make a plot with all genre trends on one chart\n",
    "for i in avgPopByGenre:\n",
    "    sns.lineplot(x=avgPopByGenre[i].index, y=avgPopByGenre[i]['popularity'].values)"
   ]
  },
  {
   "cell_type": "code",
   "execution_count": null,
   "metadata": {},
   "outputs": [],
   "source": [
    "# it worked. Split into important genres. This is too busy\n",
    "# We have the list of most popular genres. Lets view the top 5 most popular generes\n",
    "\n",
    "#get list of top 5 genres\n",
    "mostPopGenre = sorted(popularityByGenre, key=popularityByGenre.get, reverse=True)[:5]\n",
    "mostPopGenre"
   ]
  },
  {
   "cell_type": "code",
   "execution_count": null,
   "metadata": {},
   "outputs": [],
   "source": [
    "# get the avergae popularity score over the past 10 years for the action genre\n",
    "avgPopByGenre['Action'][avgPopByGenre['Action'].index>2009]"
   ]
  },
  {
   "cell_type": "code",
   "execution_count": null,
   "metadata": {},
   "outputs": [],
   "source": [
    "#average poularitty  for the last 10 years for every genre\n",
    "popLastTenYears = {}\n",
    "for genre in avgPopByGenre:\n",
    "    popLastTenYears[genre] = float(avgPopByGenre[genre][avgPopByGenre[genre].index>2009].mean())"
   ]
  },
  {
   "cell_type": "code",
   "execution_count": null,
   "metadata": {},
   "outputs": [],
   "source": [
    "# Get the most popular genres in the past 10 years\n",
    "mostPop10YR = sorted(popLastTenYears, key=popLastTenYears.get, reverse=True)[:5]\n",
    "mostPop10YR"
   ]
  },
  {
   "cell_type": "markdown",
   "metadata": {},
   "source": [
    "These 2 lists share 4 categories: **'Adventure', 'Action', 'Fantasy', 'Crime'**.\n",
    "\n",
    "It seems that war movies have lost popularity, while science fiction has taken its spot in the top 5.\n",
    "**War** fell from #5 to #8\n",
    "**Science Fiction** climbed from #6 to #5\n",
    "The following graph will include: **['Adventure', 'Action', 'Fantasy', 'Crime','War','Science Fiction']**"
   ]
  },
  {
   "cell_type": "code",
   "execution_count": null,
   "metadata": {},
   "outputs": [],
   "source": [
    "#plot the most popular genres on one graph.\n",
    "fig, ax = plt.subplots()\n",
    "ax.set_xlim(2005,2020)\n",
    "for i in ['Adventure', 'Action', 'Fantasy', 'Crime','War','Science Fiction']:\n",
    "    sns.lineplot(x=avgPopByGenre[i].index, y=avgPopByGenre[i]['popularity'].values)\n",
    "ax.legend(['Adventure', 'Action', 'Fantasy', 'Crime','War','Science Fiction'])"
   ]
  },
  {
   "cell_type": "markdown",
   "metadata": {},
   "source": [
    "The Graph above is busy. Lets seperate the lines to get a better idea"
   ]
  },
  {
   "cell_type": "code",
   "execution_count": null,
   "metadata": {
    "scrolled": true
   },
   "outputs": [],
   "source": [
    "# Graph the most popular genres on 6 graphs on the same figure\n",
    "fig, ax = plt.subplots(3,2, sharex = True, sharey=True, figsize=(15,5))\n",
    "\n",
    "sns.set_context('talk', font_scale=.88)\n",
    "fig.suptitle('Popularity by Genre (Last 10 Years)')\n",
    "colors = ['#62b5e5','#046a38','#005587','#0076a8','#7f7f7f','#007680']\n",
    "l = ['Adventure', 'Action', 'Fantasy', 'Crime','War','Science Fiction']\n",
    "for i in range(len(l)):\n",
    "    ax[int(i%3)][int(i//3)].set_xlim(2010,2019)\n",
    "    ax[int(i%3)][int(i//3)].set_ylim(2.5,15)\n",
    "    ax[int(i%3)][int(i//3)].set_title(l[i])\n",
    "    ax[1][0].set_ylabel('Popularity')\n",
    "    ax[2][0].set_xlabel('Year')\n",
    "    ax[2][1].set_xlabel('Year')\n",
    "    \n",
    "    sns.lineplot(ax=ax[i%3][i//3], x=avgPopByGenre[l[i]].index, y=avgPopByGenre[l[i]]['popularity'].values, color=colors[i])\n",
    "sns.set_style('darkgrid')"
   ]
  },
  {
   "cell_type": "markdown",
   "metadata": {},
   "source": [
    "While war was not popular in the early 2010's, it has been gaining some momentum. Movies Action and crime have been increasing steadily, while the others seem more or less random. With only 10 years of data, its hard to tell where these genres are really headed"
   ]
  },
  {
   "cell_type": "markdown",
   "metadata": {},
   "source": [
    "***\n",
    "### Profitability By Genre (average)\n",
    "This section will help determine which genres have the highest profitability."
   ]
  },
  {
   "cell_type": "code",
   "execution_count": null,
   "metadata": {},
   "outputs": [],
   "source": [
    "#view the data we will be working with\n",
    "movieInfo.head()"
   ]
  },
  {
   "cell_type": "code",
   "execution_count": null,
   "metadata": {},
   "outputs": [],
   "source": [
    "# there are only USD in this dataset. No conversions needed\n",
    "movieInfo['currency'].value_counts()"
   ]
  },
  {
   "cell_type": "code",
   "execution_count": null,
   "metadata": {},
   "outputs": [],
   "source": [
    "# Visualize the distribution of box office sales\n",
    "sns.distplot(movieInfo[movieInfo['box_office']>0]['box_office'])\n",
    "# There are many small numbers in box office sales.\n",
    "# This resembles a power law distribution"
   ]
  },
  {
   "cell_type": "code",
   "execution_count": null,
   "metadata": {
    "scrolled": true
   },
   "outputs": [],
   "source": [
    "# Check the type of the genre column\n",
    "type(movieInfo['genre'][2])"
   ]
  },
  {
   "cell_type": "markdown",
   "metadata": {},
   "source": [
    "The goal right now is to be able to work with the genre column. We want to create a column for each genre, where it lists true or false if the given movie is of that genre. This will make visualizations and analysis easier:"
   ]
  },
  {
   "cell_type": "code",
   "execution_count": null,
   "metadata": {},
   "outputs": [],
   "source": [
    "# The Genre column is of type string, when it should be list. \n",
    "# Changing the string to list using the code below\n",
    "import ast\n",
    "movieInfo.genre = movieInfo.genre.map(lambda x: ast.literal_eval(x))"
   ]
  },
  {
   "cell_type": "code",
   "execution_count": null,
   "metadata": {},
   "outputs": [],
   "source": [
    "#confirm that the change was successful\n",
    "type(movieInfo['genre'][2])"
   ]
  },
  {
   "cell_type": "code",
   "execution_count": null,
   "metadata": {},
   "outputs": [],
   "source": [
    "# Getting a list of all the genres that show up in the genres column.\n",
    "valCGenres = list(movieInfo['genre'].value_counts().index)\n",
    "l = []\n",
    "for i in valCGenres:\n",
    "    for j in i:\n",
    "        l.append(j)\n",
    "genres=set(l)\n",
    "print(genres)\n",
    "genres = list(genres)"
   ]
  },
  {
   "cell_type": "code",
   "execution_count": null,
   "metadata": {},
   "outputs": [],
   "source": [
    "# Creates a column for every value in the genres list and returns true if that value shows up in the genre column\n",
    "for i in range(len(genres)):\n",
    "    movieInfo[genres[i]] = (movieInfo['genre'].map(lambda x: genres[i] in x).astype(int))"
   ]
  },
  {
   "cell_type": "code",
   "execution_count": null,
   "metadata": {},
   "outputs": [],
   "source": [
    "# Ensure that the change was a success\n",
    "movieInfo"
   ]
  },
  {
   "cell_type": "markdown",
   "metadata": {},
   "source": [
    "We successfully created boolean columns for the genres. Now we may begin data analysis. \n",
    "\n",
    "Lets start by looking to see the **median box office revenue** for every genre:"
   ]
  },
  {
   "cell_type": "code",
   "execution_count": null,
   "metadata": {},
   "outputs": [],
   "source": [
    "#create dictionary that shows median box office for every genre \n",
    "genre_dict2={}\n",
    "for i in genres:\n",
    "    genre_dict2[i] = movieInfo[(movieInfo[i]==1) & (movieInfo['box_office']>1)]['box_office'].astype(int).median()"
   ]
  },
  {
   "cell_type": "code",
   "execution_count": null,
   "metadata": {},
   "outputs": [],
   "source": [
    "# view this new dictionary\n",
    "genre_dict2"
   ]
  },
  {
   "cell_type": "code",
   "execution_count": null,
   "metadata": {
    "scrolled": true
   },
   "outputs": [],
   "source": [
    "# There are nan values in this, likely because those genres had no recorded revenue\n",
    "# For now, we will leave them in the dataset. We will remove later\n",
    "\n",
    "# Graph the median box office sales for each genre\n",
    "fig, ax = plt.subplots(figsize=(7,10))\n",
    "sns.barplot(y = list(genre_dict2.keys()), x=list(genre_dict2.values()))\n",
    "plt.show()"
   ]
  },
  {
   "cell_type": "markdown",
   "metadata": {},
   "source": [
    "This bargrraph shows good information. Now lets clean it up to select only the genres with 25 or more recorded box office sales in the database"
   ]
  },
  {
   "cell_type": "code",
   "execution_count": null,
   "metadata": {},
   "outputs": [],
   "source": [
    "# Creating a dictionary that shows the number of genres with recorded box office sales for each genre\n",
    "genre_dict_len={}\n",
    "for i in genres:\n",
    "    genre_dict_len[i] = len(movieInfo[(movieInfo[i]==1) & (movieInfo['box_office']>1)]['box_office'])\n",
    "\n",
    "# Create a second Genre Length dictionary for items with over 24 recorded box office sales instances\n",
    "gdl2 = {k:v for (k,v) in genre_dict_len.items() if v>25}"
   ]
  },
  {
   "cell_type": "code",
   "execution_count": null,
   "metadata": {},
   "outputs": [],
   "source": [
    "# Create a new dictionary from the ones above that shows median box office sales \n",
    "# for films with over 24 recorded box office sales instances \n",
    "avgRevforPopularGenres = {k:v for (k,v) in genre_dict2.items() if k in gdl2.keys()}\n",
    "\n",
    "# sort the values\n",
    "avgRevforPopularGenres = {k:v for k,v in sorted(avgRevforPopularGenres.items(), key=lambda item: item[1], reverse = True)}\n"
   ]
  },
  {
   "cell_type": "code",
   "execution_count": null,
   "metadata": {
    "scrolled": false
   },
   "outputs": [],
   "source": [
    "# Plot the median box office sales for films with over 24 recorded box office sales instances\n",
    "fig, ax = plt.subplots(figsize=(5,5))\n",
    "sns.barplot(y = list(avgRevforPopularGenres.keys()), x=list(avgRevforPopularGenres.values()))\n",
    "plt.show()"
   ]
  },
  {
   "cell_type": "markdown",
   "metadata": {},
   "source": [
    "The box plot above shows that Family films has the highest median profit, followed by Action and Adventure, then Fantasy and Science Fiction."
   ]
  },
  {
   "cell_type": "markdown",
   "metadata": {},
   "source": [
    "### Runtime and sales\n",
    "We are going to investigate the effect that box runtime has on box office sales."
   ]
  },
  {
   "cell_type": "code",
   "execution_count": null,
   "metadata": {},
   "outputs": [],
   "source": [
    "# View both columns\n",
    "movieInfo['runtime'].head()\n",
    "movieInfo['box_office'].head()"
   ]
  },
  {
   "cell_type": "code",
   "execution_count": null,
   "metadata": {},
   "outputs": [],
   "source": [
    "# Create new table that only includes rows with recorded sales\n",
    "sales = movieInfo[movieInfo['box_office']>0]\n",
    "\n",
    "# Check to ensure there are no 0s\n",
    "sales['box_office']"
   ]
  },
  {
   "cell_type": "code",
   "execution_count": null,
   "metadata": {
    "scrolled": true
   },
   "outputs": [],
   "source": [
    "# Create a scatterplot to visualize the relationship between box office sales and runtime\n",
    "sns.scatterplot(x=sales['runtime'], y=sales['box_office'])\n",
    "# There looks to be little correlation."
   ]
  },
  {
   "cell_type": "markdown",
   "metadata": {},
   "source": [
    "It looks like there is little correlation between run time and box office sales. This relationship should not be viewed any longer\n",
    "\n",
    "### Gross Income by Year\n",
    "We will view how the gross income has changed across years"
   ]
  },
  {
   "cell_type": "code",
   "execution_count": null,
   "metadata": {},
   "outputs": [],
   "source": [
    "# View the table we are \n",
    "movieGross.head()"
   ]
  },
  {
   "cell_type": "code",
   "execution_count": null,
   "metadata": {},
   "outputs": [],
   "source": [
    "# Change the year column to a data time, and take the median for the\n",
    "movieGross['year'] = pd.to_datetime(movieGross['year']).dt.year\n",
    "dgByYear = movieGross['domestic_gross'].groupby(movieGross['year']).median()"
   ]
  },
  {
   "cell_type": "code",
   "execution_count": null,
   "metadata": {
    "scrolled": true
   },
   "outputs": [],
   "source": [
    "#plot the distribution\n",
    "sns.barplot(x = dgByYear.index, y=dgByYear)"
   ]
  },
  {
   "cell_type": "markdown",
   "metadata": {},
   "source": [
    "There is no clear relationship between year and median gross revenue. This distribution is still interesting to see.\n",
    "\n",
    "### Return on Investment by Month of Release\n",
    "We will determine if there is a relationship between Return on Investment (ROI) and the month a movie is released.\n",
    "\n",
    "                        ROI(%) = profit/cost = (revenue-cost)/cost"
   ]
  },
  {
   "cell_type": "code",
   "execution_count": null,
   "metadata": {},
   "outputs": [],
   "source": [
    "# Making new column for Return on investment\n",
    "#ROI = profit / cost\n",
    "movieBudgets['ROI']=(movieBudgets['worldwide_gross']-movieBudgets['production_budget'])/movieBudgets['production_budget']*100"
   ]
  },
  {
   "cell_type": "code",
   "execution_count": null,
   "metadata": {
    "scrolled": true
   },
   "outputs": [],
   "source": [
    "# Check if the column was created and the numbers are reasonable\n",
    "movieBudgets"
   ]
  },
  {
   "cell_type": "code",
   "execution_count": null,
   "metadata": {},
   "outputs": [],
   "source": [
    "#lets view the distribution of ROI to get a beetter understanding of the data\n",
    "sns.displot(movieBudgetsAdj['ROI'])\n",
    "#This resembles a power law distribution, where most ROI values are around 0"
   ]
  },
  {
   "cell_type": "code",
   "execution_count": null,
   "metadata": {},
   "outputs": [],
   "source": [
    "# To analyze by month and year, we need to convert teh relase date into a data time\n",
    "# Then, we need to make a month column. I added a year in case we want to analyze further\n",
    "movieBudgets['release_date'] = pd.to_datetime(movieBudgets['release_date'])\n",
    "movieBudgets['month'] = movieBudgets['release_date'].dt.month\n",
    "movieBudgets['year'] = movieBudgets['release_date'].dt.year\n",
    "movieBudgets.head()"
   ]
  },
  {
   "cell_type": "code",
   "execution_count": null,
   "metadata": {
    "scrolled": true
   },
   "outputs": [],
   "source": [
    "# Create a distribution plot to visualize the distribution of production budget \n",
    "# This should inform the insights we find\n",
    "sns.displot(movieBudgets['production_budget'])\n",
    "movieBudgets['production_budget'].median()\n",
    "movieBudgets['worldwide_gross'].median()"
   ]
  },
  {
   "cell_type": "code",
   "execution_count": null,
   "metadata": {},
   "outputs": [],
   "source": [
    "# only want ot select movies with bigger budgets and revenue. \n",
    "movieBudgets[(movieBudgets['production_budget']>1000000) & (movieBudgets['worldwide_gross']>1000000)]"
   ]
  },
  {
   "cell_type": "code",
   "execution_count": null,
   "metadata": {},
   "outputs": [],
   "source": [
    "# Create a Series that lists the median ROI based on the month\n",
    "medianByMonth = movieBudgets['ROI'].groupby(movieBudgets['month']).median()\n",
    "\n",
    "# Show the distribution of median ROI by month.\n",
    "sns.barplot(x=medianByMonth.index, y=medianByMonth)\n",
    "# There seems to be a clear difference between ROI and month"
   ]
  },
  {
   "cell_type": "code",
   "execution_count": null,
   "metadata": {
    "scrolled": false
   },
   "outputs": [],
   "source": [
    "# We are going to use this in out presentation so lets make it look nice\n",
    "\n",
    "# movieBudgetAdj to select only movies with large budgets and revenue\n",
    "movieBudgetsAdj = movieBudgets[(movieBudgets['production_budget']>1000000) & (movieBudgets['worldwide_gross']>1000000)]\n",
    "\n",
    "# take the median ROI by month\n",
    "medianByMonthAdj = movieBudgetsAdj['ROI'].groupby(movieBudgetsAdj['month']).median()\n",
    "\n",
    "#set ip chart\n",
    "fig, ax = plt.subplots(figsize = (8,6))\n",
    "# set title of chart\n",
    "ax.set_title('Median ROI by Month')\n",
    "# set colors to emphasize the important months\n",
    "col = ['#A1D3EF','#A1D3EF','#A1D3EF','#A1D3EF','#86bc25','#86bc25','#86bc25','#A1D3EF','#A1D3EF','#A1D3EF','#86bc25','#86bc25']\n",
    "sns.set_palette(sns.color_palette(col))\n",
    "# Create and label the plot\n",
    "sns.barplot(x=medianByMonthAdj.index, y=medianByMonthAdj)\n",
    "ax.set_xticklabels(['Jan','Feb','Mar','Apr','May','Jun','Jul','Aug','Sep','Oct','Nov','Dec'])\n",
    "ax.set_xlabel('Month')\n",
    "ax.set_ylabel('Return on Investment (%)')"
   ]
  },
  {
   "cell_type": "markdown",
   "metadata": {},
   "source": [
    "This visulaization is great to describe the optimal time to relase a movie. Lets make more:"
   ]
  },
  {
   "cell_type": "code",
   "execution_count": null,
   "metadata": {},
   "outputs": [],
   "source": [
    "# Create a boxplot Distribtion of ROI to get a better idea of mins, maxes, and quartiles\n",
    "sns.boxplot(x=movieBudgets['month'], y=movieBudgets['ROI'])\n",
    "# This does not show a lot, lets change the y limits"
   ]
  },
  {
   "cell_type": "code",
   "execution_count": null,
   "metadata": {
    "scrolled": true
   },
   "outputs": [],
   "source": [
    "# Create a stacked boxplot chart to show the distribution of ROI for each genre\n",
    "fig, ax = plt.subplots(figsize = (8,6))\n",
    "ax.set_ylim(-150,1000)\n",
    "ax.set_title(\"ROI by Month\")\n",
    "sns.boxplot(x=movieBudgetsAdj['month'], y=movieBudgetsAdj['ROI'])\n",
    "ax.set_xticklabels(['Jan','Feb','Mar','Apr','May','Jun','Jul','Aug','Sep','Oct','Nov','Dec'])\n",
    "ax.set_xlabel('Month')\n",
    "ax.set_ylabel('Return on Investment')"
   ]
  },
  {
   "cell_type": "code",
   "execution_count": null,
   "metadata": {},
   "outputs": [],
   "source": [
    "julyMedian = medianByMonthAdj[7]\n",
    "TotalMedian = movieBudgetsAdj['ROI'].median()"
   ]
  },
  {
   "cell_type": "markdown",
   "metadata": {},
   "source": [
    "ROI seems to be higher in the green months. Lets try to find out why. Viewing the **mean production budget** may give us some insight"
   ]
  },
  {
   "cell_type": "code",
   "execution_count": null,
   "metadata": {},
   "outputs": [],
   "source": [
    "# get mean budget by month\n",
    "meanBudgetByMonthAdj = movieBudgets['production_budget'].groupby(movieBudgetsAdj['month']).mean()\n",
    "\n",
    "# Create and format graph\n",
    "fig, ax = plt.subplots(figsize = (8,6))\n",
    "ax.set_title('Mean Production Budget by Month')\n",
    "col = ['#A1D3EF','#A1D3EF','#A1D3EF','#A1D3EF','#86bc25','#86bc25','#86bc25','#A1D3EF','#A1D3EF','#A1D3EF','#86bc25','#86bc25']\n",
    "sns.set_palette(sns.color_palette(col))\n",
    "sns.barplot(x=meanBudgetByMonthAdj.index, y=meanBudgetByMonthAdj/1000000)\n",
    "ax.set_xticklabels(['Jan','Feb','Mar','Apr','May','Jun','Jul','Aug','Sep','Oct','Nov','Dec'])\n",
    "ax.set_xlabel('Month')\n",
    "ax.set_ylabel('Production Budget (in Millions of $)')"
   ]
  },
  {
   "cell_type": "code",
   "execution_count": null,
   "metadata": {
    "scrolled": true
   },
   "outputs": [],
   "source": [
    "# Create a stacked boxplot chart to show the distribution of Production budget for each genre\n",
    "fig, ax = plt.subplots(figsize = (8,6))\n",
    "ax.set_ylim(-150,200000000)\n",
    "ax.set_title(\"Production Budget by Month\")\n",
    "sns.boxplot(x=movieBudgets['month'], y=movieBudgets['production_budget'])\n",
    "ax.set_xticklabels(['Jan','Feb','Mar','Apr','May','Jun','Jul','Aug','Sep','Oct','Nov','Dec'])\n",
    "ax.set_xlabel('Month')\n",
    "ax.set_ylabel('Production Budget')"
   ]
  },
  {
   "cell_type": "markdown",
   "metadata": {},
   "source": [
    "The Production Budget is also higher, which means that they likely put more effort into those movies. Lets also view the gross earnings by month:"
   ]
  },
  {
   "cell_type": "code",
   "execution_count": null,
   "metadata": {},
   "outputs": [],
   "source": [
    "movieBudgetsAdj = movieBudgets[(movieBudgets['production_budget']>1000000) & (movieBudgets['worldwide_gross']>1000000)]\n",
    "fig, ax = plt.subplots(figsize = (12,8))\n",
    "ax.set_ylim(-10000000,1000000000)\n",
    "ax.set_title(\"Gross Earnings by Month\")\n",
    "sns.boxplot(x=movieBudgetsAdj['month'], y=movieBudgetsAdj['worldwide_gross'])\n",
    "ax.set_xticklabels(['Jan','Feb','Mar','Apr','May','Jun','Jul','Aug','Sep','Oct','Nov','Dec'])\n",
    "ax.set_xlabel('Month')\n",
    "ax.set_ylabel('Gross Earnings')"
   ]
  },
  {
   "cell_type": "markdown",
   "metadata": {},
   "source": [
    "This distribution is very similar to the last two.\n",
    "\n",
    "Finally, we will run statistical tests to ensure that this relationship is significant. We will start with a t-test:\n",
    "\n",
    "**H0:** July mean ROI  <=  Population mean ROI\n",
    "\n",
    "**H1:** July mean ROI > Population mean ROI"
   ]
  },
  {
   "cell_type": "code",
   "execution_count": null,
   "metadata": {},
   "outputs": [],
   "source": [
    "# Create a function to run a t-test on some data given the information\n",
    "def one_sample_ttest(sample, popmean, alpha):\n",
    "\n",
    "    # Visualize sample distribution for normality \n",
    "    sns.displot(sample)\n",
    "    \n",
    "    # Population mean \n",
    "    mu = popmean\n",
    "    \n",
    "    # Sample mean (x̄) using NumPy mean()\n",
    "    xbar = np.mean(sample)\n",
    "    n = len(sample)\n",
    "    \n",
    "    # Sample Standard Deviation (sigma) using Numpy\n",
    "    s = np.std(sample, ddof = 1)\n",
    "    \n",
    "    # Degrees of freedom\n",
    "    df = n-1\n",
    "    \n",
    "    # Calculate the critical t-value\n",
    "    t_crit = stats.t.ppf(1-alpha, df=df)\n",
    "    \n",
    "    # Calculate the results     \n",
    "    results = stats.ttest_1samp(a=sample, popmean=mu)   \n",
    "    # return results\n",
    "    return results"
   ]
  },
  {
   "cell_type": "code",
   "execution_count": null,
   "metadata": {},
   "outputs": [],
   "source": [
    "julyROI = list(movieBudgetsAdj[movieBudgetsAdj['month']==7]['ROI'])\n",
    "mu=movieBudgetsAdj['ROI'].mean()\n",
    "alpha=.9\n",
    "one_sample_ttest(julyROI, mu, alpha)"
   ]
  },
  {
   "cell_type": "markdown",
   "metadata": {},
   "source": [
    "The P value for this test is only .21, which means we can reject the null hypothesis with 79% certainty. This is not great. We cannot comfortably say that the July mean ROI is significantly different.\n",
    "\n",
    "This is not the end of our tests. We can still prove something else. In this case, we can use an ANOVA to prove that the means for all months are not equal. We will choose an alpha value of .9\n",
    "\n",
    "**H0:** The mean ROI is equal across all months\n",
    "**H1:** The mean ROI is not equal across all months (at least one month is not the same as another)"
   ]
  },
  {
   "cell_type": "code",
   "execution_count": null,
   "metadata": {},
   "outputs": [],
   "source": [
    "di = {}\n",
    "for i in range(1,13):\n",
    "    di[i]=movieBudgetsAdj[movieBudgetsAdj['month']==i]['ROI']\n",
    "    di[i] = list(di[i].values)\n",
    "stats.f_oneway(di[1],di[2],di[3],di[4],di[5],di[6],di[7],di[8],di[9],di[10],di[11],di[12])"
   ]
  },
  {
   "cell_type": "code",
   "execution_count": null,
   "metadata": {},
   "outputs": [],
   "source": [
    "# Alternatively\n",
    "import statsmodels.api as sm\n",
    "from statsmodels.formula.api import ols\n",
    "\n",
    "#perform ANOVA\n",
    "mbCat = movieBudgetsAdj.copy()\n",
    "mbCat['month'] = mbCat['month'].astype(str)\n",
    "\n",
    "model = ols('ROI ~ C(month)', data=mbCat).fit()\n",
    "sm.stats.anova_lm(model, typ=2)"
   ]
  },
  {
   "cell_type": "code",
   "execution_count": null,
   "metadata": {},
   "outputs": [],
   "source": [
    "mbCat['month'].value_counts()"
   ]
  },
  {
   "cell_type": "markdown",
   "metadata": {},
   "source": [
    "The p-value of this test is .051. This means that with about 95% certiainty, we can say that the mean ROI differes significantly between months. This is great news, as it statistically proves the impact of month on ROI\n",
    "\n",
    "Below, we will use some statistical methods to create models to try to predict ROI and Box Office Sales, respectively."
   ]
  },
  {
   "cell_type": "code",
   "execution_count": null,
   "metadata": {},
   "outputs": [],
   "source": [
    "# Run Regression model, Trying to use the month of the year to predict ROI \n",
    "mod = ols(formula='ROI ~ month', data = mbCat)\n",
    "res = mod.fit()\n",
    "print(res.summary())"
   ]
  },
  {
   "cell_type": "markdown",
   "metadata": {},
   "source": [
    "The P value for each month can be seen in the P>|t| column. No months have prediction capabilities with a p value less than .05. However, the p-value does reveal which months have the most certian effect on ROI, indicated by the lowest p-values. The coefficeint reveal the strength of the relationship between ROI and month, as well as the direction. The higher the coefficient, the greater impact the month has on ROI. Months with negative coefficeints decrease ROI.  \n",
    "\n"
   ]
  },
  {
   "cell_type": "code",
   "execution_count": null,
   "metadata": {
    "scrolled": true
   },
   "outputs": [],
   "source": [
    "# Build a regression model to predict box office sales based on runtime, rating, and genre.\n",
    "cleanMI = movieInfo[(movieInfo['runtime']>30)& (movieInfo['box_office']>0)]\n",
    "mod = ols(formula='box_office ~ runtime + rating + Documentary + Q(\"Art House and International\") + Western +\\\n",
    "    Horror + Q(\"Cult Movies\") + Action + Q(\"TV Movie\") + Comedy + Mystery + Q(\"Faith and Spirituality\") +\\\n",
    "    Classics + Fantasy + Q(\"Special Interest\") + Drama + Animation + Q(\"Anime and Manga\")+\\\n",
    "    Q(\"Gay and Lesbian\") + Family  + Music + Romance + Q(\"Sports and Fitness\")', data = cleanMI)\n",
    "res = mod.fit()\n",
    "print(res.summary())"
   ]
  },
  {
   "cell_type": "markdown",
   "metadata": {},
   "source": [
    "Some interesting observations can be seen:\n",
    "- unrated movies have a large negative effect on the sales (makes sense because likely smaller)\n",
    "- greater runtime indicated more sales. This is likely because movies with very small run time do not do well (Coeff = 9.975e+05 ; p = 0.0)\n",
    "- Art House and International perform poorly (Coeff = -1.74e+07 ; p = 0.081)\n",
    "- Western Movies Perform Poorly (Coeff = -3.773e+07 ; p = 0.076)\n",
    "- Action movies sell well (Coeff = 2.005e+07 ; p = 0.009) (very strong relationship)\n",
    "- Classics Perform Poorly (Coeff = -9.378e+07 ; p = 0.014) (strong relationship)\n",
    "- Fantasy Performs Well (Coeff = 2.114e+07 ; p = 0.048) (strong relationship)\n",
    "- Drama performs poorly (Coeff = -1.936e+07 ; p = 0.006)\n",
    "\n",
    "While ROI and Sales are hard to predict, trying to predict them gave some interesting insights"
   ]
  },
  {
   "cell_type": "markdown",
   "metadata": {},
   "source": [
    "### Finding Top 50 Profitable Movies in MovieInfo"
   ]
  },
  {
   "cell_type": "code",
   "execution_count": null,
   "metadata": {},
   "outputs": [],
   "source": [
    "# Convert genre_ids into list\n",
    "#library with function for us to complete this operation\n",
    "import ast\n",
    "#converts all strings into a list\n",
    "movieInfo.genre = movieInfo.genre.map(lambda x: ast.literal_eval(x))"
   ]
  },
  {
   "cell_type": "code",
   "execution_count": null,
   "metadata": {},
   "outputs": [],
   "source": [
    "# copy dataframe for safety and ease\n",
    "mi = movieInfo.copy()"
   ]
  },
  {
   "cell_type": "code",
   "execution_count": null,
   "metadata": {
    "scrolled": true
   },
   "outputs": [],
   "source": [
    "# make sub dataframe uf the top 50 movies\n",
    "top_mi = mi.sort_values(by=['box_office'],ascending=False)[0:50]\n",
    "top_mi"
   ]
  },
  {
   "cell_type": "markdown",
   "metadata": {},
   "source": [
    "Identifying and charting top genres"
   ]
  },
  {
   "cell_type": "code",
   "execution_count": null,
   "metadata": {},
   "outputs": [],
   "source": [
    "# make list and frequency distribution of top genres\n",
    "top_genres=[]\n",
    "for genres in top_mi['genre']:\n",
    "    top_genres += genres\n",
    "genre_freq = {}\n",
    "for g in top_genres:\n",
    "    if g not in genre_freq.keys():\n",
    "        genre_freq[g] = 1\n",
    "    else:\n",
    "        genre_freq[g] += 1\n"
   ]
  },
  {
   "cell_type": "code",
   "execution_count": null,
   "metadata": {},
   "outputs": [],
   "source": [
    "chart_genre = pd.Series(genre_freq)\n",
    "chart_genre = chart_genre.sort_values(ascending = False)\n",
    "chart_genre.plot(kind = 'bar', \n",
    "                 title = 'Genres in Top 50 Movies',\n",
    "                 xlabel=\"Genres\",\n",
    "                 ylabel='Number of Movies',\n",
    "                 fontsize=24)"
   ]
  },
  {
   "cell_type": "markdown",
   "metadata": {},
   "source": [
    "Comparing top genres to genres of all movies"
   ]
  },
  {
   "cell_type": "code",
   "execution_count": null,
   "metadata": {},
   "outputs": [],
   "source": [
    "# make list and frequency distribution of all genres\n",
    "all_genres=[]\n",
    "for genres in mi['genre']:\n",
    "    if '-' not in genres:\n",
    "        all_genres += genres\n",
    "genre_freq_all = {}\n",
    "for g in all_genres:\n",
    "    if g not in genre_freq_all.keys():\n",
    "        genre_freq_all[g] = 1\n",
    "    else:\n",
    "        genre_freq_all[g] += 1        \n",
    "abb_genres = ['Act',\n",
    "              'Adv',\n",
    "              'Anim',\n",
    "              'Anime',\n",
    "              'Art',\n",
    "              'Class',\n",
    "              'Com',\n",
    "              'Cult',\n",
    "              'Doc',\n",
    "              'Drama',\n",
    "              'Faith',\n",
    "              'Fam',\n",
    "              'Fant',\n",
    "              'LGBTQ+',\n",
    "              'Hor',\n",
    "              'Mus',\n",
    "              'Myst',\n",
    "              'Rom',\n",
    "              'Sci-Fi',\n",
    "              'Sp Int',\n",
    "              'Sports',\n",
    "              'TV',\n",
    "              'West'\n",
    "             ]\n",
    "genre_keys = sorted(list(set(all_genres)))\n",
    "genre_legend={}\n",
    "for i in range(len(genre_keys)):\n",
    "    genre_legend[genre_keys[i]]=abb_genres[i]\n"
   ]
  },
  {
   "cell_type": "code",
   "execution_count": null,
   "metadata": {},
   "outputs": [],
   "source": [
    "all_genre = pd.Series(genre_freq_all)\n",
    "chart_genre_all = all_genre.sort_values(ascending = False)\n",
    "chart_genre_all.plot(kind = 'bar', \n",
    "                     title = 'Genres in All Movies',\n",
    "                     xlabel=\"Genres\",\n",
    "                     ylabel='Number of Movies',\n",
    "                     fontsize=18)"
   ]
  },
  {
   "cell_type": "markdown",
   "metadata": {},
   "source": [
    "Finding most common combos of genres"
   ]
  },
  {
   "cell_type": "code",
   "execution_count": null,
   "metadata": {},
   "outputs": [],
   "source": [
    "# make frequency distribution of all genre combos\n",
    "genre_combos = mi['genre']\n",
    "genre_combos = genre_combos.map(lambda x: ', '.join([genre_legend[i]for i in x if i != '-']))\n",
    "genre_combo_freq = {}\n",
    "for g in genre_combos:\n",
    "    if g not in genre_combo_freq.keys():\n",
    "        genre_combo_freq[g] = 1\n",
    "    else:\n",
    "        genre_combo_freq[g] += 1\n"
   ]
  },
  {
   "cell_type": "code",
   "execution_count": null,
   "metadata": {},
   "outputs": [],
   "source": [
    "chart_combos = pd.Series(genre_combo_freq)\n",
    "chart_combos = chart_combos.sort_values(ascending = False)[:20]\n",
    "# chart_combos = chart_combos.sort_values(ascending = True)\n",
    "chart_combos.plot(kind = 'barh', \n",
    "                  title = 'Common Genre Combinations in All Movies',\n",
    "                  xlabel=\"Genres\",\n",
    "                  ylabel='Number of Movies',\n",
    "                  fontsize=16)"
   ]
  },
  {
   "cell_type": "markdown",
   "metadata": {},
   "source": [
    "Making final visualization with color coding to emphasize the science fiction and fantasy genres"
   ]
  },
  {
   "cell_type": "code",
   "execution_count": null,
   "metadata": {},
   "outputs": [],
   "source": [
    "# using seaborn to make style consistent with other group members' charts\n",
    "fig, ax = plt.subplots(figsize = (8,6))\n",
    "sns.set_context('talk',font_scale=.99)\n",
    "sns.set_style('darkgrid')\n",
    "ax.set_title('Common Genre Combinations in All Movies')\n",
    "# color coding the sci fi fantasy movies\n",
    "col = ['#A1D3EF',\n",
    "       '#A1D3EF',\n",
    "       '#A1D3EF',\n",
    "       '#A1D3EF',\n",
    "       '#A1D3EF',\n",
    "       '#A1D3EF',\n",
    "       '#A1D3EF',\n",
    "       '#A1D3EF',\n",
    "       '#A1D3EF',\n",
    "       '#A1D3EF',\n",
    "       '#A1D3EF',\n",
    "       '#648D1C',\n",
    "       '#A1D3EF',\n",
    "       '#A1D3EF',\n",
    "       '#A1D3EF',\n",
    "       '#A1D3EF',\n",
    "       '#A1D3EF',\n",
    "       '#A1D3EF',\n",
    "       '#A1D3EF',\n",
    "       '#A1D3EF']\n",
    "sns.set_palette(sns.color_palette(col))\n",
    "sns.barplot(y=chart_combos.index,x=chart_combos)\n",
    "ax.set_xlabel('Frequency')\n",
    "ax.set_ylabel('Genres')"
   ]
  },
  {
   "cell_type": "code",
   "execution_count": null,
   "metadata": {},
   "outputs": [],
   "source": [
    "# make frequency distribution of top genre combos\n",
    "top_combos = top_mi['genre']\n",
    "top_combos = top_combos.map(lambda x: ', '.join([genre_legend[i]for i in x if i != '-']))\n",
    "top_combo_freq = {}\n",
    "for g in top_combos:\n",
    "    if g not in top_combo_freq.keys():\n",
    "        top_combo_freq[g] = 1\n",
    "    else:\n",
    "        top_combo_freq[g] += 1"
   ]
  },
  {
   "cell_type": "code",
   "execution_count": null,
   "metadata": {},
   "outputs": [],
   "source": [
    "chart_combos_top = pd.Series(top_combo_freq)\n",
    "chart_combos_top = chart_combos_top.sort_values(ascending = False)[:20]\n",
    "# chart_combos_top = chart_combos_top.sort_values(ascending = True)\n",
    "chart_combos_top.plot(kind = 'barh', \n",
    "                      title = 'Genre Combinations in Top 50 Movies',\n",
    "                      xlabel=\"Genres\",\n",
    "                      ylabel='Number of Movies',\n",
    "                      fontsize=18)"
   ]
  },
  {
   "cell_type": "markdown",
   "metadata": {},
   "source": [
    "Making final visualization with color coding to emphasize the science fiction and fantasy genres"
   ]
  },
  {
   "cell_type": "code",
   "execution_count": null,
   "metadata": {},
   "outputs": [],
   "source": [
    "# using seaborn to make style consistent with other group members' charts\n",
    "fig, ax = plt.subplots(figsize = (8,6))\n",
    "sns.set_context('talk',font_scale=.99)\n",
    "sns.set_style('darkgrid')\n",
    "ax.set_title('Genre Combinations in Top 50 Movies')\n",
    "# color coding the sci fi fantasy movies\n",
    "col = ['#A1D3EF',\n",
    "       '#648D1C',\n",
    "       '#A1D3EF',\n",
    "       '#A1D3EF',\n",
    "       '#A1D3EF',\n",
    "       '#A1D3EF',\n",
    "       '#A1D3EF',\n",
    "       '#A1D3EF',\n",
    "       '#A1D3EF',\n",
    "       '#648D1C',\n",
    "       '#648D1C',\n",
    "       '#A1D3EF',\n",
    "       '#648D1C',\n",
    "       '#648D1C',\n",
    "       '#A1D3EF',\n",
    "       '#A1D3EF',\n",
    "       '#648D1C',\n",
    "       '#A1D3EF',\n",
    "       '#A1D3EF',\n",
    "       '#648D1C']\n",
    "sns.set_palette(sns.color_palette(col))\n",
    "sns.barplot(y=chart_combos_top.index,x=chart_combos_top)\n",
    "ax.set_xlabel('Frequency')\n",
    "ax.set_ylabel('Genres')"
   ]
  },
  {
   "cell_type": "markdown",
   "metadata": {},
   "source": [
    "### Exploring Common Words in Descriptions of Top 50 Films"
   ]
  },
  {
   "cell_type": "code",
   "execution_count": null,
   "metadata": {},
   "outputs": [],
   "source": [
    "# importing Natural Language Toolkit for tokenization\n",
    "import nltk\n",
    "nltk.download(\"stopwords\")\n",
    "nltk.download('punkt')\n",
    "from nltk.corpus import stopwords\n",
    "from nltk.tokenize import word_tokenize"
   ]
  },
  {
   "cell_type": "code",
   "execution_count": null,
   "metadata": {},
   "outputs": [],
   "source": [
    "# making list of words in the synopses of top 50 movies\n",
    "top_corpus = []\n",
    "for i in range(50):\n",
    "    top_corpus += word_tokenize(top_mi['synopsis'].iloc[i])\n",
    "    \n",
    "# excluding common stop words and punctuation\n",
    "stops = stopwords.words('english')\n",
    "punctuation = \"\"\"!@#$%^&*()_+-={}[]:;\"'<>?,./\"\"\"\n",
    "words_to_cut = [\"'s\",'--',\"'nt\",\"'snt\",\"''\",\"``\",\"n't\",\"c\",\"also\",\"...\",\"'ll\",\"'re\"]\n",
    "top_corpus = [x.lower() for x in top_corpus if x.lower() not in stops and\\\n",
    "              x not in punctuation and x not in words_to_cut]\n",
    "\n",
    "# making frequency distribution as a dict, then a pandas Series\n",
    "corp_freq = {}\n",
    "for word in top_corpus:\n",
    "    if word not in corp_freq.keys():\n",
    "        corp_freq[word] = 1\n",
    "    else:\n",
    "        corp_freq[word] += 1\n",
    "frequencies = pd.Series(corp_freq)\n",
    "chart_freq = frequencies.sort_values(ascending = False)[:20]\n"
   ]
  },
  {
   "cell_type": "markdown",
   "metadata": {},
   "source": [
    "Charting Findings"
   ]
  },
  {
   "cell_type": "code",
   "execution_count": null,
   "metadata": {},
   "outputs": [],
   "source": [
    "chart_freq.plot(kind = 'bar', \n",
    "                title = 'Most Common Words in Top 50 Movie Descriptions',\n",
    "                xlabel=\"Words\",\n",
    "                ylabel='Frequency',\n",
    "                fontsize=20,\n",
    "                rot = 65)"
   ]
  },
  {
   "cell_type": "markdown",
   "metadata": {},
   "source": [
    "### Exploring Common Words of Reviews of \"Fresh\" Movies"
   ]
  },
  {
   "cell_type": "code",
   "execution_count": null,
   "metadata": {},
   "outputs": [],
   "source": [
    "# quick look at review data\n",
    "reviews.head()"
   ]
  },
  {
   "cell_type": "code",
   "execution_count": null,
   "metadata": {},
   "outputs": [],
   "source": [
    "# make Series of reviews with 'fresh' rating\n",
    "reviews_best = reviews[reviews['fresh']=='fresh']['review']\n",
    "reviews_best.head()"
   ]
  },
  {
   "cell_type": "code",
   "execution_count": null,
   "metadata": {},
   "outputs": [],
   "source": [
    "# making list of words in the synopses of top 50 movies\n",
    "review_corpus = []\n",
    "for i in range(len(reviews_best)):\n",
    "    review_corpus += word_tokenize(reviews_best.iloc[i])\n",
    "    \n",
    "# excluding common stop words and punctuation\n",
    "review_corpus = [x.lower() for x in review_corpus if x.lower() not in stops\\\n",
    "                 and x not in punctuation and x not in words_to_cut]\n",
    "\n",
    "# making frequency distribution as a dict, then a pandas Series\n",
    "review_freq = {}\n",
    "for word in review_corpus:\n",
    "    if word not in review_freq.keys():\n",
    "        review_freq[word] = 1\n",
    "    else:\n",
    "        review_freq[word] += 1\n",
    "r_frequencies = pd.Series(review_freq)\n",
    "chart_review = r_frequencies.sort_values(ascending = False)[:20]\n"
   ]
  },
  {
   "cell_type": "code",
   "execution_count": null,
   "metadata": {},
   "outputs": [],
   "source": [
    "# charting results\n",
    "chart_review.plot(kind = 'bar', \n",
    "                  title = 'Most Common Words in \"Fresh\" Movie Reviews',\n",
    "                  xlabel=\"Words\",\n",
    "                  ylabel='Frequency',\n",
    "                  fontsize=18,\n",
    "                  rot = 65)"
   ]
  },
  {
   "cell_type": "markdown",
   "metadata": {},
   "source": [
    "### Testing for Significance in Sci-fi Fantasy Profit"
   ]
  },
  {
   "cell_type": "code",
   "execution_count": null,
   "metadata": {},
   "outputs": [],
   "source": [
    "tmdbMovies['movie'] = tmdbMovies['original_title']\n",
    "tmdbMovies.head()"
   ]
  },
  {
   "cell_type": "code",
   "execution_count": null,
   "metadata": {},
   "outputs": [],
   "source": [
    "tmdbMovies = tmdbMovies.drop_duplicates()\n",
    "tmdbMovies.duplicated().value_counts()"
   ]
  },
  {
   "cell_type": "code",
   "execution_count": null,
   "metadata": {},
   "outputs": [],
   "source": [
    "# attempting to merge movieBudgets and tmdbMovies\n",
    "# to get dataframe with genre and cost and income\n",
    "df_merged = pd.merge(movieBudgets,tmdbMovies,on=['movie'],how = 'inner')\n",
    "df_merged.head()"
   ]
  },
  {
   "cell_type": "code",
   "execution_count": null,
   "metadata": {
    "scrolled": true
   },
   "outputs": [],
   "source": [
    "# seeing how many values are missing in worldwide and domestic gross\n",
    "df_merged['worldwide_gross'].value_counts()"
   ]
  },
  {
   "cell_type": "code",
   "execution_count": null,
   "metadata": {},
   "outputs": [],
   "source": [
    "# since there are more missing values in domestic, I will use worldwide gross\n",
    "df_merged['domestic_gross'].value_counts()"
   ]
  },
  {
   "cell_type": "code",
   "execution_count": null,
   "metadata": {},
   "outputs": [],
   "source": [
    "rows_to_drop = df_merged[df_merged['worldwide_gross']==0].index\n",
    "df_merged=df_merged.drop(rows_to_drop)\n",
    "df_merged['worldwide_gross'].value_counts()"
   ]
  },
  {
   "cell_type": "code",
   "execution_count": null,
   "metadata": {},
   "outputs": [],
   "source": [
    "# making column for worldwide profit\n",
    "df_merged['profit']=df_merged['worldwide_gross']-df_merged['production_budget']\n",
    "df_merged.head()"
   ]
  },
  {
   "cell_type": "code",
   "execution_count": null,
   "metadata": {},
   "outputs": [],
   "source": [
    "# making Series of the profits of sci-fi fantasy movies\n",
    "sff_profits = df_merged[(df_merged['Science Fiction']==1)\\\n",
    "                        |(df_merged['Fantasy']==1)]['profit']\n",
    "# making Series of the profits of all movies\n",
    "all_profits = df_merged['profit']"
   ]
  },
  {
   "cell_type": "markdown",
   "metadata": {},
   "source": [
    "Null Hypothesis:\n",
    "    There is no difference in profits in Sci-Fi and Fantasy movies from the population\n",
    "\n",
    "Alternative Hypothesis:\n",
    "    Profits of Sci-fi and Fantasy movies are higher than the population\n",
    "    \n",
    "alpha = 0.01\n",
    "\n",
    "99% confidence"
   ]
  },
  {
   "cell_type": "code",
   "execution_count": null,
   "metadata": {},
   "outputs": [],
   "source": [
    "# calculating z statistic\n",
    "mu = all_profits.mean()\n",
    "x_bar = sff_profits.mean()\n",
    "sigma = np.std(all_profits)\n",
    "n = len(sff_profits)\n",
    "\n",
    "z= (x_bar - mu)/(sigma/math.sqrt(n))\n",
    "z"
   ]
  },
  {
   "cell_type": "code",
   "execution_count": null,
   "metadata": {},
   "outputs": [],
   "source": [
    "# calculating p-value\n",
    "stats.norm.cdf(z)\n",
    "pval = 1- stats.norm.cdf(z)\n",
    "pval"
   ]
  },
  {
   "cell_type": "code",
   "execution_count": null,
   "metadata": {},
   "outputs": [],
   "source": [
    "print(f'Average Profit of All Films: {mu}')\n",
    "print(f'Average Profit of Sci-fi and Fantasy Films: {x_bar}')"
   ]
  },
  {
   "cell_type": "markdown",
   "metadata": {},
   "source": [
    "I reject the null hypothesis with a 99% confidence level"
   ]
  },
  {
   "cell_type": "markdown",
   "metadata": {},
   "source": [
    "# Conclusions"
   ]
  },
  {
   "cell_type": "markdown",
   "metadata": {},
   "source": [
    "This analysis leads to three recommendations for Computing Vision as they move into the film industry:\n",
    "\n",
    "    1. Focus on release month\n",
    "    2. Critics' reviews don't impact the profitability of a film\n",
    "    3. Explore the science fiction fantasy genre\n",
    "Based on our recommendations there is information that you should know as you create your studio and first films.\n",
    "- The month a movie is released is correlated with ROI\n",
    "- Critics’ reviews don’t have a large influence in the profitability of a film\n",
    "- Science Fiction Fantasy poses a large opportunity for profitable films\n",
    "- Art is subjective and there are many other factors that can impact profitability"
   ]
  },
  {
   "cell_type": "markdown",
   "metadata": {},
   "source": [
    "# Next Steps"
   ]
  },
  {
   "cell_type": "markdown",
   "metadata": {},
   "source": [
    "- Plan movie releases around popular months and “Dump Months”\n",
    "- Focus on audience reviews and quality over critics’ reviews\n",
    "- Create films that utilize the Science Fiction Fantasy genre\n",
    "- Continue film industry research into areas such as streaming platforms, multimedia releases, and utilizing Artificial Intelligence.\n"
   ]
  }
 ],
 "metadata": {
  "kernelspec": {
   "display_name": "Python 3",
   "language": "python",
   "name": "python3"
  },
  "language_info": {
   "codemirror_mode": {
    "name": "ipython",
    "version": 3
   },
   "file_extension": ".py",
   "mimetype": "text/x-python",
   "name": "python",
   "nbconvert_exporter": "python",
   "pygments_lexer": "ipython3",
   "version": "3.8.5"
  }
 },
 "nbformat": 4,
 "nbformat_minor": 4
}
